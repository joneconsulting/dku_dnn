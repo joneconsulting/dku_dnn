{
 "cells": [
  {
   "cell_type": "code",
   "execution_count": 1,
   "metadata": {
    "executionInfo": {
     "elapsed": 992,
     "status": "ok",
     "timestamp": 1601697138771,
     "user": {
      "displayName": "Dowon Lee",
      "photoUrl": "",
      "userId": "13897648702981529913"
     },
     "user_tz": -540
    },
    "id": "W7G5RvJ9Ilw8"
   },
   "outputs": [],
   "source": [
    "from __future__ import absolute_import, division, print_function, unicode_literals\n"
   ]
  },
  {
   "cell_type": "code",
   "execution_count": 2,
   "metadata": {
    "colab": {
     "base_uri": "https://localhost:8080/",
     "height": 87
    },
    "executionInfo": {
     "elapsed": 3455,
     "status": "ok",
     "timestamp": 1601697141242,
     "user": {
      "displayName": "Dowon Lee",
      "photoUrl": "",
      "userId": "13897648702981529913"
     },
     "user_tz": -540
    },
    "id": "t3QythVEJKEC",
    "outputId": "59dcf499-9980-4a5a-aedc-972376913a71"
   },
   "outputs": [
    {
     "name": "stdout",
     "output_type": "stream",
     "text": [
      "Requirement already satisfied: imageio in /opt/anaconda3/lib/python3.8/site-packages (2.9.0)\n",
      "Requirement already satisfied: pillow in /opt/anaconda3/lib/python3.8/site-packages (from imageio) (7.2.0)\n",
      "Requirement already satisfied: numpy in /opt/anaconda3/lib/python3.8/site-packages (from imageio) (1.18.5)\n"
     ]
    }
   ],
   "source": [
    "!pip install imageio"
   ]
  },
  {
   "cell_type": "code",
   "execution_count": 3,
   "metadata": {
    "executionInfo": {
     "elapsed": 4791,
     "status": "ok",
     "timestamp": 1601697142584,
     "user": {
      "displayName": "Dowon Lee",
      "photoUrl": "",
      "userId": "13897648702981529913"
     },
     "user_tz": -540
    },
    "id": "hJ7RflLuJS-u"
   },
   "outputs": [],
   "source": [
    "import glob\n",
    "import imageio\n",
    "import matplotlib.pyplot as plt\n",
    "import numpy as np\n",
    "import os\n",
    "import PIL\n",
    "from tensorflow.keras import layers\n",
    "import time\n",
    "\n",
    "from IPython import display\n",
    "\n",
    "\n",
    "import tensorflow as tf\n"
   ]
  },
  {
   "cell_type": "markdown",
   "metadata": {
    "id": "IwMQH4aTJWlD"
   },
   "source": [
    "### STEP #1: IMPORT DATASETS AND NORMALIZE IT"
   ]
  },
  {
   "cell_type": "code",
   "execution_count": 4,
   "metadata": {
    "colab": {
     "base_uri": "https://localhost:8080/",
     "height": 70
    },
    "executionInfo": {
     "elapsed": 1341,
     "status": "ok",
     "timestamp": 1601698128006,
     "user": {
      "displayName": "Dowon Lee",
      "photoUrl": "",
      "userId": "13897648702981529913"
     },
     "user_tz": -540
    },
    "id": "vtTdJ4iTJUlp",
    "outputId": "2149a2fb-d7ad-44e4-8d9b-94e882aec75c"
   },
   "outputs": [],
   "source": [
    "# (train_images, train_labels), (_, _) = tf.keras.datasets.fashion_mnist.load_data()\n",
    "(train_images, train_labels), (_, _) = tf.keras.datasets.mnist.load_data()\n"
   ]
  },
  {
   "cell_type": "code",
   "execution_count": 5,
   "metadata": {
    "colab": {
     "base_uri": "https://localhost:8080/",
     "height": 34
    },
    "executionInfo": {
     "elapsed": 4779,
     "status": "ok",
     "timestamp": 1601697142586,
     "user": {
      "displayName": "Dowon Lee",
      "photoUrl": "",
      "userId": "13897648702981529913"
     },
     "user_tz": -540
    },
    "id": "P6Q3cNpPJZa8",
    "outputId": "35a0fdd4-8dbe-4230-fd17-a3a5a82f3207"
   },
   "outputs": [
    {
     "data": {
      "text/plain": [
       "(60000, 28, 28)"
      ]
     },
     "execution_count": 5,
     "metadata": {},
     "output_type": "execute_result"
    }
   ],
   "source": [
    "train_images.shape"
   ]
  },
  {
   "cell_type": "code",
   "execution_count": 6,
   "metadata": {
    "colab": {
     "base_uri": "https://localhost:8080/",
     "height": 34
    },
    "executionInfo": {
     "elapsed": 4772,
     "status": "ok",
     "timestamp": 1601697142586,
     "user": {
      "displayName": "Dowon Lee",
      "photoUrl": "",
      "userId": "13897648702981529913"
     },
     "user_tz": -540
    },
    "id": "x7VeFZ6WJbFA",
    "outputId": "92c97eb9-ff90-4a5d-9b47-7609388f4ff3"
   },
   "outputs": [
    {
     "data": {
      "text/plain": [
       "(60000,)"
      ]
     },
     "execution_count": 6,
     "metadata": {},
     "output_type": "execute_result"
    }
   ],
   "source": [
    "train_labels.shape"
   ]
  },
  {
   "cell_type": "code",
   "execution_count": 7,
   "metadata": {
    "executionInfo": {
     "elapsed": 981,
     "status": "ok",
     "timestamp": 1601698131499,
     "user": {
      "displayName": "Dowon Lee",
      "photoUrl": "",
      "userId": "13897648702981529913"
     },
     "user_tz": -540
    },
    "id": "yPNgRDOZJb7r"
   },
   "outputs": [],
   "source": [
    "train_images = train_images.reshape(train_images.shape[0], 28, 28, 1).astype('float32')\n"
   ]
  },
  {
   "cell_type": "code",
   "execution_count": 8,
   "metadata": {
    "colab": {
     "base_uri": "https://localhost:8080/",
     "height": 34
    },
    "executionInfo": {
     "elapsed": 961,
     "status": "ok",
     "timestamp": 1601698132958,
     "user": {
      "displayName": "Dowon Lee",
      "photoUrl": "",
      "userId": "13897648702981529913"
     },
     "user_tz": -540
    },
    "id": "09jjc-9KJc10",
    "outputId": "ccd2f4c2-01b2-4406-8072-c7c984ec0091"
   },
   "outputs": [
    {
     "data": {
      "text/plain": [
       "(60000, 28, 28, 1)"
      ]
     },
     "execution_count": 8,
     "metadata": {},
     "output_type": "execute_result"
    }
   ],
   "source": [
    "train_images.shape"
   ]
  },
  {
   "cell_type": "code",
   "execution_count": 9,
   "metadata": {
    "executionInfo": {
     "elapsed": 1120,
     "status": "ok",
     "timestamp": 1601698133914,
     "user": {
      "displayName": "Dowon Lee",
      "photoUrl": "",
      "userId": "13897648702981529913"
     },
     "user_tz": -540
    },
    "id": "2bnsliLnJd8V"
   },
   "outputs": [],
   "source": [
    "train_images = (train_images - 127.5) / 127.5 # Normalize the images to [-1, 1]"
   ]
  },
  {
   "cell_type": "code",
   "execution_count": 10,
   "metadata": {
    "executionInfo": {
     "elapsed": 1034,
     "status": "ok",
     "timestamp": 1601698135072,
     "user": {
      "displayName": "Dowon Lee",
      "photoUrl": "",
      "userId": "13897648702981529913"
     },
     "user_tz": -540
    },
    "id": "ane_7OJ0JfOs"
   },
   "outputs": [],
   "source": [
    "BUFFER_SIZE = 60000\n",
    "BATCH_SIZE = 256"
   ]
  },
  {
   "cell_type": "code",
   "execution_count": 11,
   "metadata": {
    "executionInfo": {
     "elapsed": 653,
     "status": "ok",
     "timestamp": 1601698135422,
     "user": {
      "displayName": "Dowon Lee",
      "photoUrl": "",
      "userId": "13897648702981529913"
     },
     "user_tz": -540
    },
    "id": "oUJ59VhUJgkC"
   },
   "outputs": [],
   "source": [
    "# Batch and shuffle the data\n",
    "train_dataset = tf.data.Dataset.from_tensor_slices(train_images).shuffle(BUFFER_SIZE).batch(BATCH_SIZE)"
   ]
  },
  {
   "cell_type": "markdown",
   "metadata": {
    "id": "YDrZtgkgJiya"
   },
   "source": [
    "### STEP #2: VISUALIZE DATASET"
   ]
  },
  {
   "cell_type": "code",
   "execution_count": 12,
   "metadata": {
    "colab": {
     "base_uri": "https://localhost:8080/",
     "height": 282
    },
    "executionInfo": {
     "elapsed": 976,
     "status": "ok",
     "timestamp": 1601698159849,
     "user": {
      "displayName": "Dowon Lee",
      "photoUrl": "",
      "userId": "13897648702981529913"
     },
     "user_tz": -540
    },
    "id": "J6oGYGOuJk8J",
    "outputId": "dda50483-3a1f-4432-dc49-ba892e37e87b"
   },
   "outputs": [
    {
     "data": {
      "text/plain": [
       "<matplotlib.image.AxesImage at 0x7f9d2887da90>"
      ]
     },
     "execution_count": 12,
     "metadata": {},
     "output_type": "execute_result"
    },
    {
     "data": {
      "image/png": "[encoded data removed]",
      "text/plain": [
       "<Figure size 432x288 with 1 Axes>"
      ]
     },
     "metadata": {
      "needs_background": "light"
     },
     "output_type": "display_data"
    }
   ],
   "source": [
    "plt.imshow(train_images[110].reshape((28,28)) , cmap = 'gray')"
   ]
  },
  {
   "cell_type": "markdown",
   "metadata": {
    "id": "6raz784eJpmC"
   },
   "source": [
    "### STEP #3: BUILD GENERATOR"
   ]
  },
  {
   "cell_type": "code",
   "execution_count": 13,
   "metadata": {
    "executionInfo": {
     "elapsed": 6040,
     "status": "ok",
     "timestamp": 1601697143891,
     "user": {
      "displayName": "Dowon Lee",
      "photoUrl": "",
      "userId": "13897648702981529913"
     },
     "user_tz": -540
    },
    "id": "sej4BjnsJsVa"
   },
   "outputs": [],
   "source": [
    "def make_generator_model():\n",
    "    model = tf.keras.Sequential()\n",
    "    model.add(layers.Dense(7*7*256, use_bias=False, input_shape=(100,))) # 12544\n",
    "    model.add(layers.BatchNormalization())\n",
    "    model.add(layers.LeakyReLU())\n",
    "\n",
    "    model.add(layers.Reshape((7, 7, 256)))\n",
    "\n",
    "    # Because we used \"same\" padding and stride = 1, the output is the same size as input 7 x 7 but with 128 filters instead\n",
    "    # Resulting in 7 x 7 x 128\n",
    "    model.add(layers.Conv2DTranspose(128, (5, 5), strides=(1, 1), padding='same', use_bias=False)) \n",
    "    model.add(layers.BatchNormalization())\n",
    "    model.add(layers.LeakyReLU())\n",
    "\n",
    "    # Because we used \"same\" padding and stride = 2, the output is double the size of the input 14 x 14 but with 64 filters instead\n",
    "    # Resulting in 14 x 14 x 64\n",
    "    model.add(layers.Conv2DTranspose(64, (5, 5), strides=(2, 2), padding='same', use_bias=False))\n",
    "    model.add(layers.BatchNormalization())\n",
    "    model.add(layers.LeakyReLU())\n",
    "\n",
    "    # Because we used \"same\" padding and stride = 2, the output is double the size of the input 28 x 28 but with 1 filter instead\n",
    "    # Resulting in 28 x 28 x 1\n",
    "    model.add(layers.Conv2DTranspose(1, (5, 5), strides=(2, 2), padding='same', use_bias=False, activation='tanh'))\n",
    "    model.summary()\n",
    "\n",
    "    return model"
   ]
  },
  {
   "cell_type": "code",
   "execution_count": 14,
   "metadata": {
    "colab": {
     "base_uri": "https://localhost:8080/",
     "height": 521
    },
    "executionInfo": {
     "elapsed": 6035,
     "status": "ok",
     "timestamp": 1601697143892,
     "user": {
      "displayName": "Dowon Lee",
      "photoUrl": "",
      "userId": "13897648702981529913"
     },
     "user_tz": -540
    },
    "id": "xVHx3m2nKYGn",
    "outputId": "e00bfdf4-1bbd-4a63-cb67-3e43eeb36ba9"
   },
   "outputs": [
    {
     "name": "stdout",
     "output_type": "stream",
     "text": [
      "Model: \"sequential\"\n",
      "_________________________________________________________________\n",
      "Layer (type)                 Output Shape              Param #   \n",
      "=================================================================\n",
      "dense (Dense)                (None, 12544)             1254400   \n",
      "_________________________________________________________________\n",
      "batch_normalization (BatchNo (None, 12544)             50176     \n",
      "_________________________________________________________________\n",
      "leaky_re_lu (LeakyReLU)      (None, 12544)             0         \n",
      "_________________________________________________________________\n",
      "reshape (Reshape)            (None, 7, 7, 256)         0         \n",
      "_________________________________________________________________\n",
      "conv2d_transpose (Conv2DTran (None, 7, 7, 128)         819200    \n",
      "_________________________________________________________________\n",
      "batch_normalization_1 (Batch (None, 7, 7, 128)         512       \n",
      "_________________________________________________________________\n",
      "leaky_re_lu_1 (LeakyReLU)    (None, 7, 7, 128)         0         \n",
      "_________________________________________________________________\n",
      "conv2d_transpose_1 (Conv2DTr (None, 14, 14, 64)        204800    \n",
      "_________________________________________________________________\n",
      "batch_normalization_2 (Batch (None, 14, 14, 64)        256       \n",
      "_________________________________________________________________\n",
      "leaky_re_lu_2 (LeakyReLU)    (None, 14, 14, 64)        0         \n",
      "_________________________________________________________________\n",
      "conv2d_transpose_2 (Conv2DTr (None, 28, 28, 1)         1600      \n",
      "=================================================================\n",
      "Total params: 2,330,944\n",
      "Trainable params: 2,305,472\n",
      "Non-trainable params: 25,472\n",
      "_________________________________________________________________\n"
     ]
    }
   ],
   "source": [
    "# Let's test it and check the dimensions\n",
    "generator = make_generator_model()"
   ]
  },
  {
   "cell_type": "code",
   "execution_count": null,
   "metadata": {
    "colab": {
     "base_uri": "https://localhost:8080/",
     "height": 34
    },
    "executionInfo": {
     "elapsed": 1151,
     "status": "ok",
     "timestamp": 1601698186257,
     "user": {
      "displayName": "Dowon Lee",
      "photoUrl": "",
      "userId": "13897648702981529913"
     },
     "user_tz": -540
    },
    "id": "cC9SXMqyKZr7",
    "outputId": "ab077ad7-39ca-4169-e321-956fa3df3289"
   },
   "outputs": [],
   "source": [
    "# Let's test it with a random noise seed and see the output\n",
    "\n",
    "noise = tf.random.normal([1, 100])\n",
    "generated_image = generator(noise, training=False)\n",
    "generated_image.shape"
   ]
  },
  {
   "cell_type": "code",
   "execution_count": 41,
   "metadata": {
    "colab": {
     "base_uri": "https://localhost:8080/",
     "height": 282
    },
    "executionInfo": {
     "elapsed": 995,
     "status": "ok",
     "timestamp": 1601698188713,
     "user": {
      "displayName": "Dowon Lee",
      "photoUrl": "",
      "userId": "13897648702981529913"
     },
     "user_tz": -540
    },
    "id": "7gQkUJD1Kau5",
    "outputId": "4095edd6-d8de-4c93-f001-c5d23b480ef5"
   },
   "outputs": [
    {
     "data": {
      "text/plain": [
       "<matplotlib.image.AxesImage at 0x7fd85016a0f0>"
      ]
     },
     "execution_count": 41,
     "metadata": {
      "tags": []
     },
     "output_type": "execute_result"
    },
    {
     "data": {
      "image/png": "[encoded data removed]",
      "text/plain": [
       "<Figure size 432x288 with 1 Axes>"
      ]
     },
     "metadata": {
      "needs_background": "light",
      "tags": []
     },
     "output_type": "display_data"
    }
   ],
   "source": [
    "plt.imshow(generated_image[0,:,:,0], cmap='gray')"
   ]
  },
  {
   "cell_type": "markdown",
   "metadata": {
    "id": "hKV3tPCOKj_P"
   },
   "source": [
    "### STEP#4: BUILD THE DISCRIMINATOR"
   ]
  },
  {
   "cell_type": "code",
   "execution_count": 17,
   "metadata": {
    "executionInfo": {
     "elapsed": 7633,
     "status": "ok",
     "timestamp": 1601697145515,
     "user": {
      "displayName": "Dowon Lee",
      "photoUrl": "",
      "userId": "13897648702981529913"
     },
     "user_tz": -540
    },
    "id": "CMfXzvpwKccv"
   },
   "outputs": [],
   "source": [
    "def make_discriminator_model():\n",
    "    model = tf.keras.Sequential()\n",
    "    model.add(layers.Conv2D(64, (5, 5), strides=(2, 2), padding='same', input_shape=[28, 28, 1]))\n",
    "    model.add(layers.LeakyReLU())\n",
    "    model.add(layers.Dropout(0.3))\n",
    "\n",
    "    model.add(layers.Conv2D(128, (5, 5), strides=(2, 2), padding='same'))\n",
    "    model.add(layers.LeakyReLU())\n",
    "    model.add(layers.Dropout(0.3))\n",
    "\n",
    "    model.add(layers.Flatten())\n",
    "    model.add(layers.Dense(1))\n",
    "    model.summary()\n",
    "\n",
    "    return model"
   ]
  },
  {
   "cell_type": "code",
   "execution_count": 42,
   "metadata": {
    "colab": {
     "base_uri": "https://localhost:8080/",
     "height": 420
    },
    "executionInfo": {
     "elapsed": 959,
     "status": "ok",
     "timestamp": 1601698194126,
     "user": {
      "displayName": "Dowon Lee",
      "photoUrl": "",
      "userId": "13897648702981529913"
     },
     "user_tz": -540
    },
    "id": "Im_pbJXeMLyz",
    "outputId": "d12414a7-266c-4666-9d9d-072c3c5fe8ec"
   },
   "outputs": [
    {
     "name": "stdout",
     "output_type": "stream",
     "text": [
      "Model: \"sequential_2\"\n",
      "_________________________________________________________________\n",
      "Layer (type)                 Output Shape              Param #   \n",
      "=================================================================\n",
      "conv2d_2 (Conv2D)            (None, 14, 14, 64)        1664      \n",
      "_________________________________________________________________\n",
      "leaky_re_lu_5 (LeakyReLU)    (None, 14, 14, 64)        0         \n",
      "_________________________________________________________________\n",
      "dropout_2 (Dropout)          (None, 14, 14, 64)        0         \n",
      "_________________________________________________________________\n",
      "conv2d_3 (Conv2D)            (None, 7, 7, 128)         204928    \n",
      "_________________________________________________________________\n",
      "leaky_re_lu_6 (LeakyReLU)    (None, 7, 7, 128)         0         \n",
      "_________________________________________________________________\n",
      "dropout_3 (Dropout)          (None, 7, 7, 128)         0         \n",
      "_________________________________________________________________\n",
      "flatten_1 (Flatten)          (None, 6272)              0         \n",
      "_________________________________________________________________\n",
      "dense_2 (Dense)              (None, 1)                 6273      \n",
      "=================================================================\n",
      "Total params: 212,865\n",
      "Trainable params: 212,865\n",
      "Non-trainable params: 0\n",
      "_________________________________________________________________\n"
     ]
    }
   ],
   "source": [
    "# Let's see the model structure\n",
    "discriminator = make_discriminator_model()"
   ]
  },
  {
   "cell_type": "code",
   "execution_count": 43,
   "metadata": {
    "colab": {
     "base_uri": "https://localhost:8080/",
     "height": 34
    },
    "executionInfo": {
     "elapsed": 1018,
     "status": "ok",
     "timestamp": 1601698198599,
     "user": {
      "displayName": "Dowon Lee",
      "photoUrl": "",
      "userId": "13897648702981529913"
     },
     "user_tz": -540
    },
    "id": "se8f1KMoMNa7",
    "outputId": "b04120e6-aedb-4ff7-8ffa-67ddc08bbfe8"
   },
   "outputs": [
    {
     "name": "stdout",
     "output_type": "stream",
     "text": [
      "tf.Tensor([[-0.11605012]], shape=(1, 1), dtype=float32)\n"
     ]
    }
   ],
   "source": [
    "# Give it a shot and see if the discriminator was able to classify the image or not! \n",
    "# The model will be trained to output positive values for real images, and negative values for fake images.\n",
    "decision = discriminator(generated_image)\n",
    "print (decision)"
   ]
  },
  {
   "cell_type": "markdown",
   "metadata": {
    "id": "xVIAqXjaMO5D"
   },
   "source": [
    "### STEP #5: DEFINE THE LOSS FUNCTIONS FOR BOTH NETWORKS"
   ]
  },
  {
   "cell_type": "code",
   "execution_count": 44,
   "metadata": {
    "executionInfo": {
     "elapsed": 940,
     "status": "ok",
     "timestamp": 1601698203515,
     "user": {
      "displayName": "Dowon Lee",
      "photoUrl": "",
      "userId": "13897648702981529913"
     },
     "user_tz": -540
    },
    "id": "-_iB9WBVk6VF"
   },
   "outputs": [],
   "source": [
    "# This computes the 'loss' which simply the difference between the model predictions and the true label\n",
    "cross_entropy = tf.keras.losses.BinaryCrossentropy(from_logits=True)"
   ]
  },
  {
   "cell_type": "code",
   "execution_count": 21,
   "metadata": {
    "executionInfo": {
     "elapsed": 7934,
     "status": "ok",
     "timestamp": 1601697145838,
     "user": {
      "displayName": "Dowon Lee",
      "photoUrl": "",
      "userId": "13897648702981529913"
     },
     "user_tz": -540
    },
    "id": "hBeiwe1-k_6E"
   },
   "outputs": [],
   "source": [
    "# The discriminator loss indicates how well the discriminator is able to distinguish real and fake images. \n",
    "# It compares the discriminator's predictions on real images to an array of 1s, \n",
    "# and the discriminator's predictions on fake (generated) images to an array of 0s.\n",
    "\n",
    "def discriminator_loss(real_output, fake_output):\n",
    "    real_loss = cross_entropy(tf.ones_like(real_output), real_output)\n",
    "    fake_loss = cross_entropy(tf.zeros_like(fake_output), fake_output)\n",
    "    total_loss = real_loss + fake_loss # sum up both losses\n",
    "    return total_loss"
   ]
  },
  {
   "cell_type": "code",
   "execution_count": 22,
   "metadata": {
    "executionInfo": {
     "elapsed": 7930,
     "status": "ok",
     "timestamp": 1601697145839,
     "user": {
      "displayName": "Dowon Lee",
      "photoUrl": "",
      "userId": "13897648702981529913"
     },
     "user_tz": -540
    },
    "id": "1XrpaHFklRDe"
   },
   "outputs": [],
   "source": [
    "# The generator's loss quantifies how well it was able to trick the discriminator. \n",
    "# if the generator is performing well, the discriminator will classify the fake images as real (or 1). \n",
    "# Here, we will compare the discriminators decisions on the generated images to an array of 1s.\n",
    "\n",
    "def generator_loss(fake_output):\n",
    "    return cross_entropy(tf.ones_like(fake_output), fake_output)"
   ]
  },
  {
   "cell_type": "code",
   "execution_count": 45,
   "metadata": {
    "executionInfo": {
     "elapsed": 950,
     "status": "ok",
     "timestamp": 1601698208720,
     "user": {
      "displayName": "Dowon Lee",
      "photoUrl": "",
      "userId": "13897648702981529913"
     },
     "user_tz": -540
    },
    "id": "2ZViNjCPlU02"
   },
   "outputs": [],
   "source": [
    "generator_optimizer = tf.keras.optimizers.Adam(1e-4)\n",
    "discriminator_optimizer = tf.keras.optimizers.Adam(1e-4)"
   ]
  },
  {
   "cell_type": "code",
   "execution_count": 46,
   "metadata": {
    "executionInfo": {
     "elapsed": 942,
     "status": "ok",
     "timestamp": 1601698212388,
     "user": {
      "displayName": "Dowon Lee",
      "photoUrl": "",
      "userId": "13897648702981529913"
     },
     "user_tz": -540
    },
    "id": "1t5CM-oUlYHZ"
   },
   "outputs": [],
   "source": [
    "checkpoint_dir = './training_checkpoints'\n",
    "checkpoint_prefix = os.path.join(checkpoint_dir, \"ckpt\")\n",
    "checkpoint = tf.train.Checkpoint(generator_optimizer=generator_optimizer,\n",
    "                                 discriminator_optimizer=discriminator_optimizer,\n",
    "                                 generator=generator,\n",
    "                                 discriminator=discriminator)"
   ]
  },
  {
   "cell_type": "markdown",
   "metadata": {
    "id": "6XHDhvwpk26z"
   },
   "source": [
    "### STEP#6: TRAIN THE MODEL"
   ]
  },
  {
   "cell_type": "code",
   "execution_count": 47,
   "metadata": {
    "executionInfo": {
     "elapsed": 939,
     "status": "ok",
     "timestamp": 1601698215922,
     "user": {
      "displayName": "Dowon Lee",
      "photoUrl": "",
      "userId": "13897648702981529913"
     },
     "user_tz": -540
    },
    "id": "fy5CCVgwMRyb"
   },
   "outputs": [],
   "source": [
    "EPOCHS = 100\n",
    "noise_dim = 100\n",
    "num_examples_to_generate = 16\n",
    "\n",
    "seed = tf.random.normal([num_examples_to_generate, noise_dim])"
   ]
  },
  {
   "cell_type": "code",
   "execution_count": 48,
   "metadata": {
    "executionInfo": {
     "elapsed": 946,
     "status": "ok",
     "timestamp": 1601698222204,
     "user": {
      "displayName": "Dowon Lee",
      "photoUrl": "",
      "userId": "13897648702981529913"
     },
     "user_tz": -540
    },
    "id": "Ok9MqNewNC7T"
   },
   "outputs": [],
   "source": [
    "@tf.function\n",
    "def train_step(images):\n",
    "    noise = tf.random.normal([BATCH_SIZE, noise_dim])\n",
    "\n",
    "    with tf.GradientTape() as gen_tape, tf.GradientTape() as disc_tape:\n",
    "      generated_images = generator(noise, training=True) # step 1. call the generator and feed in the noise seed\n",
    "\n",
    "      real_output = discriminator(images, training=True) # step 2. pass the fake and real ones to discriminator to perform classification\n",
    "      fake_output = discriminator(generated_images, training=True)\n",
    "\n",
    "      gen_loss = generator_loss(fake_output) # step 3. Calculate the loss for both the generator and discriminator\n",
    "      disc_loss = discriminator_loss(real_output, fake_output)\n",
    "\n",
    "    gradients_of_generator = gen_tape.gradient(gen_loss, generator.trainable_variables) # step 4. calculate the gradient of the losses\n",
    "    gradients_of_discriminator = disc_tape.gradient(disc_loss, discriminator.trainable_variables)\n",
    "\n",
    "    generator_optimizer.apply_gradients(zip(gradients_of_generator, generator.trainable_variables)) # step 5. Apply the optimizers and update weights\n",
    "    discriminator_optimizer.apply_gradients(zip(gradients_of_discriminator, discriminator.trainable_variables))"
   ]
  },
  {
   "cell_type": "code",
   "execution_count": 49,
   "metadata": {
    "executionInfo": {
     "elapsed": 565,
     "status": "ok",
     "timestamp": 1601698223488,
     "user": {
      "displayName": "Dowon Lee",
      "photoUrl": "",
      "userId": "13897648702981529913"
     },
     "user_tz": -540
    },
    "id": "U4U3RwiLNG4R"
   },
   "outputs": [],
   "source": [
    "def train(dataset, epochs):\n",
    "  for epoch in range(epochs):\n",
    "    start = time.time()\n",
    "\n",
    "    for image_batch in dataset:\n",
    "      train_step(image_batch)\n",
    "\n",
    "    # Produce images for the GIF as we go\n",
    "    display.clear_output(wait=True)\n",
    "    generate_and_save_images(generator,\n",
    "                             epoch + 1,\n",
    "                             seed)\n",
    "\n",
    "    # Save the model every 15 epochs\n",
    "    if (epoch + 1) % 15 == 0:\n",
    "      checkpoint.save(file_prefix = checkpoint_prefix)\n",
    "\n",
    "    print ('Time for epoch {} is {} sec'.format(epoch + 1, time.time()-start))\n",
    "\n",
    "  # Generate after the final epoch\n",
    "  display.clear_output(wait=True)\n",
    "  generate_and_save_images(generator,\n",
    "                           epochs,\n",
    "                           seed)"
   ]
  },
  {
   "cell_type": "code",
   "execution_count": 50,
   "metadata": {
    "executionInfo": {
     "elapsed": 946,
     "status": "ok",
     "timestamp": 1601698226968,
     "user": {
      "displayName": "Dowon Lee",
      "photoUrl": "",
      "userId": "13897648702981529913"
     },
     "user_tz": -540
    },
    "id": "kbqg-Qh4ld2d"
   },
   "outputs": [],
   "source": [
    "def generate_and_save_images(model, epoch, test_input):\n",
    "  predictions = model(test_input, training=False)\n",
    "\n",
    "  fig = plt.figure(figsize=(4,4))\n",
    "\n",
    "  for i in range(predictions.shape[0]):\n",
    "      plt.subplot(4, 4, i+1)\n",
    "      plt.imshow(predictions[i, :, :, 0] * 127.5 + 127.5, cmap='gray')\n",
    "      plt.axis('off')\n",
    "\n",
    "  plt.savefig('image_at_epoch_{:04d}.png'.format(epoch))\n",
    "  plt.show()"
   ]
  },
  {
   "cell_type": "markdown",
   "metadata": {
    "id": "Ri1TKs3IpSJ_"
   },
   "source": [
    "#### EXECUTE FASHION_MNIST"
   ]
  },
  {
   "cell_type": "code",
   "execution_count": 51,
   "metadata": {
    "colab": {
     "base_uri": "https://localhost:8080/",
     "height": 282
    },
    "executionInfo": {
     "elapsed": 631138,
     "status": "ok",
     "timestamp": 1601698861144,
     "user": {
      "displayName": "Dowon Lee",
      "photoUrl": "",
      "userId": "13897648702981529913"
     },
     "user_tz": -540
    },
    "id": "KWA8h_5Olg-l",
    "outputId": "890fa00b-efbb-43f0-f7a2-7cb3ee3d5bfb"
   },
   "outputs": [
    {
     "data": {
      "image/png": "[encoded data removed]",
      "text/plain": [
       "<Figure size 288x288 with 16 Axes>"
      ]
     },
     "metadata": {
      "needs_background": "light",
      "tags": []
     },
     "output_type": "display_data"
    },
    {
     "name": "stdout",
     "output_type": "stream",
     "text": [
      "CPU times: user 3min 40s, sys: 23.6 s, total: 4min 3s\n",
      "Wall time: 10min 30s\n"
     ]
    }
   ],
   "source": [
    "%%time\n",
    "train(train_dataset, EPOCHS)"
   ]
  },
  {
   "cell_type": "code",
   "execution_count": 52,
   "metadata": {
    "colab": {
     "base_uri": "https://localhost:8080/",
     "height": 54
    },
    "executionInfo": {
     "elapsed": 944,
     "status": "ok",
     "timestamp": 1601698879516,
     "user": {
      "displayName": "Dowon Lee",
      "photoUrl": "",
      "userId": "13897648702981529913"
     },
     "user_tz": -540
    },
    "id": "KxMPvg-qnHEu",
    "outputId": "706af4de-de20-47ae-8a6e-455cc9480c45"
   },
   "outputs": [
    {
     "data": {
      "text/plain": [
       "<tensorflow.python.training.tracking.util.CheckpointLoadStatus at 0x7fd80f6efd68>"
      ]
     },
     "execution_count": 52,
     "metadata": {
      "tags": []
     },
     "output_type": "execute_result"
    }
   ],
   "source": [
    "checkpoint.restore(tf.train.latest_checkpoint(checkpoint_dir))"
   ]
  },
  {
   "cell_type": "code",
   "execution_count": 53,
   "metadata": {
    "colab": {
     "base_uri": "https://localhost:8080/",
     "height": 305
    },
    "executionInfo": {
     "elapsed": 835,
     "status": "ok",
     "timestamp": 1601698881025,
     "user": {
      "displayName": "Dowon Lee",
      "photoUrl": "",
      "userId": "13897648702981529913"
     },
     "user_tz": -540
    },
    "id": "URHQw1THlia2",
    "outputId": "77f772c5-88fd-412a-d58b-67dee90dc41e"
   },
   "outputs": [
    {
     "data": {
      "image/png": "[encoded data removed]",
      "text/plain": [
       "<PIL.PngImagePlugin.PngImageFile image mode=RGBA size=288x288 at 0x7FD80F554CC0>"
      ]
     },
     "execution_count": 53,
     "metadata": {
      "tags": []
     },
     "output_type": "execute_result"
    }
   ],
   "source": [
    "# Display a single image using the epoch number\n",
    "def display_image(epoch_no):\n",
    "  return PIL.Image.open('image_at_epoch_{:04d}.png'.format(epoch_no))\n",
    "\n",
    "display_image(EPOCHS)"
   ]
  },
  {
   "cell_type": "code",
   "execution_count": null,
   "metadata": {
    "id": "qBj--NMWpOl6"
   },
   "outputs": [],
   "source": []
  }
 ],
 "metadata": {
  "accelerator": "GPU",
  "colab": {
   "authorship_tag": "ABX9TyPH4rJZE1GUwB77LWKe2fe8",
   "collapsed_sections": [],
   "name": "GANs Project1 - Generate New Images Using GANs.ipynb",
   "provenance": []
  },
  "kernelspec": {
   "display_name": "Python 3",
   "language": "python",
   "name": "python3"
  },
  "language_info": {
   "codemirror_mode": {
    "name": "ipython",
    "version": 3
   },
   "file_extension": ".py",
   "mimetype": "text/x-python",
   "name": "python",
   "nbconvert_exporter": "python",
   "pygments_lexer": "ipython3",
   "version": "3.7.10"
  }
 },
 "nbformat": 4,
 "nbformat_minor": 1
}
