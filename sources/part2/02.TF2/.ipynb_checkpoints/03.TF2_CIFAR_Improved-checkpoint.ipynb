{
 "cells": [
  {
   "cell_type": "code",
   "execution_count": 1,
   "metadata": {},
   "outputs": [],
   "source": [
    "import numpy as np\n",
    "import tensorflow as tf\n",
    "import matplotlib.pyplot as plt\n",
    "from tensorflow.keras.layers import Input, Conv2D, Dense, Flatten, Dropout, GlobalMaxPooling2D, MaxPooling2D, BatchNormalization\n",
    "from tensorflow.keras.models import Model"
   ]
  },
  {
   "cell_type": "code",
   "execution_count": 2,
   "metadata": {
    "scrolled": true
   },
   "outputs": [
    {
     "name": "stdout",
     "output_type": "stream",
     "text": [
      "x_train.shape: (50000, 32, 32, 3)\n",
      "y_train.shape: (50000,)\n"
     ]
    }
   ],
   "source": [
    "# Load in the data\n",
    "cifar10 = tf.keras.datasets.cifar10\n",
    "\n",
    "(x_train, y_train), (x_test, y_test) = cifar10.load_data()\n",
    "x_train, x_test = x_train / 255.0, x_test / 255.0\n",
    "y_train, y_test = y_train.flatten(), y_test.flatten()\n",
    "print(\"x_train.shape:\", x_train.shape)\n",
    "print(\"y_train.shape:\", y_train.shape)"
   ]
  },
  {
   "cell_type": "code",
   "execution_count": 3,
   "metadata": {},
   "outputs": [
    {
     "name": "stdout",
     "output_type": "stream",
     "text": [
      "number of classes: 10\n"
     ]
    }
   ],
   "source": [
    "# number of classes\n",
    "K = len(set(y_train))\n",
    "print(\"number of classes:\", K)"
   ]
  },
  {
   "cell_type": "code",
   "execution_count": 4,
   "metadata": {},
   "outputs": [
    {
     "name": "stdout",
     "output_type": "stream",
     "text": [
      "[[[0.23137255 0.24313725 0.24705882]\n",
      "  [0.16862745 0.18039216 0.17647059]\n",
      "  [0.19607843 0.18823529 0.16862745]\n",
      "  ...\n",
      "  [0.61960784 0.51764706 0.42352941]\n",
      "  [0.59607843 0.49019608 0.4       ]\n",
      "  [0.58039216 0.48627451 0.40392157]]\n",
      "\n",
      " [[0.0627451  0.07843137 0.07843137]\n",
      "  [0.         0.         0.        ]\n",
      "  [0.07058824 0.03137255 0.        ]\n",
      "  ...\n",
      "  [0.48235294 0.34509804 0.21568627]\n",
      "  [0.46666667 0.3254902  0.19607843]\n",
      "  [0.47843137 0.34117647 0.22352941]]\n",
      "\n",
      " [[0.09803922 0.09411765 0.08235294]\n",
      "  [0.0627451  0.02745098 0.        ]\n",
      "  [0.19215686 0.10588235 0.03137255]\n",
      "  ...\n",
      "  [0.4627451  0.32941176 0.19607843]\n",
      "  [0.47058824 0.32941176 0.19607843]\n",
      "  [0.42745098 0.28627451 0.16470588]]\n",
      "\n",
      " ...\n",
      "\n",
      " [[0.81568627 0.66666667 0.37647059]\n",
      "  [0.78823529 0.6        0.13333333]\n",
      "  [0.77647059 0.63137255 0.10196078]\n",
      "  ...\n",
      "  [0.62745098 0.52156863 0.2745098 ]\n",
      "  [0.21960784 0.12156863 0.02745098]\n",
      "  [0.20784314 0.13333333 0.07843137]]\n",
      "\n",
      " [[0.70588235 0.54509804 0.37647059]\n",
      "  [0.67843137 0.48235294 0.16470588]\n",
      "  [0.72941176 0.56470588 0.11764706]\n",
      "  ...\n",
      "  [0.72156863 0.58039216 0.36862745]\n",
      "  [0.38039216 0.24313725 0.13333333]\n",
      "  [0.3254902  0.20784314 0.13333333]]\n",
      "\n",
      " [[0.69411765 0.56470588 0.45490196]\n",
      "  [0.65882353 0.50588235 0.36862745]\n",
      "  [0.70196078 0.55686275 0.34117647]\n",
      "  ...\n",
      "  [0.84705882 0.72156863 0.54901961]\n",
      "  [0.59215686 0.4627451  0.32941176]\n",
      "  [0.48235294 0.36078431 0.28235294]]]\n",
      "(32, 32, 3)\n"
     ]
    }
   ],
   "source": [
    "print(x_train[0])\n",
    "print(x_train[0].shape)"
   ]
  },
  {
   "cell_type": "code",
   "execution_count": 5,
   "metadata": {},
   "outputs": [],
   "source": [
    "# Build the model using the functional API\n",
    "i = Input(shape=x_train[0].shape)\n",
    "\n",
    "# x = Conv2D(32, (3, 3), strides=2, activation='relu')(i)\n",
    "# x = Conv2D(64, (3, 3), strides=2, activation='relu')(x)\n",
    "# x = Conv2D(128, (3, 3), strides=2, activation='relu')(x)\n",
    "\n",
    "x = Conv2D(32, (3, 3), activation='relu', padding='same')(i)\n",
    "x = BatchNormalization()(x)\n",
    "x = Conv2D(32, (3, 3), activation='relu', padding='same')(x)\n",
    "x = BatchNormalization()(x)\n",
    "x = MaxPooling2D((2, 2))(x)\n",
    "# x = Dropout(0.2)(x)\n",
    "x = Conv2D(64, (3, 3), activation='relu', padding='same')(x)\n",
    "x = BatchNormalization()(x)\n",
    "x = Conv2D(64, (3, 3), activation='relu', padding='same')(x)\n",
    "x = BatchNormalization()(x)\n",
    "x = MaxPooling2D((2, 2))(x)\n",
    "# x = Dropout(0.2)(x)\n",
    "x = Conv2D(128, (3, 3), activation='relu', padding='same')(x)\n",
    "x = BatchNormalization()(x)\n",
    "x = Conv2D(128, (3, 3), activation='relu', padding='same')(x)\n",
    "x = BatchNormalization()(x)\n",
    "x = MaxPooling2D((2, 2))(x)\n",
    "# x = Dropout(0.2)(x)\n",
    "\n",
    "# x = GlobalMaxPooling2D()(x)\n",
    "x = Flatten()(x)\n",
    "x = Dropout(0.2)(x)\n",
    "x = Dense(1024, activation='relu')(x)\n",
    "x = Dropout(0.2)(x)\n",
    "x = Dense(K, activation='softmax')(x)\n",
    "\n",
    "model = Model(i, x)"
   ]
  },
  {
   "cell_type": "code",
   "execution_count": 6,
   "metadata": {},
   "outputs": [],
   "source": [
    "# Compile and fit\n",
    "# Note: make sure you are using hte GPU for this!\n",
    "model.compile(optimizer='adam', \n",
    "              loss='sparse_categorical_crossentropy', \n",
    "              metrics=['accuracy'])"
   ]
  },
  {
   "cell_type": "code",
   "execution_count": 11,
   "metadata": {},
   "outputs": [
    {
     "name": "stdout",
     "output_type": "stream",
     "text": [
      "Train on 50000 samples, validate on 10000 samples\n",
      "Epoch 1/50\n",
      "50000/50000 [==============================] - 252s 5ms/sample - loss: 1.0344 - acc: 0.6375 - val_loss: 0.9923 - val_acc: 0.6668\n",
      "Epoch 2/50\n",
      "50000/50000 [==============================] - 239s 5ms/sample - loss: 0.7821 - acc: 0.7286 - val_loss: 0.8274 - val_acc: 0.7235\n",
      "Epoch 3/50\n",
      "50000/50000 [==============================] - 274s 5ms/sample - loss: 0.6436 - acc: 0.7775 - val_loss: 0.7699 - val_acc: 0.7376\n",
      "Epoch 4/50\n",
      "50000/50000 [==============================] - 224s 4ms/sample - loss: 0.5540 - acc: 0.8115 - val_loss: 0.6262 - val_acc: 0.7965\n",
      "Epoch 5/50\n",
      "50000/50000 [==============================] - 225s 4ms/sample - loss: 0.4721 - acc: 0.8386 - val_loss: 0.5702 - val_acc: 0.8116\n",
      "Epoch 6/50\n",
      "50000/50000 [==============================] - 226s 5ms/sample - loss: 0.3935 - acc: 0.8643 - val_loss: 0.6088 - val_acc: 0.8027\n",
      "Epoch 7/50\n",
      "50000/50000 [==============================] - 225s 5ms/sample - loss: 0.3357 - acc: 0.8835 - val_loss: 0.6412 - val_acc: 0.8049\n",
      "Epoch 8/50\n",
      "50000/50000 [==============================] - 224s 4ms/sample - loss: 0.2805 - acc: 0.9018 - val_loss: 0.7325 - val_acc: 0.7911\n",
      "Epoch 9/50\n",
      "50000/50000 [==============================] - 224s 4ms/sample - loss: 0.2453 - acc: 0.9144 - val_loss: 0.6901 - val_acc: 0.8039\n",
      "Epoch 10/50\n",
      "50000/50000 [==============================] - 235s 5ms/sample - loss: 0.2136 - acc: 0.9264 - val_loss: 0.5945 - val_acc: 0.8231\n",
      "Epoch 11/50\n",
      "50000/50000 [==============================] - 230s 5ms/sample - loss: 0.1856 - acc: 0.9369 - val_loss: 0.7952 - val_acc: 0.8109\n",
      "Epoch 12/50\n",
      "50000/50000 [==============================] - 230s 5ms/sample - loss: 0.1707 - acc: 0.9416 - val_loss: 0.6544 - val_acc: 0.8238\n",
      "Epoch 13/50\n",
      "50000/50000 [==============================] - 230s 5ms/sample - loss: 0.1464 - acc: 0.9499 - val_loss: 0.6775 - val_acc: 0.8275\n",
      "Epoch 14/50\n",
      "50000/50000 [==============================] - 231s 5ms/sample - loss: 0.1354 - acc: 0.9539 - val_loss: 0.7807 - val_acc: 0.8196\n",
      "Epoch 15/50\n",
      "50000/50000 [==============================] - 242s 5ms/sample - loss: 0.1252 - acc: 0.9574 - val_loss: 0.7733 - val_acc: 0.8195\n",
      "Epoch 16/50\n",
      "50000/50000 [==============================] - 231s 5ms/sample - loss: 0.1208 - acc: 0.9596 - val_loss: 0.7179 - val_acc: 0.8311\n",
      "Epoch 17/50\n",
      "50000/50000 [==============================] - 231s 5ms/sample - loss: 0.1102 - acc: 0.9625 - val_loss: 0.7896 - val_acc: 0.8228\n",
      "Epoch 18/50\n",
      "50000/50000 [==============================] - 230s 5ms/sample - loss: 0.1041 - acc: 0.9647 - val_loss: 0.7367 - val_acc: 0.8285\n",
      "Epoch 19/50\n",
      "50000/50000 [==============================] - 230s 5ms/sample - loss: 0.0978 - acc: 0.9675 - val_loss: 0.7694 - val_acc: 0.8238\n",
      "Epoch 20/50\n",
      "50000/50000 [==============================] - 231s 5ms/sample - loss: 0.0925 - acc: 0.9688 - val_loss: 0.8469 - val_acc: 0.8258\n",
      "Epoch 21/50\n",
      "50000/50000 [==============================] - 233s 5ms/sample - loss: 0.0915 - acc: 0.9692 - val_loss: 0.9112 - val_acc: 0.8222\n",
      "Epoch 22/50\n",
      "50000/50000 [==============================] - 240s 5ms/sample - loss: 0.0817 - acc: 0.9728 - val_loss: 0.7864 - val_acc: 0.8300\n",
      "Epoch 23/50\n",
      "50000/50000 [==============================] - 230s 5ms/sample - loss: 0.0863 - acc: 0.9721 - val_loss: 0.7902 - val_acc: 0.8339\n",
      "Epoch 24/50\n",
      "50000/50000 [==============================] - 232s 5ms/sample - loss: 0.0777 - acc: 0.9752 - val_loss: 0.7693 - val_acc: 0.8322\n",
      "Epoch 25/50\n",
      "50000/50000 [==============================] - 230s 5ms/sample - loss: 0.0724 - acc: 0.9755 - val_loss: 0.8156 - val_acc: 0.8366\n",
      "Epoch 26/50\n",
      "50000/50000 [==============================] - 243s 5ms/sample - loss: 0.0695 - acc: 0.9768 - val_loss: 0.8177 - val_acc: 0.8302\n",
      "Epoch 27/50\n",
      "50000/50000 [==============================] - 234s 5ms/sample - loss: 0.0685 - acc: 0.9774 - val_loss: 0.7481 - val_acc: 0.8307\n",
      "Epoch 28/50\n",
      "50000/50000 [==============================] - 244s 5ms/sample - loss: 0.0702 - acc: 0.9772 - val_loss: 0.8496 - val_acc: 0.8347\n",
      "Epoch 29/50\n",
      "50000/50000 [==============================] - 233s 5ms/sample - loss: 0.0628 - acc: 0.9795 - val_loss: 0.8284 - val_acc: 0.8382\n",
      "Epoch 30/50\n",
      "50000/50000 [==============================] - 233s 5ms/sample - loss: 0.0640 - acc: 0.9786 - val_loss: 0.8015 - val_acc: 0.8405\n",
      "Epoch 31/50\n",
      "50000/50000 [==============================] - 228s 5ms/sample - loss: 0.0592 - acc: 0.9806 - val_loss: 0.7835 - val_acc: 0.8304\n",
      "Epoch 32/50\n",
      "50000/50000 [==============================] - 255s 5ms/sample - loss: 0.0607 - acc: 0.9801 - val_loss: 0.8522 - val_acc: 0.8351\n",
      "Epoch 33/50\n",
      "50000/50000 [==============================] - 238s 5ms/sample - loss: 0.0526 - acc: 0.9832 - val_loss: 0.8632 - val_acc: 0.8316\n",
      "Epoch 34/50\n",
      "50000/50000 [==============================] - 232s 5ms/sample - loss: 0.0563 - acc: 0.9821 - val_loss: 0.7821 - val_acc: 0.8348\n",
      "Epoch 35/50\n",
      "50000/50000 [==============================] - 232s 5ms/sample - loss: 0.0594 - acc: 0.9804 - val_loss: 0.8133 - val_acc: 0.8409\n",
      "Epoch 36/50\n",
      "50000/50000 [==============================] - 233s 5ms/sample - loss: 0.0490 - acc: 0.9840 - val_loss: 0.8770 - val_acc: 0.8393\n",
      "Epoch 37/50\n",
      "50000/50000 [==============================] - 233s 5ms/sample - loss: 0.0524 - acc: 0.9831 - val_loss: 0.8734 - val_acc: 0.8247\n",
      "Epoch 38/50\n",
      "50000/50000 [==============================] - 236s 5ms/sample - loss: 0.0497 - acc: 0.9838 - val_loss: 0.8569 - val_acc: 0.8463\n",
      "Epoch 39/50\n",
      "50000/50000 [==============================] - 242s 5ms/sample - loss: 0.0472 - acc: 0.9850 - val_loss: 0.8209 - val_acc: 0.8389\n",
      "Epoch 40/50\n",
      "50000/50000 [==============================] - 242s 5ms/sample - loss: 0.0489 - acc: 0.9849 - val_loss: 0.8049 - val_acc: 0.8442\n",
      "Epoch 41/50\n",
      "50000/50000 [==============================] - 235s 5ms/sample - loss: 0.0473 - acc: 0.9847 - val_loss: 0.8174 - val_acc: 0.8385\n",
      "Epoch 42/50\n",
      "50000/50000 [==============================] - 233s 5ms/sample - loss: 0.0458 - acc: 0.9856 - val_loss: 0.8241 - val_acc: 0.8373\n",
      "Epoch 43/50\n",
      "50000/50000 [==============================] - 233s 5ms/sample - loss: 0.0479 - acc: 0.9845 - val_loss: 0.8577 - val_acc: 0.8352\n",
      "Epoch 44/50\n",
      "50000/50000 [==============================] - 7697s 154ms/sample - loss: 0.0439 - acc: 0.9854 - val_loss: 0.8493 - val_acc: 0.8411\n",
      "Epoch 45/50\n",
      "50000/50000 [==============================] - 267s 5ms/sample - loss: 0.0450 - acc: 0.9857 - val_loss: 0.8629 - val_acc: 0.8376\n",
      "Epoch 46/50\n",
      "50000/50000 [==============================] - 254s 5ms/sample - loss: 0.0447 - acc: 0.9855 - val_loss: 0.7473 - val_acc: 0.8352\n",
      "Epoch 47/50\n",
      "50000/50000 [==============================] - 265s 5ms/sample - loss: 0.0431 - acc: 0.9856 - val_loss: 0.8664 - val_acc: 0.8388\n",
      "Epoch 48/50\n",
      "50000/50000 [==============================] - 262s 5ms/sample - loss: 0.0408 - acc: 0.9871 - val_loss: 0.9014 - val_acc: 0.8428\n",
      "Epoch 49/50\n",
      "50000/50000 [==============================] - 283s 6ms/sample - loss: 0.0410 - acc: 0.9870 - val_loss: 0.9320 - val_acc: 0.8388\n",
      "Epoch 50/50\n",
      "50000/50000 [==============================] - 303s 6ms/sample - loss: 0.0403 - acc: 0.9877 - val_loss: 0.8860 - val_acc: 0.8426\n"
     ]
    }
   ],
   "source": [
    "r = model.fit(x_train, y_train, validation_data=(x_test, y_test), epochs=50)"
   ]
  },
  {
   "cell_type": "code",
   "execution_count": 8,
   "metadata": {},
   "outputs": [
    {
     "name": "stdout",
     "output_type": "stream",
     "text": [
      "Epoch 1/30\n",
      "1562/1562 [==============================] - 163s 105ms/step - loss: 0.6557 - accuracy: 0.7783 - val_loss: 0.5919 - val_accuracy: 0.8006\n",
      "Epoch 2/30\n",
      "1562/1562 [==============================] - 166s 106ms/step - loss: 0.6045 - accuracy: 0.7944 - val_loss: 0.6749 - val_accuracy: 0.7756\n",
      "Epoch 3/30\n",
      "1562/1562 [==============================] - 163s 104ms/step - loss: 0.5671 - accuracy: 0.8070 - val_loss: 0.5783 - val_accuracy: 0.8079\n",
      "Epoch 4/30\n",
      "1562/1562 [==============================] - 201s 129ms/step - loss: 0.5347 - accuracy: 0.8179 - val_loss: 0.5363 - val_accuracy: 0.8190\n",
      "Epoch 5/30\n",
      "1562/1562 [==============================] - 218s 140ms/step - loss: 0.4995 - accuracy: 0.8305 - val_loss: 0.5896 - val_accuracy: 0.8112\n",
      "Epoch 6/30\n",
      "1562/1562 [==============================] - 196s 125ms/step - loss: 0.4751 - accuracy: 0.8371 - val_loss: 0.5416 - val_accuracy: 0.8157\n",
      "Epoch 7/30\n",
      "1562/1562 [==============================] - 211s 135ms/step - loss: 0.4521 - accuracy: 0.8444 - val_loss: 0.5179 - val_accuracy: 0.8304\n",
      "Epoch 8/30\n",
      "1562/1562 [==============================] - 195s 125ms/step - loss: 0.4305 - accuracy: 0.8526 - val_loss: 0.5329 - val_accuracy: 0.8306\n",
      "Epoch 9/30\n",
      "1562/1562 [==============================] - 169s 108ms/step - loss: 0.4094 - accuracy: 0.8611 - val_loss: 0.5335 - val_accuracy: 0.8316\n",
      "Epoch 10/30\n",
      "1562/1562 [==============================] - 164s 105ms/step - loss: 0.3953 - accuracy: 0.8657 - val_loss: 0.4976 - val_accuracy: 0.8389\n",
      "Epoch 11/30\n",
      "1562/1562 [==============================] - 151s 97ms/step - loss: 0.3758 - accuracy: 0.8710 - val_loss: 0.4557 - val_accuracy: 0.8476\n",
      "Epoch 12/30\n",
      "1562/1562 [==============================] - 135s 86ms/step - loss: 0.3649 - accuracy: 0.8746 - val_loss: 0.4677 - val_accuracy: 0.8468\n",
      "Epoch 13/30\n",
      "1562/1562 [==============================] - 154s 99ms/step - loss: 0.3512 - accuracy: 0.8803 - val_loss: 0.4500 - val_accuracy: 0.8514\n",
      "Epoch 14/30\n",
      "1562/1562 [==============================] - 150s 96ms/step - loss: 0.3432 - accuracy: 0.8820 - val_loss: 0.5613 - val_accuracy: 0.8182\n",
      "Epoch 15/30\n",
      "1562/1562 [==============================] - 143s 91ms/step - loss: 0.3275 - accuracy: 0.8874 - val_loss: 0.4265 - val_accuracy: 0.8668\n",
      "Epoch 16/30\n",
      "1562/1562 [==============================] - 134s 86ms/step - loss: 0.3165 - accuracy: 0.8915 - val_loss: 0.4395 - val_accuracy: 0.8530\n",
      "Epoch 17/30\n",
      "1562/1562 [==============================] - 133s 85ms/step - loss: 0.3058 - accuracy: 0.8925 - val_loss: 0.4514 - val_accuracy: 0.8581\n",
      "Epoch 18/30\n",
      "1562/1562 [==============================] - 135s 86ms/step - loss: 0.3009 - accuracy: 0.8968 - val_loss: 0.4229 - val_accuracy: 0.8674\n",
      "Epoch 19/30\n",
      "1562/1562 [==============================] - 136s 87ms/step - loss: 0.2880 - accuracy: 0.8993 - val_loss: 0.4152 - val_accuracy: 0.8612\n",
      "Epoch 20/30\n",
      "1562/1562 [==============================] - 135s 86ms/step - loss: 0.2817 - accuracy: 0.9027 - val_loss: 0.4135 - val_accuracy: 0.8698\n",
      "Epoch 21/30\n",
      "1562/1562 [==============================] - 133s 85ms/step - loss: 0.2799 - accuracy: 0.9054 - val_loss: 0.4052 - val_accuracy: 0.8695\n",
      "Epoch 22/30\n",
      "1562/1562 [==============================] - 151s 97ms/step - loss: 0.2713 - accuracy: 0.9073 - val_loss: 0.4088 - val_accuracy: 0.8672\n",
      "Epoch 23/30\n",
      "1562/1562 [==============================] - 162s 104ms/step - loss: 0.2683 - accuracy: 0.9091 - val_loss: 0.4201 - val_accuracy: 0.8635\n",
      "Epoch 24/30\n",
      "1562/1562 [==============================] - 155s 99ms/step - loss: 0.2580 - accuracy: 0.9104 - val_loss: 0.4051 - val_accuracy: 0.8749\n",
      "Epoch 25/30\n",
      "1562/1562 [==============================] - 150s 96ms/step - loss: 0.2531 - accuracy: 0.9114 - val_loss: 0.3827 - val_accuracy: 0.8807\n",
      "Epoch 26/30\n",
      "1562/1562 [==============================] - 154s 99ms/step - loss: 0.2499 - accuracy: 0.9135 - val_loss: 0.4139 - val_accuracy: 0.8724\n",
      "Epoch 27/30\n",
      "1562/1562 [==============================] - 158s 101ms/step - loss: 0.2390 - accuracy: 0.9181 - val_loss: 0.4034 - val_accuracy: 0.8693\n",
      "Epoch 28/30\n",
      "1562/1562 [==============================] - 153s 98ms/step - loss: 0.2373 - accuracy: 0.9178 - val_loss: 0.3897 - val_accuracy: 0.8784\n",
      "Epoch 29/30\n",
      "1562/1562 [==============================] - 149s 95ms/step - loss: 0.2307 - accuracy: 0.9205 - val_loss: 0.3821 - val_accuracy: 0.8790\n",
      "Epoch 30/30\n",
      "1562/1562 [==============================] - 154s 99ms/step - loss: 0.2261 - accuracy: 0.9211 - val_loss: 0.4290 - val_accuracy: 0.8719\n"
     ]
    }
   ],
   "source": [
    "# Fit with data augmentation\n",
    "# Node: if you run this AFTER calling the previous model.fit(), it will CONTINUE training where it left off\n",
    "# data_generator = tf.keras.preprocessing.image.ImageDataGenerator(width_shift_range=0.1, height_shift_range=0.1, horizontal_flip=True)\n",
    "\n",
    "from tensorflow.keras.preprocessing.image import ImageDataGenerator\n",
    "batch_size = 32\n",
    "data_generator = ImageDataGenerator(width_shift_range=0.1, \n",
    "                                    height_shift_range=0.1, \n",
    "                                    horizontal_flip=True)\n",
    "train_generator = data_generator.flow(x_train, y_train, batch_size)\n",
    "steps_per_epoch = x_train.shape[0] // batch_size\n",
    "# r = model.fit_generator(train_generator, \n",
    "#                         validation_data=(x_test, y_test), \n",
    "#                         steps_per_epoch=steps_per_epoch, epochs=50)\n",
    "r = model.fit(train_generator, \n",
    "                        validation_data=(x_test, y_test), \n",
    "                        steps_per_epoch=steps_per_epoch, epochs=30)"
   ]
  },
  {
   "cell_type": "code",
   "execution_count": 9,
   "metadata": {},
   "outputs": [
    {
     "data": {
      "text/plain": [
       "<matplotlib.legend.Legend at 0x7f900922ac70>"
      ]
     },
     "execution_count": 9,
     "metadata": {},
     "output_type": "execute_result"
    },
    {
     "data": {
      "image/png": "[encoded data removed]",
      "text/plain": [
       "<Figure size 432x288 with 1 Axes>"
      ]
     },
     "metadata": {
      "needs_background": "light"
     },
     "output_type": "display_data"
    }
   ],
   "source": [
    "# Plot loss per iteration\n",
    "import matplotlib.pyplot as plt\n",
    "plt.plot(r.history['loss'], label='loss')\n",
    "plt.plot(r.history['val_loss'], label='val_loss')\n",
    "plt.legend()"
   ]
  },
  {
   "cell_type": "code",
   "execution_count": 10,
   "metadata": {},
   "outputs": [
    {
     "data": {
      "text/plain": [
       "<matplotlib.legend.Legend at 0x7f9008ffc8b0>"
      ]
     },
     "execution_count": 10,
     "metadata": {},
     "output_type": "execute_result"
    },
    {
     "data": {
      "image/png": "[encoded data removed]",
      "text/plain": [
       "<Figure size 432x288 with 1 Axes>"
      ]
     },
     "metadata": {
      "needs_background": "light"
     },
     "output_type": "display_data"
    }
   ],
   "source": [
    "# Plot accuracy per iteration\n",
    "import matplotlib.pyplot as plt\n",
    "plt.plot(r.history['accuracy'], label='ac')\n",
    "plt.plot(r.history['val_accuracy'], label='val_acc')\n",
    "plt.legend()"
   ]
  },
  {
   "cell_type": "code",
   "execution_count": 11,
   "metadata": {},
   "outputs": [
    {
     "name": "stdout",
     "output_type": "stream",
     "text": [
      "Consusion matrix, without normalization\n",
      "[[926   6  20   2   4   2   1   3  28   8]\n",
      " [  5 953   0   0   0   2   2   0   7  31]\n",
      " [ 47   1 787  28  40  32  42  11   8   4]\n",
      " [ 28   7  30 702  31  99  57  16  18  12]\n",
      " [ 15   2  22  27 851  15  38  25   4   1]\n",
      " [  8   4  17  71  22 820  21  30   5   2]\n",
      " [  5   1  13  18   7   6 944   1   3   2]\n",
      " [ 10   0   4   8  27  19   7 920   1   4]\n",
      " [ 66  14   0   1   1   0   1   1 905  11]\n",
      " [ 19  51   1   2   2   0   1   1  12 911]]\n"
     ]
    },
    {
     "data": {
      "image/png": "[encoded data removed]",
      "text/plain": [
       "<Figure size 432x288 with 2 Axes>"
      ]
     },
     "metadata": {
      "needs_background": "light"
     },
     "output_type": "display_data"
    }
   ],
   "source": [
    "from sklearn.metrics import confusion_matrix\n",
    "import itertools\n",
    "def plot_confusion_matrix(cm, classes, \n",
    "                          normalize=False, \n",
    "                          title='Confusion matrix',\n",
    "                          cmap=plt.cm.Blues):\n",
    "  \"\"\"\n",
    "  This function prints and plots the confusion matrix.\n",
    "  Normalization can be appled by setting `normalize=True`.\n",
    "  \"\"\"\n",
    "  if normalize:\n",
    "    cm = cm.astype('float') / cm.sum(axis=1)[:, np.newaxis]\n",
    "    print(\"normalized confusion matrix\")\n",
    "  else:\n",
    "    print('Consusion matrix, without normalization')\n",
    "  print(cm)\n",
    "\n",
    "  plt.imshow(cm, interpolation='nearest', cmap=cmap)\n",
    "  plt.title(title)\n",
    "  plt.colorbar()\n",
    "  tick_marks = np.arange(len(classes))\n",
    "  plt.xticks(tick_marks, classes, rotation=45)\n",
    "  plt.yticks(tick_marks, classes)\n",
    "\n",
    "  fmt = '.2f' if normalize else 'd'\n",
    "  thresh = cm.max() / 2.\n",
    "  for i, j in itertools.product(range(cm.shape[0]), range(cm.shape[1])):\n",
    "    plt.text(j, i, format(cm[i, j], fmt),\n",
    "             horizontalalignment=\"center\",\n",
    "             color=\"white\" if cm[i, j] > thresh else \"black\")\n",
    "  \n",
    "  plt.tight_layout()\n",
    "  plt.ylabel('True label')\n",
    "  plt.xlabel('Predicted label')\n",
    "  plt.show()\n",
    "\n",
    "p_test = model.predict(x_test).argmax(axis=1)\n",
    "cm = confusion_matrix(y_test, p_test)\n",
    "plot_confusion_matrix(cm, list(range(10)))"
   ]
  },
  {
   "cell_type": "code",
   "execution_count": 12,
   "metadata": {},
   "outputs": [],
   "source": [
    "# Label mapping\n",
    "labels = '''airplane\n",
    "automobile\n",
    "bird\n",
    "cat\n",
    "deer\n",
    "dog\n",
    "frog\n",
    "horse\n",
    "ship\n",
    "truck'''.split()"
   ]
  },
  {
   "cell_type": "code",
   "execution_count": 13,
   "metadata": {},
   "outputs": [
    {
     "data": {
      "image/png": "[encoded data removed]",
      "text/plain": [
       "<Figure size 432x288 with 1 Axes>"
      ]
     },
     "metadata": {
      "needs_background": "light"
     },
     "output_type": "display_data"
    }
   ],
   "source": [
    "# Show some misclassified examples\n",
    "misclassified_idx = np.where(p_test != y_test)[0]\n",
    "i = np.random.choice(misclassified_idx)\n",
    "plt.imshow(x_test[i], cmap='gray')\n",
    "plt.title(\"True label: %s, Predicted: %s\" % (labels[y_test[i]], labels[p_test[i]]));"
   ]
  },
  {
   "cell_type": "code",
   "execution_count": 14,
   "metadata": {},
   "outputs": [
    {
     "name": "stdout",
     "output_type": "stream",
     "text": [
      "Model: \"functional_1\"\n",
      "_________________________________________________________________\n",
      "Layer (type)                 Output Shape              Param #   \n",
      "=================================================================\n",
      "input_1 (InputLayer)         [(None, 32, 32, 3)]       0         \n",
      "_________________________________________________________________\n",
      "conv2d (Conv2D)              (None, 32, 32, 32)        896       \n",
      "_________________________________________________________________\n",
      "batch_normalization (BatchNo (None, 32, 32, 32)        128       \n",
      "_________________________________________________________________\n",
      "conv2d_1 (Conv2D)            (None, 32, 32, 32)        9248      \n",
      "_________________________________________________________________\n",
      "batch_normalization_1 (Batch (None, 32, 32, 32)        128       \n",
      "_________________________________________________________________\n",
      "max_pooling2d (MaxPooling2D) (None, 16, 16, 32)        0         \n",
      "_________________________________________________________________\n",
      "conv2d_2 (Conv2D)            (None, 16, 16, 64)        18496     \n",
      "_________________________________________________________________\n",
      "batch_normalization_2 (Batch (None, 16, 16, 64)        256       \n",
      "_________________________________________________________________\n",
      "conv2d_3 (Conv2D)            (None, 16, 16, 64)        36928     \n",
      "_________________________________________________________________\n",
      "batch_normalization_3 (Batch (None, 16, 16, 64)        256       \n",
      "_________________________________________________________________\n",
      "max_pooling2d_1 (MaxPooling2 (None, 8, 8, 64)          0         \n",
      "_________________________________________________________________\n",
      "conv2d_4 (Conv2D)            (None, 8, 8, 128)         73856     \n",
      "_________________________________________________________________\n",
      "batch_normalization_4 (Batch (None, 8, 8, 128)         512       \n",
      "_________________________________________________________________\n",
      "conv2d_5 (Conv2D)            (None, 8, 8, 128)         147584    \n",
      "_________________________________________________________________\n",
      "batch_normalization_5 (Batch (None, 8, 8, 128)         512       \n",
      "_________________________________________________________________\n",
      "max_pooling2d_2 (MaxPooling2 (None, 4, 4, 128)         0         \n",
      "_________________________________________________________________\n",
      "flatten (Flatten)            (None, 2048)              0         \n",
      "_________________________________________________________________\n",
      "dropout (Dropout)            (None, 2048)              0         \n",
      "_________________________________________________________________\n",
      "dense (Dense)                (None, 1024)              2098176   \n",
      "_________________________________________________________________\n",
      "dropout_1 (Dropout)          (None, 1024)              0         \n",
      "_________________________________________________________________\n",
      "dense_1 (Dense)              (None, 10)                10250     \n",
      "=================================================================\n",
      "Total params: 2,397,226\n",
      "Trainable params: 2,396,330\n",
      "Non-trainable params: 896\n",
      "_________________________________________________________________\n"
     ]
    }
   ],
   "source": [
    "# Now that the model is so large, it's useful to summarie it\n",
    "model.summary()"
   ]
  },
  {
   "cell_type": "code",
   "execution_count": null,
   "metadata": {},
   "outputs": [],
   "source": []
  },
  {
   "cell_type": "code",
   "execution_count": null,
   "metadata": {},
   "outputs": [],
   "source": []
  }
 ],
 "metadata": {
  "kernelspec": {
   "display_name": "Python 3",
   "language": "python",
   "name": "python3"
  },
  "language_info": {
   "codemirror_mode": {
    "name": "ipython",
    "version": 3
   },
   "file_extension": ".py",
   "mimetype": "text/x-python",
   "name": "python",
   "nbconvert_exporter": "python",
   "pygments_lexer": "ipython3",
   "version": "3.8.3"
  }
 },
 "nbformat": 4,
 "nbformat_minor": 4
}
