{
 "cells": [
  {
   "cell_type": "code",
   "execution_count": 1,
   "metadata": {},
   "outputs": [
    {
     "name": "stdout",
     "output_type": "stream",
     "text": [
      "Init Plugin\n",
      "Init Graph Optimizer\n",
      "Init Kernel\n"
     ]
    }
   ],
   "source": [
    "import numpy as np\n",
    "import tensorflow as tf\n",
    "import matplotlib.pyplot as plt\n",
    "from tensorflow.keras.layers import Input, Conv2D, Dense, Flatten, Dropout, GlobalMaxPooling2D, MaxPooling2D, BatchNormalization\n",
    "from tensorflow.keras.models import Model"
   ]
  },
  {
   "cell_type": "code",
   "execution_count": 2,
   "metadata": {
    "scrolled": true
   },
   "outputs": [
    {
     "name": "stdout",
     "output_type": "stream",
     "text": [
      "x_train.shape: (50000, 32, 32, 3)\n",
      "y_train.shape: (50000,)\n"
     ]
    }
   ],
   "source": [
    "# Load in the data\n",
    "cifar10 = tf.keras.datasets.cifar10\n",
    "\n",
    "(x_train, y_train), (x_test, y_test) = cifar10.load_data()\n",
    "x_train, x_test = x_train / 255.0, x_test / 255.0\n",
    "y_train, y_test = y_train.flatten(), y_test.flatten()\n",
    "print(\"x_train.shape:\", x_train.shape)\n",
    "print(\"y_train.shape:\", y_train.shape)"
   ]
  },
  {
   "cell_type": "code",
   "execution_count": 3,
   "metadata": {},
   "outputs": [
    {
     "name": "stdout",
     "output_type": "stream",
     "text": [
      "number of classes: 10\n"
     ]
    }
   ],
   "source": [
    "# number of classes\n",
    "K = len(set(y_train))\n",
    "print(\"number of classes:\", K)"
   ]
  },
  {
   "cell_type": "code",
   "execution_count": 4,
   "metadata": {},
   "outputs": [
    {
     "name": "stdout",
     "output_type": "stream",
     "text": [
      "[[[0.23137255 0.24313725 0.24705882]\n",
      "  [0.16862745 0.18039216 0.17647059]\n",
      "  [0.19607843 0.18823529 0.16862745]\n",
      "  ...\n",
      "  [0.61960784 0.51764706 0.42352941]\n",
      "  [0.59607843 0.49019608 0.4       ]\n",
      "  [0.58039216 0.48627451 0.40392157]]\n",
      "\n",
      " [[0.0627451  0.07843137 0.07843137]\n",
      "  [0.         0.         0.        ]\n",
      "  [0.07058824 0.03137255 0.        ]\n",
      "  ...\n",
      "  [0.48235294 0.34509804 0.21568627]\n",
      "  [0.46666667 0.3254902  0.19607843]\n",
      "  [0.47843137 0.34117647 0.22352941]]\n",
      "\n",
      " [[0.09803922 0.09411765 0.08235294]\n",
      "  [0.0627451  0.02745098 0.        ]\n",
      "  [0.19215686 0.10588235 0.03137255]\n",
      "  ...\n",
      "  [0.4627451  0.32941176 0.19607843]\n",
      "  [0.47058824 0.32941176 0.19607843]\n",
      "  [0.42745098 0.28627451 0.16470588]]\n",
      "\n",
      " ...\n",
      "\n",
      " [[0.81568627 0.66666667 0.37647059]\n",
      "  [0.78823529 0.6        0.13333333]\n",
      "  [0.77647059 0.63137255 0.10196078]\n",
      "  ...\n",
      "  [0.62745098 0.52156863 0.2745098 ]\n",
      "  [0.21960784 0.12156863 0.02745098]\n",
      "  [0.20784314 0.13333333 0.07843137]]\n",
      "\n",
      " [[0.70588235 0.54509804 0.37647059]\n",
      "  [0.67843137 0.48235294 0.16470588]\n",
      "  [0.72941176 0.56470588 0.11764706]\n",
      "  ...\n",
      "  [0.72156863 0.58039216 0.36862745]\n",
      "  [0.38039216 0.24313725 0.13333333]\n",
      "  [0.3254902  0.20784314 0.13333333]]\n",
      "\n",
      " [[0.69411765 0.56470588 0.45490196]\n",
      "  [0.65882353 0.50588235 0.36862745]\n",
      "  [0.70196078 0.55686275 0.34117647]\n",
      "  ...\n",
      "  [0.84705882 0.72156863 0.54901961]\n",
      "  [0.59215686 0.4627451  0.32941176]\n",
      "  [0.48235294 0.36078431 0.28235294]]]\n",
      "(32, 32, 3)\n"
     ]
    }
   ],
   "source": [
    "print(x_train[0])\n",
    "print(x_train[0].shape)"
   ]
  },
  {
   "cell_type": "code",
   "execution_count": 5,
   "metadata": {},
   "outputs": [
    {
     "name": "stdout",
     "output_type": "stream",
     "text": [
      "Metal device set to: Apple M1 Max\n"
     ]
    },
    {
     "name": "stderr",
     "output_type": "stream",
     "text": [
      "2022-05-02 20:02:52.658553: I tensorflow/core/common_runtime/pluggable_device/pluggable_device_factory.cc:305] Could not identify NUMA node of platform GPU ID 0, defaulting to 0. Your kernel may not have been built with NUMA support.\n",
      "2022-05-02 20:02:52.658685: I tensorflow/core/common_runtime/pluggable_device/pluggable_device_factory.cc:271] Created TensorFlow device (/job:localhost/replica:0/task:0/device:GPU:0 with 0 MB memory) -> physical PluggableDevice (device: 0, name: METAL, pci bus id: <undefined>)\n"
     ]
    }
   ],
   "source": [
    "# Build the model using the functional API\n",
    "i = Input(shape=x_train[0].shape)\n",
    "\n",
    "# x = Conv2D(32, (3, 3), strides=2, activation='relu')(i)\n",
    "# x = Conv2D(64, (3, 3), strides=2, activation='relu')(x)\n",
    "# x = Conv2D(128, (3, 3), strides=2, activation='relu')(x)\n",
    "\n",
    "x = Conv2D(32, (3, 3), activation='relu', padding='same')(i)\n",
    "x = BatchNormalization()(x)\n",
    "x = Conv2D(32, (3, 3), activation='relu', padding='same')(x)\n",
    "x = BatchNormalization()(x)\n",
    "x = MaxPooling2D((2, 2))(x)\n",
    "# x = Dropout(0.2)(x)\n",
    "x = Conv2D(64, (3, 3), activation='relu', padding='same')(x)\n",
    "x = BatchNormalization()(x)\n",
    "x = Conv2D(64, (3, 3), activation='relu', padding='same')(x)\n",
    "x = BatchNormalization()(x)\n",
    "x = MaxPooling2D((2, 2))(x)\n",
    "# x = Dropout(0.2)(x)\n",
    "x = Conv2D(128, (3, 3), activation='relu', padding='same')(x)\n",
    "x = BatchNormalization()(x)\n",
    "x = Conv2D(128, (3, 3), activation='relu', padding='same')(x)\n",
    "x = BatchNormalization()(x)\n",
    "x = MaxPooling2D((2, 2))(x)\n",
    "# x = Dropout(0.2)(x)\n",
    "\n",
    "# x = GlobalMaxPooling2D()(x)\n",
    "x = Flatten()(x)\n",
    "x = Dropout(0.2)(x)\n",
    "x = Dense(1024, activation='relu')(x)\n",
    "x = Dropout(0.2)(x)\n",
    "x = Dense(K, activation='softmax')(x)\n",
    "\n",
    "model = Model(i, x)"
   ]
  },
  {
   "cell_type": "code",
   "execution_count": 6,
   "metadata": {},
   "outputs": [],
   "source": [
    "# Compile and fit\n",
    "# Note: make sure you are using hte GPU for this!\n",
    "model.compile(optimizer='adam', \n",
    "              loss='sparse_categorical_crossentropy', \n",
    "              metrics=['accuracy'])"
   ]
  },
  {
   "cell_type": "code",
   "execution_count": 7,
   "metadata": {},
   "outputs": [
    {
     "name": "stderr",
     "output_type": "stream",
     "text": [
      "2022-05-02 20:02:53.464555: I tensorflow/compiler/mlir/mlir_graph_optimization_pass.cc:176] None of the MLIR Optimization Passes are enabled (registered 2)\n",
      "2022-05-02 20:02:53.466596: W tensorflow/core/platform/profile_utils/cpu_utils.cc:128] Failed to get CPU frequency: 0 Hz\n"
     ]
    },
    {
     "name": "stdout",
     "output_type": "stream",
     "text": [
      "Epoch 1/50\n"
     ]
    },
    {
     "name": "stderr",
     "output_type": "stream",
     "text": [
      "2022-05-02 20:02:53.720308: I tensorflow/core/grappler/optimizers/custom_graph_optimizer_registry.cc:112] Plugin optimizer for device_type GPU is enabled.\n"
     ]
    },
    {
     "name": "stdout",
     "output_type": "stream",
     "text": [
      "1563/1563 [==============================] - ETA: 0s - loss: 1.3044 - accuracy: 0.5491"
     ]
    },
    {
     "name": "stderr",
     "output_type": "stream",
     "text": [
      "2022-05-02 20:03:14.819389: I tensorflow/core/grappler/optimizers/custom_graph_optimizer_registry.cc:112] Plugin optimizer for device_type GPU is enabled.\n"
     ]
    },
    {
     "name": "stdout",
     "output_type": "stream",
     "text": [
      "1563/1563 [==============================] - 23s 13ms/step - loss: 1.3044 - accuracy: 0.5491 - val_loss: 1.0279 - val_accuracy: 0.6372\n",
      "Epoch 2/50\n",
      "1563/1563 [==============================] - 19s 12ms/step - loss: 0.8283 - accuracy: 0.7111 - val_loss: 1.0143 - val_accuracy: 0.6409\n",
      "Epoch 3/50\n",
      "1563/1563 [==============================] - 19s 12ms/step - loss: 0.6668 - accuracy: 0.7700 - val_loss: 0.8022 - val_accuracy: 0.7234\n",
      "Epoch 4/50\n",
      "1563/1563 [==============================] - 19s 12ms/step - loss: 0.5548 - accuracy: 0.8080 - val_loss: 0.6275 - val_accuracy: 0.7876\n",
      "Epoch 5/50\n",
      "1563/1563 [==============================] - 19s 12ms/step - loss: 0.4684 - accuracy: 0.8374 - val_loss: 0.8787 - val_accuracy: 0.7227\n",
      "Epoch 6/50\n",
      "1563/1563 [==============================] - 19s 12ms/step - loss: 0.3965 - accuracy: 0.8625 - val_loss: 0.5995 - val_accuracy: 0.8048\n",
      "Epoch 7/50\n",
      "1563/1563 [==============================] - 19s 12ms/step - loss: 0.3372 - accuracy: 0.8838 - val_loss: 0.5828 - val_accuracy: 0.8068\n",
      "Epoch 8/50\n",
      "1563/1563 [==============================] - 19s 12ms/step - loss: 0.2834 - accuracy: 0.9018 - val_loss: 0.6571 - val_accuracy: 0.8005\n",
      "Epoch 9/50\n",
      "1563/1563 [==============================] - 19s 12ms/step - loss: 0.2393 - accuracy: 0.9178 - val_loss: 0.7592 - val_accuracy: 0.7887\n",
      "Epoch 10/50\n",
      "1563/1563 [==============================] - 20s 13ms/step - loss: 0.2097 - accuracy: 0.9282 - val_loss: 0.6160 - val_accuracy: 0.8255\n",
      "Epoch 11/50\n",
      "1563/1563 [==============================] - 20s 13ms/step - loss: 0.1787 - accuracy: 0.9390 - val_loss: 0.6951 - val_accuracy: 0.8158\n",
      "Epoch 12/50\n",
      "1563/1563 [==============================] - 19s 12ms/step - loss: 0.1655 - accuracy: 0.9442 - val_loss: 0.6927 - val_accuracy: 0.8202\n",
      "Epoch 13/50\n",
      "1563/1563 [==============================] - 19s 12ms/step - loss: 0.1470 - accuracy: 0.9499 - val_loss: 0.7755 - val_accuracy: 0.8190\n",
      "Epoch 14/50\n",
      "1563/1563 [==============================] - 20s 13ms/step - loss: 0.1313 - accuracy: 0.9566 - val_loss: 0.8193 - val_accuracy: 0.8036\n",
      "Epoch 15/50\n",
      "1563/1563 [==============================] - 20s 13ms/step - loss: 0.1222 - accuracy: 0.9587 - val_loss: 0.7231 - val_accuracy: 0.8299\n",
      "Epoch 16/50\n",
      "1563/1563 [==============================] - 21s 14ms/step - loss: 0.1168 - accuracy: 0.9612 - val_loss: 0.8136 - val_accuracy: 0.8139\n",
      "Epoch 17/50\n",
      "1563/1563 [==============================] - 21s 14ms/step - loss: 0.1107 - accuracy: 0.9624 - val_loss: 0.6902 - val_accuracy: 0.8290\n",
      "Epoch 18/50\n",
      "1563/1563 [==============================] - 21s 14ms/step - loss: 0.0989 - accuracy: 0.9673 - val_loss: 0.7111 - val_accuracy: 0.8355\n",
      "Epoch 19/50\n",
      "1563/1563 [==============================] - 21s 13ms/step - loss: 0.0904 - accuracy: 0.9694 - val_loss: 0.7405 - val_accuracy: 0.8218\n",
      "Epoch 20/50\n",
      "1563/1563 [==============================] - 21s 13ms/step - loss: 0.0834 - accuracy: 0.9730 - val_loss: 0.7678 - val_accuracy: 0.8326\n",
      "Epoch 21/50\n",
      "1563/1563 [==============================] - 21s 14ms/step - loss: 0.0928 - accuracy: 0.9696 - val_loss: 0.8501 - val_accuracy: 0.8186\n",
      "Epoch 22/50\n",
      "1563/1563 [==============================] - 23s 15ms/step - loss: 0.0790 - accuracy: 0.9737 - val_loss: 0.7357 - val_accuracy: 0.8320\n",
      "Epoch 23/50\n",
      "1563/1563 [==============================] - 22s 14ms/step - loss: 0.0746 - accuracy: 0.9751 - val_loss: 0.7839 - val_accuracy: 0.8255\n",
      "Epoch 24/50\n",
      "1563/1563 [==============================] - 23s 15ms/step - loss: 0.0727 - accuracy: 0.9754 - val_loss: 0.8132 - val_accuracy: 0.8307\n",
      "Epoch 25/50\n",
      "1563/1563 [==============================] - 22s 14ms/step - loss: 0.0728 - accuracy: 0.9757 - val_loss: 0.8782 - val_accuracy: 0.8305\n",
      "Epoch 26/50\n",
      "1563/1563 [==============================] - 22s 14ms/step - loss: 0.0680 - accuracy: 0.9781 - val_loss: 0.7702 - val_accuracy: 0.8366\n",
      "Epoch 27/50\n",
      "1563/1563 [==============================] - 22s 14ms/step - loss: 0.0624 - accuracy: 0.9799 - val_loss: 0.7625 - val_accuracy: 0.8365\n",
      "Epoch 28/50\n",
      "1563/1563 [==============================] - 21s 13ms/step - loss: 0.0635 - accuracy: 0.9792 - val_loss: 0.7658 - val_accuracy: 0.8358\n",
      "Epoch 29/50\n",
      "1563/1563 [==============================] - 21s 13ms/step - loss: 0.0583 - accuracy: 0.9810 - val_loss: 0.9009 - val_accuracy: 0.8281\n",
      "Epoch 30/50\n",
      "1563/1563 [==============================] - 21s 13ms/step - loss: 0.0642 - accuracy: 0.9798 - val_loss: 0.8340 - val_accuracy: 0.8382\n",
      "Epoch 31/50\n",
      "1563/1563 [==============================] - 21s 13ms/step - loss: 0.0518 - accuracy: 0.9830 - val_loss: 0.7803 - val_accuracy: 0.8373\n",
      "Epoch 32/50\n",
      "1563/1563 [==============================] - 21s 14ms/step - loss: 0.0564 - accuracy: 0.9816 - val_loss: 0.7918 - val_accuracy: 0.8411\n",
      "Epoch 33/50\n",
      "1563/1563 [==============================] - 21s 14ms/step - loss: 0.0507 - accuracy: 0.9834 - val_loss: 0.7734 - val_accuracy: 0.8324\n",
      "Epoch 34/50\n",
      "1563/1563 [==============================] - 21s 14ms/step - loss: 0.0503 - accuracy: 0.9834 - val_loss: 0.8211 - val_accuracy: 0.8331\n",
      "Epoch 35/50\n",
      "1563/1563 [==============================] - 21s 14ms/step - loss: 0.0508 - accuracy: 0.9836 - val_loss: 0.8503 - val_accuracy: 0.8369\n",
      "Epoch 36/50\n",
      "1563/1563 [==============================] - 21s 14ms/step - loss: 0.0456 - accuracy: 0.9853 - val_loss: 0.8927 - val_accuracy: 0.8334\n",
      "Epoch 37/50\n",
      "1563/1563 [==============================] - 21s 14ms/step - loss: 0.0502 - accuracy: 0.9840 - val_loss: 0.8459 - val_accuracy: 0.8328\n",
      "Epoch 38/50\n",
      "1563/1563 [==============================] - 21s 14ms/step - loss: 0.0426 - accuracy: 0.9865 - val_loss: 0.9174 - val_accuracy: 0.8332\n",
      "Epoch 39/50\n",
      "1563/1563 [==============================] - 21s 14ms/step - loss: 0.0441 - accuracy: 0.9860 - val_loss: 0.8659 - val_accuracy: 0.8297\n",
      "Epoch 40/50\n",
      "1563/1563 [==============================] - 21s 14ms/step - loss: 0.0452 - accuracy: 0.9857 - val_loss: 0.8724 - val_accuracy: 0.8330\n",
      "Epoch 41/50\n",
      "1563/1563 [==============================] - 21s 14ms/step - loss: 0.0404 - accuracy: 0.9869 - val_loss: 0.9241 - val_accuracy: 0.8346\n",
      "Epoch 42/50\n",
      "1563/1563 [==============================] - 21s 13ms/step - loss: 0.0421 - accuracy: 0.9861 - val_loss: 0.9823 - val_accuracy: 0.8340\n",
      "Epoch 43/50\n",
      "1563/1563 [==============================] - 21s 14ms/step - loss: 0.0396 - accuracy: 0.9871 - val_loss: 0.8704 - val_accuracy: 0.8382\n",
      "Epoch 44/50\n",
      "1563/1563 [==============================] - 22s 14ms/step - loss: 0.0393 - accuracy: 0.9870 - val_loss: 0.8776 - val_accuracy: 0.8434\n",
      "Epoch 45/50\n",
      "1563/1563 [==============================] - 22s 14ms/step - loss: 0.0409 - accuracy: 0.9866 - val_loss: 0.8708 - val_accuracy: 0.8396\n",
      "Epoch 46/50\n",
      "1563/1563 [==============================] - 22s 14ms/step - loss: 0.0398 - accuracy: 0.9876 - val_loss: 0.9328 - val_accuracy: 0.8373\n",
      "Epoch 47/50\n",
      "1563/1563 [==============================] - 22s 14ms/step - loss: 0.0367 - accuracy: 0.9888 - val_loss: 0.8986 - val_accuracy: 0.8363\n",
      "Epoch 48/50\n",
      "1563/1563 [==============================] - 22s 14ms/step - loss: 0.0389 - accuracy: 0.9876 - val_loss: 0.9589 - val_accuracy: 0.8357\n",
      "Epoch 49/50\n",
      "1563/1563 [==============================] - 21s 14ms/step - loss: 0.0398 - accuracy: 0.9877 - val_loss: 0.8822 - val_accuracy: 0.8430\n",
      "Epoch 50/50\n",
      "1563/1563 [==============================] - 22s 14ms/step - loss: 0.0357 - accuracy: 0.9885 - val_loss: 0.9522 - val_accuracy: 0.8347\n"
     ]
    }
   ],
   "source": [
    "r = model.fit(x_train, y_train, validation_data=(x_test, y_test), epochs=50)"
   ]
  },
  {
   "cell_type": "code",
   "execution_count": 8,
   "metadata": {},
   "outputs": [
    {
     "name": "stdout",
     "output_type": "stream",
     "text": [
      "Epoch 1/30\n",
      "   1/1562 [..............................] - ETA: 6:32 - loss: 1.1711 - accuracy: 0.8125"
     ]
    },
    {
     "name": "stderr",
     "output_type": "stream",
     "text": [
      "2022-05-02 20:20:19.335379: I tensorflow/core/grappler/optimizers/custom_graph_optimizer_registry.cc:112] Plugin optimizer for device_type GPU is enabled.\n"
     ]
    },
    {
     "name": "stdout",
     "output_type": "stream",
     "text": [
      "1562/1562 [==============================] - 23s 15ms/step - loss: 0.5679 - accuracy: 0.8204 - val_loss: 0.5040 - val_accuracy: 0.8347\n",
      "Epoch 2/30\n",
      "1562/1562 [==============================] - 22s 14ms/step - loss: 0.4447 - accuracy: 0.8533 - val_loss: 0.4699 - val_accuracy: 0.8492\n",
      "Epoch 3/30\n",
      "1562/1562 [==============================] - 22s 14ms/step - loss: 0.4118 - accuracy: 0.8627 - val_loss: 0.4599 - val_accuracy: 0.8466\n",
      "Epoch 4/30\n",
      "1562/1562 [==============================] - 22s 14ms/step - loss: 0.3840 - accuracy: 0.8719 - val_loss: 0.4803 - val_accuracy: 0.8435\n",
      "Epoch 5/30\n",
      "1562/1562 [==============================] - 22s 14ms/step - loss: 0.3641 - accuracy: 0.8789 - val_loss: 0.4494 - val_accuracy: 0.8532\n",
      "Epoch 6/30\n",
      "1562/1562 [==============================] - 22s 14ms/step - loss: 0.3539 - accuracy: 0.8822 - val_loss: 0.4625 - val_accuracy: 0.8512\n",
      "Epoch 7/30\n",
      "1562/1562 [==============================] - 22s 14ms/step - loss: 0.3371 - accuracy: 0.8852 - val_loss: 0.4420 - val_accuracy: 0.8636\n",
      "Epoch 8/30\n",
      "1562/1562 [==============================] - 22s 14ms/step - loss: 0.3241 - accuracy: 0.8900 - val_loss: 0.4629 - val_accuracy: 0.8546\n",
      "Epoch 9/30\n",
      "1562/1562 [==============================] - 22s 14ms/step - loss: 0.3192 - accuracy: 0.8926 - val_loss: 0.4560 - val_accuracy: 0.8536\n",
      "Epoch 10/30\n",
      "1562/1562 [==============================] - 22s 14ms/step - loss: 0.3068 - accuracy: 0.8958 - val_loss: 0.4110 - val_accuracy: 0.8653\n",
      "Epoch 11/30\n",
      "1562/1562 [==============================] - 21s 14ms/step - loss: 0.2969 - accuracy: 0.8988 - val_loss: 0.4424 - val_accuracy: 0.8569\n",
      "Epoch 12/30\n",
      "1562/1562 [==============================] - 22s 14ms/step - loss: 0.2872 - accuracy: 0.9032 - val_loss: 0.4553 - val_accuracy: 0.8613\n",
      "Epoch 13/30\n",
      "1562/1562 [==============================] - 21s 14ms/step - loss: 0.2801 - accuracy: 0.9054 - val_loss: 0.4309 - val_accuracy: 0.8600\n",
      "Epoch 14/30\n",
      "1562/1562 [==============================] - 21s 14ms/step - loss: 0.2721 - accuracy: 0.9070 - val_loss: 0.4316 - val_accuracy: 0.8662\n",
      "Epoch 15/30\n",
      "1562/1562 [==============================] - 22s 14ms/step - loss: 0.2626 - accuracy: 0.9110 - val_loss: 0.4669 - val_accuracy: 0.8617\n",
      "Epoch 16/30\n",
      "1562/1562 [==============================] - 22s 14ms/step - loss: 0.2539 - accuracy: 0.9142 - val_loss: 0.4147 - val_accuracy: 0.8690\n",
      "Epoch 17/30\n",
      "1562/1562 [==============================] - 22s 14ms/step - loss: 0.2521 - accuracy: 0.9146 - val_loss: 0.4212 - val_accuracy: 0.8676\n",
      "Epoch 18/30\n",
      "1562/1562 [==============================] - 22s 14ms/step - loss: 0.2443 - accuracy: 0.9160 - val_loss: 0.4193 - val_accuracy: 0.8727\n",
      "Epoch 19/30\n",
      "1562/1562 [==============================] - 22s 14ms/step - loss: 0.2397 - accuracy: 0.9193 - val_loss: 0.4523 - val_accuracy: 0.8613\n",
      "Epoch 20/30\n",
      "1562/1562 [==============================] - 22s 14ms/step - loss: 0.2354 - accuracy: 0.9207 - val_loss: 0.4360 - val_accuracy: 0.8682\n",
      "Epoch 21/30\n",
      "1562/1562 [==============================] - 22s 14ms/step - loss: 0.2309 - accuracy: 0.9212 - val_loss: 0.4569 - val_accuracy: 0.8672\n",
      "Epoch 22/30\n",
      "1562/1562 [==============================] - 22s 14ms/step - loss: 0.2264 - accuracy: 0.9231 - val_loss: 0.4372 - val_accuracy: 0.8653\n",
      "Epoch 23/30\n",
      "1562/1562 [==============================] - 22s 14ms/step - loss: 0.2233 - accuracy: 0.9229 - val_loss: 0.3949 - val_accuracy: 0.8756\n",
      "Epoch 24/30\n",
      "1562/1562 [==============================] - 22s 14ms/step - loss: 0.2178 - accuracy: 0.9267 - val_loss: 0.4727 - val_accuracy: 0.8673\n",
      "Epoch 25/30\n",
      "1562/1562 [==============================] - 22s 14ms/step - loss: 0.2156 - accuracy: 0.9258 - val_loss: 0.3816 - val_accuracy: 0.8791\n",
      "Epoch 26/30\n",
      "1562/1562 [==============================] - 22s 14ms/step - loss: 0.2104 - accuracy: 0.9284 - val_loss: 0.4485 - val_accuracy: 0.8626\n",
      "Epoch 27/30\n",
      "1562/1562 [==============================] - 23s 15ms/step - loss: 0.2096 - accuracy: 0.9283 - val_loss: 0.4153 - val_accuracy: 0.8748\n",
      "Epoch 28/30\n",
      "1562/1562 [==============================] - 22s 14ms/step - loss: 0.2002 - accuracy: 0.9323 - val_loss: 0.4057 - val_accuracy: 0.8730\n",
      "Epoch 29/30\n",
      "1562/1562 [==============================] - 23s 14ms/step - loss: 0.1988 - accuracy: 0.9327 - val_loss: 0.4308 - val_accuracy: 0.8755\n",
      "Epoch 30/30\n",
      "1562/1562 [==============================] - 23s 15ms/step - loss: 0.1983 - accuracy: 0.9322 - val_loss: 0.4190 - val_accuracy: 0.8749\n"
     ]
    }
   ],
   "source": [
    "# Fit with data augmentation\n",
    "# Node: if you run this AFTER calling the previous model.fit(), it will CONTINUE training where it left off\n",
    "# data_generator = tf.keras.preprocessing.image.ImageDataGenerator(width_shift_range=0.1, height_shift_range=0.1, horizontal_flip=True)\n",
    "\n",
    "from tensorflow.keras.preprocessing.image import ImageDataGenerator\n",
    "batch_size = 32\n",
    "data_generator = ImageDataGenerator(width_shift_range=0.1, \n",
    "                                    height_shift_range=0.1, \n",
    "                                    horizontal_flip=True)\n",
    "train_generator = data_generator.flow(x_train, y_train, batch_size)\n",
    "steps_per_epoch = x_train.shape[0] // batch_size\n",
    "# r = model.fit_generator(train_generator, \n",
    "#                         validation_data=(x_test, y_test), \n",
    "#                         steps_per_epoch=steps_per_epoch, epochs=50)\n",
    "r = model.fit(train_generator, \n",
    "                        validation_data=(x_test, y_test), \n",
    "                        steps_per_epoch=steps_per_epoch, epochs=30)"
   ]
  },
  {
   "cell_type": "code",
   "execution_count": 9,
   "metadata": {},
   "outputs": [
    {
     "data": {
      "text/plain": [
       "<matplotlib.legend.Legend at 0x33f030cd0>"
      ]
     },
     "execution_count": 9,
     "metadata": {},
     "output_type": "execute_result"
    },
    {
     "data": {
      "image/png": "[encoded data removed]",
      "text/plain": [
       "<Figure size 432x288 with 1 Axes>"
      ]
     },
     "metadata": {
      "needs_background": "light"
     },
     "output_type": "display_data"
    }
   ],
   "source": [
    "# Plot loss per iteration\n",
    "import matplotlib.pyplot as plt\n",
    "plt.plot(r.history['loss'], label='loss')\n",
    "plt.plot(r.history['val_loss'], label='val_loss')\n",
    "plt.legend()"
   ]
  },
  {
   "cell_type": "code",
   "execution_count": 10,
   "metadata": {},
   "outputs": [
    {
     "data": {
      "text/plain": [
       "<matplotlib.legend.Legend at 0x33f3b3880>"
      ]
     },
     "execution_count": 10,
     "metadata": {},
     "output_type": "execute_result"
    },
    {
     "data": {
      "image/png": "[encoded data removed]",
      "text/plain": [
       "<Figure size 432x288 with 1 Axes>"
      ]
     },
     "metadata": {
      "needs_background": "light"
     },
     "output_type": "display_data"
    }
   ],
   "source": [
    "# Plot accuracy per iteration\n",
    "import matplotlib.pyplot as plt\n",
    "plt.plot(r.history['accuracy'], label='ac')\n",
    "plt.plot(r.history['val_accuracy'], label='val_acc')\n",
    "plt.legend()"
   ]
  },
  {
   "cell_type": "code",
   "execution_count": 11,
   "metadata": {},
   "outputs": [
    {
     "name": "stderr",
     "output_type": "stream",
     "text": [
      "2022-05-02 20:31:21.783749: I tensorflow/core/grappler/optimizers/custom_graph_optimizer_registry.cc:112] Plugin optimizer for device_type GPU is enabled.\n"
     ]
    },
    {
     "name": "stdout",
     "output_type": "stream",
     "text": [
      "Consusion matrix, without normalization\n",
      "[[918   5  24   4   8   0   8   1  24   8]\n",
      " [  6 947   2   0   0   0   9   0   9  27]\n",
      " [ 34   2 807  39  32  13  56   9   5   3]\n",
      " [ 13   1  28 764  24  70  74  11   6   9]\n",
      " [  4   0  28  31 867  15  39  12   2   2]\n",
      " [  7   1  22 148  31 735  34  16   3   3]\n",
      " [  3   1  14  18   5   1 955   0   1   2]\n",
      " [ 15   4   7  17  29  24   6 892   1   5]\n",
      " [ 39   3   3   5   0   1   4   0 931  14]\n",
      " [ 12  28   3   6   1   1   4   1  11 933]]\n"
     ]
    },
    {
     "data": {
      "image/png": "[encoded data removed]",
      "text/plain": [
       "<Figure size 432x288 with 2 Axes>"
      ]
     },
     "metadata": {
      "needs_background": "light"
     },
     "output_type": "display_data"
    }
   ],
   "source": [
    "from sklearn.metrics import confusion_matrix\n",
    "import itertools\n",
    "def plot_confusion_matrix(cm, classes, \n",
    "                          normalize=False, \n",
    "                          title='Confusion matrix',\n",
    "                          cmap=plt.cm.Blues):\n",
    "  \"\"\"\n",
    "  This function prints and plots the confusion matrix.\n",
    "  Normalization can be appled by setting `normalize=True`.\n",
    "  \"\"\"\n",
    "  if normalize:\n",
    "    cm = cm.astype('float') / cm.sum(axis=1)[:, np.newaxis]\n",
    "    print(\"normalized confusion matrix\")\n",
    "  else:\n",
    "    print('Consusion matrix, without normalization')\n",
    "  print(cm)\n",
    "\n",
    "  plt.imshow(cm, interpolation='nearest', cmap=cmap)\n",
    "  plt.title(title)\n",
    "  plt.colorbar()\n",
    "  tick_marks = np.arange(len(classes))\n",
    "  plt.xticks(tick_marks, classes, rotation=45)\n",
    "  plt.yticks(tick_marks, classes)\n",
    "\n",
    "  fmt = '.2f' if normalize else 'd'\n",
    "  thresh = cm.max() / 2.\n",
    "  for i, j in itertools.product(range(cm.shape[0]), range(cm.shape[1])):\n",
    "    plt.text(j, i, format(cm[i, j], fmt),\n",
    "             horizontalalignment=\"center\",\n",
    "             color=\"white\" if cm[i, j] > thresh else \"black\")\n",
    "  \n",
    "  plt.tight_layout()\n",
    "  plt.ylabel('True label')\n",
    "  plt.xlabel('Predicted label')\n",
    "  plt.show()\n",
    "\n",
    "p_test = model.predict(x_test).argmax(axis=1)\n",
    "cm = confusion_matrix(y_test, p_test)\n",
    "plot_confusion_matrix(cm, list(range(10)))"
   ]
  },
  {
   "cell_type": "code",
   "execution_count": 12,
   "metadata": {},
   "outputs": [],
   "source": [
    "# Label mapping\n",
    "labels = '''airplane\n",
    "automobile\n",
    "bird\n",
    "cat\n",
    "deer\n",
    "dog\n",
    "frog\n",
    "horse\n",
    "ship\n",
    "truck'''.split()"
   ]
  },
  {
   "cell_type": "code",
   "execution_count": 13,
   "metadata": {},
   "outputs": [
    {
     "data": {
      "image/png": "[encoded data removed]",
      "text/plain": [
       "<Figure size 432x288 with 1 Axes>"
      ]
     },
     "metadata": {
      "needs_background": "light"
     },
     "output_type": "display_data"
    }
   ],
   "source": [
    "# Show some misclassified examples\n",
    "misclassified_idx = np.where(p_test != y_test)[0]\n",
    "i = np.random.choice(misclassified_idx)\n",
    "plt.imshow(x_test[i], cmap='gray')\n",
    "plt.title(\"True label: %s, Predicted: %s\" % (labels[y_test[i]], labels[p_test[i]]));"
   ]
  },
  {
   "cell_type": "code",
   "execution_count": 14,
   "metadata": {},
   "outputs": [
    {
     "name": "stdout",
     "output_type": "stream",
     "text": [
      "Model: \"model\"\n",
      "_________________________________________________________________\n",
      "Layer (type)                 Output Shape              Param #   \n",
      "=================================================================\n",
      "input_1 (InputLayer)         [(None, 32, 32, 3)]       0         \n",
      "_________________________________________________________________\n",
      "conv2d (Conv2D)              (None, 32, 32, 32)        896       \n",
      "_________________________________________________________________\n",
      "batch_normalization (BatchNo (None, 32, 32, 32)        128       \n",
      "_________________________________________________________________\n",
      "conv2d_1 (Conv2D)            (None, 32, 32, 32)        9248      \n",
      "_________________________________________________________________\n",
      "batch_normalization_1 (Batch (None, 32, 32, 32)        128       \n",
      "_________________________________________________________________\n",
      "max_pooling2d (MaxPooling2D) (None, 16, 16, 32)        0         \n",
      "_________________________________________________________________\n",
      "conv2d_2 (Conv2D)            (None, 16, 16, 64)        18496     \n",
      "_________________________________________________________________\n",
      "batch_normalization_2 (Batch (None, 16, 16, 64)        256       \n",
      "_________________________________________________________________\n",
      "conv2d_3 (Conv2D)            (None, 16, 16, 64)        36928     \n",
      "_________________________________________________________________\n",
      "batch_normalization_3 (Batch (None, 16, 16, 64)        256       \n",
      "_________________________________________________________________\n",
      "max_pooling2d_1 (MaxPooling2 (None, 8, 8, 64)          0         \n",
      "_________________________________________________________________\n",
      "conv2d_4 (Conv2D)            (None, 8, 8, 128)         73856     \n",
      "_________________________________________________________________\n",
      "batch_normalization_4 (Batch (None, 8, 8, 128)         512       \n",
      "_________________________________________________________________\n",
      "conv2d_5 (Conv2D)            (None, 8, 8, 128)         147584    \n",
      "_________________________________________________________________\n",
      "batch_normalization_5 (Batch (None, 8, 8, 128)         512       \n",
      "_________________________________________________________________\n",
      "max_pooling2d_2 (MaxPooling2 (None, 4, 4, 128)         0         \n",
      "_________________________________________________________________\n",
      "flatten (Flatten)            (None, 2048)              0         \n",
      "_________________________________________________________________\n",
      "dropout (Dropout)            (None, 2048)              0         \n",
      "_________________________________________________________________\n",
      "dense (Dense)                (None, 1024)              2098176   \n",
      "_________________________________________________________________\n",
      "dropout_1 (Dropout)          (None, 1024)              0         \n",
      "_________________________________________________________________\n",
      "dense_1 (Dense)              (None, 10)                10250     \n",
      "=================================================================\n",
      "Total params: 2,397,226\n",
      "Trainable params: 2,396,330\n",
      "Non-trainable params: 896\n",
      "_________________________________________________________________\n"
     ]
    }
   ],
   "source": [
    "# Now that the model is so large, it's useful to summarie it\n",
    "model.summary()"
   ]
  },
  {
   "cell_type": "code",
   "execution_count": null,
   "metadata": {},
   "outputs": [],
   "source": []
  },
  {
   "cell_type": "code",
   "execution_count": null,
   "metadata": {},
   "outputs": [],
   "source": []
  }
 ],
 "metadata": {
  "kernelspec": {
   "display_name": "Python 3 (ipykernel)",
   "language": "python",
   "name": "python3"
  },
  "language_info": {
   "codemirror_mode": {
    "name": "ipython",
    "version": 3
   },
   "file_extension": ".py",
   "mimetype": "text/x-python",
   "name": "python",
   "nbconvert_exporter": "python",
   "pygments_lexer": "ipython3",
   "version": "3.8.13"
  }
 },
 "nbformat": 4,
 "nbformat_minor": 4
}
