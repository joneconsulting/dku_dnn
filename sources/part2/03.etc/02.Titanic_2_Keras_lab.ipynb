{
 "cells": [
  {
   "cell_type": "code",
   "execution_count": null,
   "metadata": {},
   "outputs": [],
   "source": [
    "import numpy\n",
    "import pandas\n",
    "import datetime\n",
    "\n",
    "from sklearn.preprocessing import LabelEncoder\n",
    "from sklearn.preprocessing import StandardScaler"
   ]
  },
  {
   "cell_type": "markdown",
   "metadata": {},
   "source": [
    "### JOB1: tensorflow package import"
   ]
  },
  {
   "cell_type": "code",
   "execution_count": null,
   "metadata": {},
   "outputs": [],
   "source": []
  },
  {
   "cell_type": "code",
   "execution_count": null,
   "metadata": {},
   "outputs": [],
   "source": [
    "############################################################\n",
    "# SibSp　-> one hot enconding\n",
    "# One hot encoding SibSp\n",
    "############################################################\n",
    "def get_dummies_sibSp(df_all, df, df_test) :\n",
    "\n",
    "    categories = set(df_all['SibSp'].unique())\n",
    "    df['SibSp'] = pandas.Categorical(df['SibSp'], categories=categories)\n",
    "    df_test['SibSp'] = pandas.Categorical(df_test['SibSp'], categories=categories)\n",
    "\n",
    "    df = pandas.get_dummies(df, columns=['SibSp'])\n",
    "    df_test = pandas.get_dummies(df_test, columns=['SibSp'])\n",
    "\n",
    "    return df, df_test\n",
    "\n",
    "############################################################\n",
    "# Parch　-> one hot enconding\n",
    "# One hot encoding SibSp\n",
    "############################################################\n",
    "def get_dummies_parch(df_all, df, df_test) :\n",
    "\n",
    "    categories = set(df_all['Parch'].unique())\n",
    "    df['Parch'] = pandas.Categorical(df['Parch'], categories=categories)\n",
    "    df_test['Parch'] = pandas.Categorical(df_test['Parch'], categories=categories)\n",
    "\n",
    "    df = pandas.get_dummies(df, columns=['Parch'])\n",
    "    df_test = pandas.get_dummies(df_test, columns=['Parch'])\n",
    "\n",
    "    return df, df_test\n",
    "\n",
    "############################################################\n",
    "# Ticket　-> one hot enconding\n",
    "# One hot encoding Ticket\n",
    "############################################################\n",
    "def get_dummies_ticket(df_all, df, df_test) :\n",
    "\n",
    "    ticket_values = df_all['Ticket'].value_counts()\n",
    "    ticket_values = ticket_values[ticket_values > 1]\n",
    "    ticket_values = pandas.Series(ticket_values.index, name='Ticket')\n",
    "    categories = set(ticket_values.tolist())\n",
    "    df['Ticket'] = pandas.Categorical(df['Ticket'], categories=categories)\n",
    "    df_test['Ticket'] = pandas.Categorical(df_test['Ticket'], categories=categories)\n",
    "\n",
    "    df = pandas.get_dummies(df, columns=['Ticket'])\n",
    "    df_test = pandas.get_dummies(df_test, columns=['Ticket'])\n",
    "\n",
    "    return df, df_test\n",
    "\n",
    "############################################################\n",
    "# Standardization\n",
    "############################################################\n",
    "def standardization(df, df_test) :\n",
    "\n",
    "    standard = StandardScaler()\n",
    "    df_std = pandas.DataFrame(standard.fit_transform(df[['Pclass', 'Fare']].values), columns=['Pclass', 'Fare'])\n",
    "    df.loc[:,'Pclass'] = df_std['Pclass']\n",
    "    df.loc[:,'Fare'] = df_std['Fare']\n",
    "\n",
    "    df_test_std = pandas.DataFrame(standard.transform(df_test[['Pclass', 'Fare']].values), columns=['Pclass', 'Fare'])\n",
    "    df_test.loc[:,'Pclass'] = df_test_std['Pclass']\n",
    "    df_test.loc[:,'Fare'] = df_test_std['Fare']\n",
    "\n",
    "    return df, df_test"
   ]
  },
  {
   "cell_type": "code",
   "execution_count": 1,
   "metadata": {},
   "outputs": [],
   "source": [
    "############################################################\n",
    "# prepare Data\n",
    "############################################################\n",
    "def prepareData() :\n",
    "\n",
    "    ##############################\n",
    "    # Data preprocessing\n",
    "    # Extract necessary items\n",
    "    ##############################\n",
    "    # Load gender_submission.csv\n",
    "    df = pandas.read_csv('train.csv')\n",
    "    df_test = pandas.read_csv('test.csv')\n",
    "\n",
    "    df_all = pandas.concat([df, df_test], sort=False)\n",
    "\n",
    "    df_test_index = df_test[['PassengerId']]\n",
    "\n",
    "    df = df[['Survived', 'Pclass', 'Sex', 'SibSp', 'Parch', 'Ticket', 'Fare']]\n",
    "    df_test = df_test[['Pclass', 'Sex', 'SibSp', 'Parch', 'Ticket', 'Fare']]\n",
    "\n",
    "    ##############################\n",
    "    # Data preprocessing\n",
    "    # Fill or remove missing values\n",
    "    ##############################\n",
    "    df = df[df['Fare'] != 5].reset_index(drop=True)\n",
    "    df = df[df['Fare'] != 0].reset_index(drop=True)\n",
    "\n",
    "    ##############################\n",
    "    # Data preprocessing\n",
    "    # Digitize labels\n",
    "    ##############################\n",
    "    # Gender\n",
    "    ##############################\n",
    "    encoder_sex = LabelEncoder()\n",
    "    df['Sex'] = encoder_sex.fit_transform(df['Sex'].values)\n",
    "    df_test['Sex'] = encoder_sex.transform(df_test['Sex'].values)\n",
    "\n",
    "    ##############################\n",
    "    # Data preprocessing\n",
    "    # One-Hot Encoding\n",
    "    ##############################\n",
    "    ##############################\n",
    "    # SibSp\n",
    "    ##############################\n",
    "    df, df_test = get_dummies_sibSp(df_all, df, df_test)\n",
    "\n",
    "    ##############################\n",
    "    # Parch\n",
    "    ##############################\n",
    "    df, df_test = get_dummies_parch(df_all, df, df_test)\n",
    "\n",
    "    ##############################\n",
    "    # Ticket\n",
    "    ##############################\n",
    "    df, df_test = get_dummies_ticket(df_all, df, df_test)\n",
    "\n",
    "    ##############################\n",
    "    ##############################\n",
    "    df, df_test = standardization(df, df_test)\n",
    "\n",
    "    ##############################\n",
    "    # Data preprocessing\n",
    "    # Fill or remove missing values\n",
    "    ##############################\n",
    "    df.fillna({'Fare':0}, inplace=True)\n",
    "    df_test.fillna({'Fare':0}, inplace=True)\n",
    "\n",
    "    ##############################\n",
    "    # Split training data and test data\n",
    "    ##############################\n",
    "    x = df.drop(columns='Survived')\n",
    "    y = df[['Survived']]\n",
    "\n",
    "    return x, y, df_test, df_test_index"
   ]
  },
  {
   "cell_type": "markdown",
   "metadata": {},
   "source": [
    "### JOB2: make model"
   ]
  },
  {
   "cell_type": "code",
   "execution_count": 2,
   "metadata": {},
   "outputs": [],
   "source": [
    "def create_model():\n",
    "    pass"
   ]
  },
  {
   "cell_type": "code",
   "execution_count": null,
   "metadata": {},
   "outputs": [],
   "source": [
    "model.summary()    "
   ]
  },
  {
   "cell_type": "code",
   "execution_count": null,
   "metadata": {},
   "outputs": [],
   "source": [
    "### JOB3: training, predict, save to csv"
   ]
  },
  {
   "cell_type": "code",
   "execution_count": null,
   "metadata": {},
   "outputs": [],
   "source": []
  }
 ],
 "metadata": {
  "kernelspec": {
   "display_name": "Python 3",
   "language": "python",
   "name": "python3"
  },
  "language_info": {
   "codemirror_mode": {
    "name": "ipython",
    "version": 3
   },
   "file_extension": ".py",
   "mimetype": "text/x-python",
   "name": "python",
   "nbconvert_exporter": "python",
   "pygments_lexer": "ipython3",
   "version": "3.8.3"
  }
 },
 "nbformat": 4,
 "nbformat_minor": 4
}
