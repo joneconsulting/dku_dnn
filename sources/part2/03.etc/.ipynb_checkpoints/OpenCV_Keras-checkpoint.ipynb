{
 "cells": [
  {
   "cell_type": "code",
   "execution_count": 1,
   "metadata": {},
   "outputs": [
    {
     "data": {
      "text/plain": [
       "True"
      ]
     },
     "execution_count": 1,
     "metadata": {},
     "output_type": "execute_result"
    }
   ],
   "source": [
    "import numpy as np\n",
    "import cv2\n",
    "\n",
    "#入出力ファイル\n",
    "input_file = './image/test.jpg'\n",
    "output_file = './image_out/test.jpg'\n",
    "\n",
    "# ファイル読込\n",
    "image = cv2.imread(input_file ,cv2.IMREAD_COLOR)\n",
    "\n",
    "hog = cv2.HOGDescriptor()\n",
    "hog = cv2.HOGDescriptor((48,96), (16,16), (8,8), (8,8), 9)\n",
    "\n",
    "# SVMによる人検出\n",
    "hog.setSVMDetector(cv2.HOGDescriptor_getDaimlerPeopleDetector())\n",
    "\n",
    "# リサイズした方が精度がよかった\n",
    "finalHeight = 800.0\n",
    "scale = finalHeight / image.shape[0]\n",
    "image = cv2.resize(image, None, fx=scale, fy=scale)\n",
    "\n",
    "# 人を検出した座標\n",
    "human, r = hog.detectMultiScale(image, hitThreshold = 0.6, winStride = (8,8), padding = (32, 32), scale = 1.05, finalThreshold=2)\n",
    "\n",
    "# 全員のバウンディングボックスを作成\n",
    "for (x, y, w, h) in human:\n",
    "    cv2.rectangle(image, (x, y),(x+w, y+h),(0,255,0), 2)\n",
    "\n",
    "# ファイルを保存\n",
    "cv2.imwrite(output_file , image)\n"
   ]
  },
  {
   "cell_type": "code",
   "execution_count": null,
   "metadata": {},
   "outputs": [],
   "source": []
  }
 ],
 "metadata": {
  "kernelspec": {
   "display_name": "Python 3",
   "language": "python",
   "name": "python3"
  },
  "language_info": {
   "codemirror_mode": {
    "name": "ipython",
    "version": 3
   },
   "file_extension": ".py",
   "mimetype": "text/x-python",
   "name": "python",
   "nbconvert_exporter": "python",
   "pygments_lexer": "ipython3",
   "version": "3.7.3"
  }
 },
 "nbformat": 4,
 "nbformat_minor": 4
}
