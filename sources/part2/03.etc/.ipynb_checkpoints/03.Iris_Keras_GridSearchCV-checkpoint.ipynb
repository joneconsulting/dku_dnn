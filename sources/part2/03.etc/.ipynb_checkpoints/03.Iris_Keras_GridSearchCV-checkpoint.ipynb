{
 "cells": [
  {
   "cell_type": "code",
   "execution_count": 1,
   "metadata": {},
   "outputs": [
    {
     "name": "stderr",
     "output_type": "stream",
     "text": [
      "Using TensorFlow backend.\n"
     ]
    }
   ],
   "source": [
    "import numpy as np\n",
    "from sklearn import datasets, preprocessing\n",
    "from sklearn.model_selection import train_test_split\n",
    "from sklearn.model_selection import GridSearchCV\n",
    "from keras.models import Sequential\n",
    "from keras.layers.core import Dense, Activation\n",
    "from keras.utils import np_utils\n",
    "from keras import backend as K\n",
    "from keras.wrappers.scikit_learn import KerasClassifier"
   ]
  },
  {
   "cell_type": "code",
   "execution_count": 3,
   "metadata": {},
   "outputs": [],
   "source": [
    "iris = datasets.load_iris()\n",
    "x = preprocessing.scale(iris.data)\n",
    "y = np_utils.to_categorical(iris.target)\n",
    "x_train, x_test, y_train, y_test = train_test_split(x, y, train_size  = 0.7)\n",
    "num_classes = y_test.shape[1]"
   ]
  },
  {
   "cell_type": "code",
   "execution_count": 4,
   "metadata": {},
   "outputs": [],
   "source": [
    "def iris_model(activation=\"relu\", optimizer=\"adam\", out_dim=100):\n",
    "#     model = Sequential()\n",
    "#     model.add(Dense(out_dim, input_dim=4, activation=activation))\n",
    "#     model.add(Dense(out_dim, activation=activation))\n",
    "#     model.add(Dense(num_classes, activation=\"softmax\"))\n",
    "#     model.compile(loss='categorical_crossentropy', optimizer=optimizer, metrics=['accuracy'])\n",
    "    i = Input(4)\n",
    "    x = Dense(100, activation=activation)(i)\n",
    "    x = Dense(100, activation=activation)(x)\n",
    "    x = Dense(num_classes, activation=\"softmax\")(x)\n",
    "    model = Model(i, x)\n",
    "    model.compile(loss='categorical_crossentropy', optimizer=optimizer, metrics=['accuracy'])\n",
    "    return model"
   ]
  },
  {
   "cell_type": "code",
   "execution_count": 5,
   "metadata": {},
   "outputs": [],
   "source": [
    "activation = [\"relu\", \"sigmoid\"]\n",
    "optimizer = [\"adam\", \"adagrad\"]\n",
    "out_dim = [100, 200]\n",
    "nb_epoch = [10, 25]\n",
    "batch_size = [5, 10]"
   ]
  },
  {
   "cell_type": "code",
   "execution_count": 6,
   "metadata": {},
   "outputs": [],
   "source": [
    "model = KerasClassifier(build_fn=iris_model, verbose=0)\n",
    "param_grid = dict(activation=activation, \n",
    "                  optimizer=optimizer, \n",
    "                  out_dim=out_dim, \n",
    "                  nb_epoch=nb_epoch, \n",
    "                  batch_size=batch_size)\n",
    "grid = GridSearchCV(estimator=model, param_grid=param_grid)"
   ]
  },
  {
   "cell_type": "code",
   "execution_count": 8,
   "metadata": {},
   "outputs": [
    {
     "name": "stdout",
     "output_type": "stream",
     "text": [
      "WARNING:tensorflow:From /Users/dowon/anaconda3/lib/python3.7/site-packages/tensorflow_core/python/ops/resource_variable_ops.py:1630: calling BaseResourceVariable.__init__ (from tensorflow.python.ops.resource_variable_ops) with constraint is deprecated and will be removed in a future version.\n",
      "Instructions for updating:\n",
      "If using Keras pass *_constraint arguments to layers.\n",
      "WARNING:tensorflow:From /Users/dowon/anaconda3/lib/python3.7/site-packages/keras/backend/tensorflow_backend.py:422: The name tf.global_variables is deprecated. Please use tf.compat.v1.global_variables instead.\n",
      "\n"
     ]
    }
   ],
   "source": [
    "grid_result = grid.fit(x_train, y_train)"
   ]
  },
  {
   "cell_type": "code",
   "execution_count": 9,
   "metadata": {},
   "outputs": [
    {
     "name": "stdout",
     "output_type": "stream",
     "text": [
      "0.9047619104385376\n",
      "{'activation': 'relu', 'batch_size': 5, 'nb_epoch': 10, 'optimizer': 'adagrad', 'out_dim': 200}\n"
     ]
    }
   ],
   "source": [
    "print (grid_result.best_score_)\n",
    "print (grid_result.best_params_)"
   ]
  },
  {
   "cell_type": "code",
   "execution_count": 10,
   "metadata": {},
   "outputs": [
    {
     "name": "stdout",
     "output_type": "stream",
     "text": [
      "0.8666666666666667\n"
     ]
    }
   ],
   "source": [
    "grid_eval = grid.predict(x_test)\n",
    "def y_binary(i):\n",
    "    if   i == 0: return [1, 0, 0]\n",
    "    elif i == 1: return [0, 1, 0]\n",
    "    elif i == 2: return [0, 0, 1]\n",
    "y_eval = np.array([y_binary(i) for i in grid_eval])\n",
    "accuracy = (y_eval == y_test)\n",
    "print (np.count_nonzero(accuracy == True) / (accuracy.shape[0] * accuracy.shape[1]))"
   ]
  },
  {
   "cell_type": "code",
   "execution_count": 11,
   "metadata": {},
   "outputs": [
    {
     "name": "stdout",
     "output_type": "stream",
     "text": [
      "Model: \"sequential_162\"\n",
      "_________________________________________________________________\n",
      "Layer (type)                 Output Shape              Param #   \n",
      "=================================================================\n",
      "dense_484 (Dense)            (None, 200)               1000      \n",
      "_________________________________________________________________\n",
      "dense_485 (Dense)            (None, 200)               40200     \n",
      "_________________________________________________________________\n",
      "dense_486 (Dense)            (None, 3)                 603       \n",
      "=================================================================\n",
      "Total params: 41,803\n",
      "Trainable params: 41,803\n",
      "Non-trainable params: 0\n",
      "_________________________________________________________________\n"
     ]
    }
   ],
   "source": [
    "model = iris_model(activation=grid_result.best_params_['activation'], \n",
    "                   optimizer=grid_result.best_params_['optimizer'], \n",
    "                   out_dim=grid_result.best_params_['out_dim'])\n",
    "model.summary()"
   ]
  },
  {
   "cell_type": "code",
   "execution_count": null,
   "metadata": {},
   "outputs": [],
   "source": []
  }
 ],
 "metadata": {
  "kernelspec": {
   "display_name": "Python 3",
   "language": "python",
   "name": "python3"
  },
  "language_info": {
   "codemirror_mode": {
    "name": "ipython",
    "version": 3
   },
   "file_extension": ".py",
   "mimetype": "text/x-python",
   "name": "python",
   "nbconvert_exporter": "python",
   "pygments_lexer": "ipython3",
   "version": "3.7.3"
  }
 },
 "nbformat": 4,
 "nbformat_minor": 4
}
