{
 "cells": [
  {
   "cell_type": "code",
   "execution_count": 1,
   "metadata": {},
   "outputs": [
    {
     "name": "stderr",
     "output_type": "stream",
     "text": [
      "Using TensorFlow backend.\n"
     ]
    }
   ],
   "source": [
    "import numpy as np\n",
    "import tensorflow as tf\n",
    "from keras.models import Sequential\n",
    "from keras.layers import Dense\n",
    "from keras.optimizers import Adam"
   ]
  },
  {
   "cell_type": "code",
   "execution_count": 2,
   "metadata": {},
   "outputs": [],
   "source": [
    "X = np.array([\n",
    "    [0., 0.],\n",
    "    [0., 1.],\n",
    "    [1., 0.],\n",
    "    [1., 1.]\n",
    "], dtype=\"float32\")\n",
    "\n",
    "y = np.array([0, 0, 0, 1], dtype=\"float32\")"
   ]
  },
  {
   "cell_type": "code",
   "execution_count": 3,
   "metadata": {},
   "outputs": [
    {
     "data": {
      "text/plain": [
       "array([[0., 0.],\n",
       "       [0., 1.],\n",
       "       [1., 0.],\n",
       "       [1., 1.]], dtype=float32)"
      ]
     },
     "execution_count": 3,
     "metadata": {},
     "output_type": "execute_result"
    }
   ],
   "source": [
    "X"
   ]
  },
  {
   "cell_type": "code",
   "execution_count": 4,
   "metadata": {},
   "outputs": [
    {
     "data": {
      "text/plain": [
       "array([0., 0., 0., 1.], dtype=float32)"
      ]
     },
     "execution_count": 4,
     "metadata": {},
     "output_type": "execute_result"
    }
   ],
   "source": [
    "y"
   ]
  },
  {
   "cell_type": "code",
   "execution_count": 5,
   "metadata": {},
   "outputs": [],
   "source": [
    "model = Sequential()"
   ]
  },
  {
   "cell_type": "code",
   "execution_count": 6,
   "metadata": {},
   "outputs": [
    {
     "name": "stdout",
     "output_type": "stream",
     "text": [
      "WARNING:tensorflow:From /Users/dowon/anaconda3/lib/python3.7/site-packages/tensorflow_core/python/ops/resource_variable_ops.py:1630: calling BaseResourceVariable.__init__ (from tensorflow.python.ops.resource_variable_ops) with constraint is deprecated and will be removed in a future version.\n",
      "Instructions for updating:\n",
      "If using Keras pass *_constraint arguments to layers.\n"
     ]
    }
   ],
   "source": [
    "model.add(Dense(1, input_dim=2, activation=\"sigmoid\"))"
   ]
  },
  {
   "cell_type": "code",
   "execution_count": 7,
   "metadata": {},
   "outputs": [
    {
     "name": "stdout",
     "output_type": "stream",
     "text": [
      "Model: \"sequential_1\"\n",
      "_________________________________________________________________\n",
      "Layer (type)                 Output Shape              Param #   \n",
      "=================================================================\n",
      "dense_1 (Dense)              (None, 1)                 3         \n",
      "=================================================================\n",
      "Total params: 3\n",
      "Trainable params: 3\n",
      "Non-trainable params: 0\n",
      "_________________________________________________________________\n"
     ]
    }
   ],
   "source": [
    "model.summary()"
   ]
  },
  {
   "cell_type": "code",
   "execution_count": 8,
   "metadata": {},
   "outputs": [
    {
     "name": "stdout",
     "output_type": "stream",
     "text": [
      "WARNING:tensorflow:From /Users/dowon/anaconda3/lib/python3.7/site-packages/tensorflow_core/python/ops/nn_impl.py:183: where (from tensorflow.python.ops.array_ops) is deprecated and will be removed in a future version.\n",
      "Instructions for updating:\n",
      "Use tf.where in 2.0, which has the same broadcast rule as np.where\n"
     ]
    }
   ],
   "source": [
    "model.compile(loss='binary_crossentropy', optimizer=Adam(lr=0.1), metrics=['acc'])"
   ]
  },
  {
   "cell_type": "code",
   "execution_count": 1,
   "metadata": {},
   "outputs": [
    {
     "ename": "NameError",
     "evalue": "name 'KerasClassifier' is not defined",
     "output_type": "error",
     "traceback": [
      "\u001b[0;31m---------------------------------------------------------------------------\u001b[0m",
      "\u001b[0;31mNameError\u001b[0m                                 Traceback (most recent call last)",
      "\u001b[0;32m<ipython-input-1-f4cd1eab4886>\u001b[0m in \u001b[0;36m<module>\u001b[0;34m\u001b[0m\n\u001b[0;32m----> 1\u001b[0;31m \u001b[0m_model\u001b[0m \u001b[0;34m=\u001b[0m \u001b[0mKerasClassifier\u001b[0m\u001b[0;34m(\u001b[0m\u001b[0mbuild_fn\u001b[0m\u001b[0;34m=\u001b[0m\u001b[0mmodel\u001b[0m\u001b[0;34m,\u001b[0m \u001b[0mverbose\u001b[0m\u001b[0;34m=\u001b[0m\u001b[0;36m1\u001b[0m\u001b[0;34m)\u001b[0m\u001b[0;34m\u001b[0m\u001b[0;34m\u001b[0m\u001b[0m\n\u001b[0m\u001b[1;32m      2\u001b[0m param_grid = dict(activation=[\"relu\"], \n\u001b[1;32m      3\u001b[0m                   \u001b[0mnb_epoch\u001b[0m\u001b[0;34m=\u001b[0m\u001b[0;34m[\u001b[0m\u001b[0;36m3\u001b[0m\u001b[0;34m]\u001b[0m\u001b[0;34m,\u001b[0m\u001b[0;34m\u001b[0m\u001b[0;34m\u001b[0m\u001b[0m\n\u001b[1;32m      4\u001b[0m                   batch_size=[5])\n\u001b[1;32m      5\u001b[0m \u001b[0mgrid\u001b[0m \u001b[0;34m=\u001b[0m \u001b[0mGridSearchCV\u001b[0m\u001b[0;34m(\u001b[0m\u001b[0mestimator\u001b[0m\u001b[0;34m=\u001b[0m\u001b[0mmodel\u001b[0m\u001b[0;34m,\u001b[0m \u001b[0mparam_grid\u001b[0m\u001b[0;34m=\u001b[0m\u001b[0mparam_grid\u001b[0m\u001b[0;34m,\u001b[0m \u001b[0mcv\u001b[0m\u001b[0;34m=\u001b[0m\u001b[0;36m2\u001b[0m\u001b[0;34m)\u001b[0m\u001b[0;34m\u001b[0m\u001b[0;34m\u001b[0m\u001b[0m\n",
      "\u001b[0;31mNameError\u001b[0m: name 'KerasClassifier' is not defined"
     ]
    }
   ],
   "source": [
    "_model = KerasClassifier(build_fn=model, verbose=1)\n",
    "param_grid = dict(activation=[\"relu\"], \n",
    "                  nb_epoch=[3], \n",
    "                  batch_size=[5])\n",
    "grid = GridSearchCV(estimator=model, param_grid=param_grid, cv=2)"
   ]
  },
  {
   "cell_type": "code",
   "execution_count": null,
   "metadata": {},
   "outputs": [],
   "source": [
    "grid_result = grid.fit(X, y)"
   ]
  },
  {
   "cell_type": "code",
   "execution_count": 9,
   "metadata": {},
   "outputs": [
    {
     "name": "stdout",
     "output_type": "stream",
     "text": [
      "WARNING:tensorflow:From /Users/dowon/anaconda3/lib/python3.7/site-packages/keras/backend/tensorflow_backend.py:422: The name tf.global_variables is deprecated. Please use tf.compat.v1.global_variables instead.\n",
      "\n",
      "Epoch 1/100\n",
      "4/4 [==============================] - 0s 26ms/step - loss: 0.7090 - acc: 0.7500\n",
      "Epoch 2/100\n",
      "4/4 [==============================] - 0s 288us/step - loss: 0.6812 - acc: 0.7500\n",
      "Epoch 3/100\n",
      "4/4 [==============================] - 0s 295us/step - loss: 0.6545 - acc: 0.7500\n",
      "Epoch 4/100\n",
      "4/4 [==============================] - 0s 302us/step - loss: 0.6292 - acc: 0.7500\n",
      "Epoch 5/100\n",
      "4/4 [==============================] - 0s 294us/step - loss: 0.6052 - acc: 0.7500\n",
      "Epoch 6/100\n",
      "4/4 [==============================] - 0s 276us/step - loss: 0.5823 - acc: 0.7500\n",
      "Epoch 7/100\n",
      "4/4 [==============================] - 0s 254us/step - loss: 0.5607 - acc: 0.7500\n",
      "Epoch 8/100\n",
      "4/4 [==============================] - 0s 266us/step - loss: 0.5402 - acc: 1.0000\n",
      "Epoch 9/100\n",
      "4/4 [==============================] - 0s 335us/step - loss: 0.5208 - acc: 1.0000\n",
      "Epoch 10/100\n",
      "4/4 [==============================] - 0s 265us/step - loss: 0.5023 - acc: 1.0000\n",
      "Epoch 11/100\n",
      "4/4 [==============================] - 0s 277us/step - loss: 0.4847 - acc: 1.0000\n",
      "Epoch 12/100\n",
      "4/4 [==============================] - 0s 269us/step - loss: 0.4679 - acc: 1.0000\n",
      "Epoch 13/100\n",
      "4/4 [==============================] - 0s 301us/step - loss: 0.4519 - acc: 1.0000\n",
      "Epoch 14/100\n",
      "4/4 [==============================] - 0s 304us/step - loss: 0.4367 - acc: 1.0000\n",
      "Epoch 15/100\n",
      "4/4 [==============================] - 0s 265us/step - loss: 0.4222 - acc: 1.0000\n",
      "Epoch 16/100\n",
      "4/4 [==============================] - 0s 240us/step - loss: 0.4085 - acc: 1.0000\n",
      "Epoch 17/100\n",
      "4/4 [==============================] - 0s 260us/step - loss: 0.3955 - acc: 1.0000\n",
      "Epoch 18/100\n",
      "4/4 [==============================] - 0s 301us/step - loss: 0.3832 - acc: 1.0000\n",
      "Epoch 19/100\n",
      "4/4 [==============================] - 0s 271us/step - loss: 0.3715 - acc: 1.0000\n",
      "Epoch 20/100\n",
      "4/4 [==============================] - 0s 264us/step - loss: 0.3604 - acc: 1.0000\n",
      "Epoch 21/100\n",
      "4/4 [==============================] - 0s 257us/step - loss: 0.3498 - acc: 1.0000\n",
      "Epoch 22/100\n",
      "4/4 [==============================] - 0s 293us/step - loss: 0.3397 - acc: 1.0000\n",
      "Epoch 23/100\n",
      "4/4 [==============================] - 0s 294us/step - loss: 0.3301 - acc: 1.0000\n",
      "Epoch 24/100\n",
      "4/4 [==============================] - 0s 242us/step - loss: 0.3209 - acc: 1.0000\n",
      "Epoch 25/100\n",
      "4/4 [==============================] - 0s 242us/step - loss: 0.3121 - acc: 1.0000\n",
      "Epoch 26/100\n",
      "4/4 [==============================] - 0s 231us/step - loss: 0.3038 - acc: 1.0000\n",
      "Epoch 27/100\n",
      "4/4 [==============================] - 0s 284us/step - loss: 0.2958 - acc: 1.0000\n",
      "Epoch 28/100\n",
      "4/4 [==============================] - 0s 360us/step - loss: 0.2882 - acc: 1.0000\n",
      "Epoch 29/100\n",
      "4/4 [==============================] - 0s 295us/step - loss: 0.2809 - acc: 1.0000\n",
      "Epoch 30/100\n",
      "4/4 [==============================] - 0s 228us/step - loss: 0.2740 - acc: 1.0000\n",
      "Epoch 31/100\n",
      "4/4 [==============================] - 0s 266us/step - loss: 0.2674 - acc: 1.0000\n",
      "Epoch 32/100\n",
      "4/4 [==============================] - 0s 273us/step - loss: 0.2610 - acc: 1.0000\n",
      "Epoch 33/100\n",
      "4/4 [==============================] - 0s 257us/step - loss: 0.2549 - acc: 1.0000\n",
      "Epoch 34/100\n",
      "4/4 [==============================] - 0s 262us/step - loss: 0.2491 - acc: 1.0000\n",
      "Epoch 35/100\n",
      "4/4 [==============================] - 0s 244us/step - loss: 0.2435 - acc: 1.0000\n",
      "Epoch 36/100\n",
      "4/4 [==============================] - 0s 287us/step - loss: 0.2381 - acc: 1.0000\n",
      "Epoch 37/100\n",
      "4/4 [==============================] - 0s 277us/step - loss: 0.2329 - acc: 1.0000\n",
      "Epoch 38/100\n",
      "4/4 [==============================] - 0s 327us/step - loss: 0.2280 - acc: 1.0000\n",
      "Epoch 39/100\n",
      "4/4 [==============================] - 0s 273us/step - loss: 0.2232 - acc: 1.0000\n",
      "Epoch 40/100\n",
      "4/4 [==============================] - 0s 318us/step - loss: 0.2186 - acc: 1.0000\n",
      "Epoch 41/100\n",
      "4/4 [==============================] - 0s 264us/step - loss: 0.2142 - acc: 1.0000\n",
      "Epoch 42/100\n",
      "4/4 [==============================] - 0s 311us/step - loss: 0.2099 - acc: 1.0000\n",
      "Epoch 43/100\n",
      "4/4 [==============================] - 0s 375us/step - loss: 0.2058 - acc: 1.0000\n",
      "Epoch 44/100\n",
      "4/4 [==============================] - 0s 276us/step - loss: 0.2018 - acc: 1.0000\n",
      "Epoch 45/100\n",
      "4/4 [==============================] - 0s 357us/step - loss: 0.1980 - acc: 1.0000\n",
      "Epoch 46/100\n",
      "4/4 [==============================] - 0s 347us/step - loss: 0.1943 - acc: 1.0000\n",
      "Epoch 47/100\n",
      "4/4 [==============================] - 0s 359us/step - loss: 0.1907 - acc: 1.0000\n",
      "Epoch 48/100\n",
      "4/4 [==============================] - 0s 222us/step - loss: 0.1873 - acc: 1.0000\n",
      "Epoch 49/100\n",
      "4/4 [==============================] - 0s 238us/step - loss: 0.1839 - acc: 1.0000\n",
      "Epoch 50/100\n",
      "4/4 [==============================] - 0s 291us/step - loss: 0.1807 - acc: 1.0000\n",
      "Epoch 51/100\n",
      "4/4 [==============================] - 0s 264us/step - loss: 0.1775 - acc: 1.0000\n",
      "Epoch 52/100\n",
      "4/4 [==============================] - 0s 330us/step - loss: 0.1745 - acc: 1.0000\n",
      "Epoch 53/100\n",
      "4/4 [==============================] - 0s 356us/step - loss: 0.1715 - acc: 1.0000\n",
      "Epoch 54/100\n",
      "4/4 [==============================] - 0s 304us/step - loss: 0.1686 - acc: 1.0000\n",
      "Epoch 55/100\n",
      "4/4 [==============================] - 0s 341us/step - loss: 0.1659 - acc: 1.0000\n",
      "Epoch 56/100\n",
      "4/4 [==============================] - 0s 278us/step - loss: 0.1631 - acc: 1.0000\n",
      "Epoch 57/100\n",
      "4/4 [==============================] - 0s 301us/step - loss: 0.1605 - acc: 1.0000\n",
      "Epoch 58/100\n",
      "4/4 [==============================] - 0s 415us/step - loss: 0.1580 - acc: 1.0000\n",
      "Epoch 59/100\n",
      "4/4 [==============================] - 0s 304us/step - loss: 0.1555 - acc: 1.0000\n",
      "Epoch 60/100\n",
      "4/4 [==============================] - 0s 269us/step - loss: 0.1531 - acc: 1.0000\n",
      "Epoch 61/100\n",
      "4/4 [==============================] - 0s 296us/step - loss: 0.1507 - acc: 1.0000\n",
      "Epoch 62/100\n",
      "4/4 [==============================] - 0s 229us/step - loss: 0.1484 - acc: 1.0000\n",
      "Epoch 63/100\n",
      "4/4 [==============================] - 0s 320us/step - loss: 0.1462 - acc: 1.0000\n",
      "Epoch 64/100\n",
      "4/4 [==============================] - 0s 276us/step - loss: 0.1440 - acc: 1.0000\n",
      "Epoch 65/100\n",
      "4/4 [==============================] - 0s 308us/step - loss: 0.1419 - acc: 1.0000\n",
      "Epoch 66/100\n",
      "4/4 [==============================] - 0s 293us/step - loss: 0.1398 - acc: 1.0000\n",
      "Epoch 67/100\n",
      "4/4 [==============================] - 0s 256us/step - loss: 0.1378 - acc: 1.0000\n",
      "Epoch 68/100\n",
      "4/4 [==============================] - 0s 338us/step - loss: 0.1358 - acc: 1.0000\n",
      "Epoch 69/100\n",
      "4/4 [==============================] - 0s 436us/step - loss: 0.1339 - acc: 1.0000\n",
      "Epoch 70/100\n",
      "4/4 [==============================] - 0s 286us/step - loss: 0.1320 - acc: 1.0000\n",
      "Epoch 71/100\n",
      "4/4 [==============================] - 0s 261us/step - loss: 0.1302 - acc: 1.0000\n",
      "Epoch 72/100\n",
      "4/4 [==============================] - 0s 304us/step - loss: 0.1284 - acc: 1.0000\n",
      "Epoch 73/100\n",
      "4/4 [==============================] - 0s 407us/step - loss: 0.1267 - acc: 1.0000\n",
      "Epoch 74/100\n",
      "4/4 [==============================] - 0s 333us/step - loss: 0.1250 - acc: 1.0000\n",
      "Epoch 75/100\n",
      "4/4 [==============================] - 0s 291us/step - loss: 0.1233 - acc: 1.0000\n",
      "Epoch 76/100\n",
      "4/4 [==============================] - 0s 292us/step - loss: 0.1217 - acc: 1.0000\n",
      "Epoch 77/100\n",
      "4/4 [==============================] - 0s 256us/step - loss: 0.1201 - acc: 1.0000\n",
      "Epoch 78/100\n",
      "4/4 [==============================] - 0s 237us/step - loss: 0.1185 - acc: 1.0000\n",
      "Epoch 79/100\n",
      "4/4 [==============================] - 0s 535us/step - loss: 0.1170 - acc: 1.0000\n",
      "Epoch 80/100\n",
      "4/4 [==============================] - 0s 358us/step - loss: 0.1155 - acc: 1.0000\n",
      "Epoch 81/100\n",
      "4/4 [==============================] - 0s 408us/step - loss: 0.1140 - acc: 1.0000\n",
      "Epoch 82/100\n",
      "4/4 [==============================] - 0s 249us/step - loss: 0.1125 - acc: 1.0000\n",
      "Epoch 83/100\n",
      "4/4 [==============================] - 0s 281us/step - loss: 0.1111 - acc: 1.0000\n",
      "Epoch 84/100\n",
      "4/4 [==============================] - 0s 290us/step - loss: 0.1098 - acc: 1.0000\n",
      "Epoch 85/100\n",
      "4/4 [==============================] - 0s 237us/step - loss: 0.1084 - acc: 1.0000\n"
     ]
    },
    {
     "name": "stdout",
     "output_type": "stream",
     "text": [
      "Epoch 86/100\n",
      "4/4 [==============================] - 0s 303us/step - loss: 0.1071 - acc: 1.0000\n",
      "Epoch 87/100\n",
      "4/4 [==============================] - 0s 316us/step - loss: 0.1058 - acc: 1.0000\n",
      "Epoch 88/100\n",
      "4/4 [==============================] - 0s 255us/step - loss: 0.1045 - acc: 1.0000\n",
      "Epoch 89/100\n",
      "4/4 [==============================] - 0s 299us/step - loss: 0.1033 - acc: 1.0000\n",
      "Epoch 90/100\n",
      "4/4 [==============================] - 0s 252us/step - loss: 0.1020 - acc: 1.0000\n",
      "Epoch 91/100\n",
      "4/4 [==============================] - 0s 317us/step - loss: 0.1008 - acc: 1.0000\n",
      "Epoch 92/100\n",
      "4/4 [==============================] - 0s 366us/step - loss: 0.0997 - acc: 1.0000\n",
      "Epoch 93/100\n",
      "4/4 [==============================] - 0s 283us/step - loss: 0.0985 - acc: 1.0000\n",
      "Epoch 94/100\n",
      "4/4 [==============================] - 0s 378us/step - loss: 0.0974 - acc: 1.0000\n",
      "Epoch 95/100\n",
      "4/4 [==============================] - 0s 306us/step - loss: 0.0962 - acc: 1.0000\n",
      "Epoch 96/100\n",
      "4/4 [==============================] - 0s 349us/step - loss: 0.0952 - acc: 1.0000\n",
      "Epoch 97/100\n",
      "4/4 [==============================] - 0s 283us/step - loss: 0.0941 - acc: 1.0000\n",
      "Epoch 98/100\n",
      "4/4 [==============================] - 0s 364us/step - loss: 0.0930 - acc: 1.0000\n",
      "Epoch 99/100\n",
      "4/4 [==============================] - 0s 368us/step - loss: 0.0920 - acc: 1.0000\n",
      "Epoch 100/100\n",
      "4/4 [==============================] - 0s 415us/step - loss: 0.0910 - acc: 1.0000\n"
     ]
    },
    {
     "data": {
      "text/plain": [
       "<keras.callbacks.callbacks.History at 0x630c61d30>"
      ]
     },
     "execution_count": 9,
     "metadata": {},
     "output_type": "execute_result"
    }
   ],
   "source": [
    "model.fit(X, y, epochs=100)"
   ]
  },
  {
   "cell_type": "code",
   "execution_count": 10,
   "metadata": {},
   "outputs": [
    {
     "data": {
      "text/plain": [
       "array([[0.00202343],\n",
       "       [0.11107461],\n",
       "       [0.10760005],\n",
       "       [0.8813871 ]], dtype=float32)"
      ]
     },
     "execution_count": 10,
     "metadata": {},
     "output_type": "execute_result"
    }
   ],
   "source": [
    "pred = model.predict(X)\n",
    "pred"
   ]
  },
  {
   "cell_type": "code",
   "execution_count": 11,
   "metadata": {},
   "outputs": [
    {
     "name": "stdout",
     "output_type": "stream",
     "text": [
      "==============================\n",
      "predict01\n",
      "[[0]\n",
      " [0]\n",
      " [0]\n",
      " [1]]\n"
     ]
    }
   ],
   "source": [
    "predict01 = np.where(pred > 0.5, 1, 0)\n",
    "print(\"=\" * 30)\n",
    "print(\"predict01\")\n",
    "print(predict01)"
   ]
  },
  {
   "cell_type": "code",
   "execution_count": 12,
   "metadata": {},
   "outputs": [
    {
     "data": {
      "text/plain": [
       "array([0, 0, 0, 1])"
      ]
     },
     "execution_count": 12,
     "metadata": {},
     "output_type": "execute_result"
    }
   ],
   "source": [
    "predict02 = predict01.flatten()\n",
    "predict02"
   ]
  },
  {
   "cell_type": "code",
   "execution_count": 13,
   "metadata": {},
   "outputs": [
    {
     "data": {
      "text/plain": [
       "array([ True,  True,  True,  True])"
      ]
     },
     "execution_count": 13,
     "metadata": {},
     "output_type": "execute_result"
    }
   ],
   "source": [
    "predict03 = (predict02 == y)\n",
    "predict03"
   ]
  },
  {
   "cell_type": "code",
   "execution_count": 14,
   "metadata": {},
   "outputs": [
    {
     "data": {
      "text/plain": [
       "4"
      ]
     },
     "execution_count": 14,
     "metadata": {},
     "output_type": "execute_result"
    }
   ],
   "source": [
    "np.sum(predict03)"
   ]
  },
  {
   "cell_type": "code",
   "execution_count": 15,
   "metadata": {},
   "outputs": [
    {
     "data": {
      "text/plain": [
       "1.0"
      ]
     },
     "execution_count": 15,
     "metadata": {},
     "output_type": "execute_result"
    }
   ],
   "source": [
    "acc = np.sum(predict03) / 4\n",
    "acc"
   ]
  },
  {
   "cell_type": "code",
   "execution_count": 16,
   "metadata": {},
   "outputs": [
    {
     "data": {
      "text/plain": [
       "array([[0.11107461]], dtype=float32)"
      ]
     },
     "execution_count": 16,
     "metadata": {},
     "output_type": "execute_result"
    }
   ],
   "source": [
    "arr=np.array([[0,1]], dtype=\"float32\")\n",
    "pred = model.predict(arr)\n",
    "pred"
   ]
  },
  {
   "cell_type": "code",
   "execution_count": 17,
   "metadata": {},
   "outputs": [
    {
     "name": "stdout",
     "output_type": "stream",
     "text": [
      "==============================\n",
      "predict01\n",
      "[[0]]\n"
     ]
    }
   ],
   "source": [
    "predict01 = np.where(pred > 0.5, 1, 0)\n",
    "print(\"=\" * 30)\n",
    "print(\"predict01\")\n",
    "print(predict01)"
   ]
  },
  {
   "cell_type": "code",
   "execution_count": 18,
   "metadata": {},
   "outputs": [
    {
     "data": {
      "text/plain": [
       "array([[0.8813871]], dtype=float32)"
      ]
     },
     "execution_count": 18,
     "metadata": {},
     "output_type": "execute_result"
    }
   ],
   "source": [
    "arr=np.array([[1,1]], dtype=\"float32\")\n",
    "pred = model.predict(arr)\n",
    "pred"
   ]
  },
  {
   "cell_type": "code",
   "execution_count": 19,
   "metadata": {},
   "outputs": [
    {
     "name": "stdout",
     "output_type": "stream",
     "text": [
      "==============================\n",
      "predict01\n",
      "[[1]]\n"
     ]
    }
   ],
   "source": [
    "predict01 = np.where(pred > 0.5, 1, 0)\n",
    "print(\"=\" * 30)\n",
    "print(\"predict01\")\n",
    "print(predict01)"
   ]
  },
  {
   "cell_type": "code",
   "execution_count": null,
   "metadata": {},
   "outputs": [],
   "source": []
  }
 ],
 "metadata": {
  "kernelspec": {
   "display_name": "Python 3",
   "language": "python",
   "name": "python3"
  },
  "language_info": {
   "codemirror_mode": {
    "name": "ipython",
    "version": 3
   },
   "file_extension": ".py",
   "mimetype": "text/x-python",
   "name": "python",
   "nbconvert_exporter": "python",
   "pygments_lexer": "ipython3",
   "version": "3.7.3"
  }
 },
 "nbformat": 4,
 "nbformat_minor": 4
}
