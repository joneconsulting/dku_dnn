{
 "cells": [
  {
   "cell_type": "code",
   "execution_count": null,
   "metadata": {},
   "outputs": [],
   "source": [
    "pip install plotly"
   ]
  },
  {
   "cell_type": "code",
   "execution_count": null,
   "metadata": {},
   "outputs": [],
   "source": [
    "%matplotlib inline\n",
    "import matplotlib.pyplot as plt\n",
    "import pandas as pd\n",
    "import numpy as np\n",
    "import plotly as py\n",
    "import plotly.graph_objs as go\n",
    "import requests\n",
    "from keras.layers import *\n",
    "from keras.models import *\n",
    "from keras.callbacks import *\n",
    "from datetime import datetime\n",
    "from sklearn.preprocessing import MinMaxScaler\n",
    "plt.style.use('bmh')"
   ]
  },
  {
   "cell_type": "code",
   "execution_count": null,
   "metadata": {},
   "outputs": [],
   "source": [
    "''' \n",
    "https://poloniex.com/support/api/ \n",
    "https://poloniex.com/public?command=returnChartData&currencyPair=USDT_BTC&start=1414602755&end=9999999999&period=86400 \n",
    "''' "
   ]
  },
  {
   "cell_type": "code",
   "execution_count": null,
   "metadata": {},
   "outputs": [],
   "source": [
    "ret = requests.get('https://poloniex.com/public?command=returnChartData&currencyPair=USDT_BTC&start=1414602755&end=9999999999&period=86400')\n",
    "ret"
   ]
  },
  {
   "cell_type": "code",
   "execution_count": null,
   "metadata": {},
   "outputs": [],
   "source": [
    "js = ret.json()\n",
    "js"
   ]
  },
  {
   "cell_type": "code",
   "execution_count": null,
   "metadata": {},
   "outputs": [],
   "source": [
    "df = pd.DataFrame(js)\n",
    "df"
   ]
  },
  {
   "cell_type": "code",
   "execution_count": null,
   "metadata": {},
   "outputs": [],
   "source": [
    "scaler = MinMaxScaler()\n",
    "df[['close']] = scaler.fit_transform(df[['close']])\n",
    "df"
   ]
  },
  {
   "cell_type": "code",
   "execution_count": null,
   "metadata": {},
   "outputs": [],
   "source": [
    "price = df['close'].values.tolist()\n",
    "price"
   ]
  },
  {
   "cell_type": "code",
   "execution_count": null,
   "metadata": {},
   "outputs": [],
   "source": [
    "'''\n",
    "Many to Many\n",
    "Many to One\n",
    "\n",
    "X\n",
    "(5, 1)\n",
    " 0.057952922321361705,\n",
    " 0.04047361277955355,\n",
    " 0.0005532168396120696,\n",
    " 0.02997810961897443,\n",
    " 0.029365631586923735,\n",
    "Y\n",
    "(sample, 1)\n",
    "'''\n",
    "\n",
    "window_size = 5\n",
    "X = []\n",
    "Y = []\n",
    "\n",
    "for i in range(len(price) - window_size):\n",
    "    # i = 0\n",
    "    # j = 0,1,2,3,4\n",
    "    X.append([price[i + j] for j in range(window_size)])\n",
    "    Y.append(price[window_size+i])\n",
    "\n",
    "print(X)\n",
    "print(Y)    "
   ]
  },
  {
   "cell_type": "code",
   "execution_count": null,
   "metadata": {},
   "outputs": [],
   "source": [
    "X = np.asarray(X)\n",
    "Y = np.asarray(Y)\n",
    "print(X)\n",
    "print(Y)"
   ]
  },
  {
   "cell_type": "code",
   "execution_count": null,
   "metadata": {},
   "outputs": [],
   "source": [
    "X.shape\n",
    "Y.shape"
   ]
  },
  {
   "cell_type": "code",
   "execution_count": null,
   "metadata": {},
   "outputs": [],
   "source": [
    "train_test_split = 1500\n",
    "X_train = X[:train_test_split, :]\n",
    "Y_train = Y[:train_test_split]\n",
    "\n",
    "X_test = X[train_test_split:, :]\n",
    "Y_test = Y[train_test_split:]"
   ]
  },
  {
   "cell_type": "code",
   "execution_count": null,
   "metadata": {},
   "outputs": [],
   "source": [
    "Y_train.shape\n",
    "#X_test.shape"
   ]
  },
  {
   "cell_type": "code",
   "execution_count": null,
   "metadata": {},
   "outputs": [],
   "source": [
    "X_train[0]"
   ]
  },
  {
   "cell_type": "code",
   "execution_count": null,
   "metadata": {},
   "outputs": [],
   "source": [
    "X_train = np.reshape(X_train, (X_train.shape[0], window_size, 1))\n",
    "X_test = np.reshape(X_test, (X_test.shape[0], window_size, 1))\n",
    "\n",
    "# Y_train = np.reshape(Y_train, (Y_train.shape[0], window_size, 1))\n",
    "# Y_test = np.reshape(Y_test, (Y_test.shape[0], window_size, 1))"
   ]
  },
  {
   "cell_type": "code",
   "execution_count": null,
   "metadata": {},
   "outputs": [],
   "source": [
    "Y_train.shape"
   ]
  },
  {
   "cell_type": "code",
   "execution_count": null,
   "metadata": {},
   "outputs": [],
   "source": [
    "X_train[0]"
   ]
  },
  {
   "cell_type": "code",
   "execution_count": null,
   "metadata": {},
   "outputs": [],
   "source": [
    "# model = Sequential()\n",
    "# model.add(LSTM(128, input_shape=(5,1,)))\n",
    "# model.add(Dropout(0.2))\n",
    "# model.add(Dense(1, activation='linear'))\n",
    "\n",
    "i = Input(shape=(5,1))\n",
    "x = LSTM(128)(i)\n",
    "x = Dense(1)(x)\n",
    "model =Model(i, x)\n",
    "model.compile(loss='mse', optimizer='adam')\n",
    "model.summary()"
   ]
  },
  {
   "cell_type": "code",
   "execution_count": null,
   "metadata": {},
   "outputs": [],
   "source": [
    "model.fit(X_train, Y_train, epochs=10, batch_size=1)"
   ]
  },
  {
   "cell_type": "code",
   "execution_count": null,
   "metadata": {},
   "outputs": [],
   "source": [
    "# Method2\n",
    "model = Sequential()\n",
    "model.add(LSTM(128, input_shape=(5,1,)))\n",
    "model.add(Dropout(0.2))\n",
    "model.add(Dense(1, activation='linear'))\n",
    "model.compile(loss='mse', optimizer='adam')\n",
    "model.summary()"
   ]
  },
  {
   "cell_type": "code",
   "execution_count": null,
   "metadata": {},
   "outputs": [],
   "source": [
    "model.fit(X_train, Y_train, epochs=10, batch_size=1)"
   ]
  },
  {
   "cell_type": "code",
   "execution_count": null,
   "metadata": {},
   "outputs": [],
   "source": [
    "train_predict = model.predict(X_train)\n",
    "test_predict = model.predict(X_test)"
   ]
  },
  {
   "cell_type": "code",
   "execution_count": null,
   "metadata": {},
   "outputs": [],
   "source": [
    "plt.figure(figsize= (10, 10))\n",
    "plt.plot(price)"
   ]
  },
  {
   "cell_type": "code",
   "execution_count": null,
   "metadata": {},
   "outputs": [],
   "source": [
    "plt.figure(figsize= (15, 10))\n",
    "plt.plot(price)\n",
    "\n",
    "split_pt = train_test_split + window_size\n",
    "# 1\n",
    "# plt.plot(np.arange(window_size, split_pt, 1), train_predict, color='g')\n",
    "\n",
    "# 2\n",
    "plt.plot(np.arange(split_pt, split_pt + len(test_predict), 1), test_predict, color='r')"
   ]
  },
  {
   "cell_type": "code",
   "execution_count": null,
   "metadata": {},
   "outputs": [],
   "source": [
    "# np.arange(window_size, split_pt, 1), train_predict\n",
    "# plt.plot(np.arange(split_pt, split_pt + len(test_predict), 1), test_predict\n",
    "trace = go.Scatter(x=np.arange(window_size, split_pt, 1), \n",
    "                   y = train_predict.reshape(1500), mode='lines', name='train')\n",
    "trace2 = go.Scatter(x=np.arange(split_pt, split_pt + len(test_predict), 1), \n",
    "                    y = test_predict.reshape(390), mode='lines', name='test')\n",
    "trace3 = go.Scatter(x=np.arange(1, len(price), 1), \n",
    "                    y = price, mode='lines', name='original')\n",
    "\n",
    "data = [trace, trace2, trace3]\n",
    "py.offline.plot(data)"
   ]
  },
  {
   "cell_type": "markdown",
   "metadata": {},
   "source": [
    "## predict"
   ]
  },
  {
   "cell_type": "code",
   "execution_count": null,
   "metadata": {},
   "outputs": [],
   "source": [
    "train_predict[389]"
   ]
  },
  {
   "cell_type": "code",
   "execution_count": null,
   "metadata": {},
   "outputs": [],
   "source": [
    "print(\"X_test[389]:\", X_test[389])\n",
    "print(\"test_predict[389]:\", test_predict[389])"
   ]
  },
  {
   "cell_type": "code",
   "execution_count": null,
   "metadata": {},
   "outputs": [],
   "source": [
    "test_predict"
   ]
  },
  {
   "cell_type": "code",
   "execution_count": null,
   "metadata": {},
   "outputs": [],
   "source": [
    "scaler.inverse_transform(test_predict) "
   ]
  },
  {
   "cell_type": "code",
   "execution_count": null,
   "metadata": {},
   "outputs": [],
   "source": []
  }
 ],
 "metadata": {
  "kernelspec": {
   "display_name": "Python 3",
   "language": "python",
   "name": "python3"
  },
  "language_info": {
   "codemirror_mode": {
    "name": "ipython",
    "version": 3
   },
   "file_extension": ".py",
   "mimetype": "text/x-python",
   "name": "python",
   "nbconvert_exporter": "python",
   "pygments_lexer": "ipython3",
   "version": "3.8.3"
  }
 },
 "nbformat": 4,
 "nbformat_minor": 2
}
