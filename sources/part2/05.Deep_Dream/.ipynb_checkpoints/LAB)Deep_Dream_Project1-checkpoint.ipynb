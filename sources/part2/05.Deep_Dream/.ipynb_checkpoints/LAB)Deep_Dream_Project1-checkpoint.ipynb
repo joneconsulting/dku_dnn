{
 "cells": [
  {
   "cell_type": "markdown",
   "metadata": {
    "id": "YtdVarC9unie"
   },
   "source": [
    "### STEP #1: IMPORT LIBRARIES"
   ]
  },
  {
   "cell_type": "code",
   "execution_count": null,
   "metadata": {
    "id": "M3n41nAMuohO"
   },
   "outputs": [],
   "source": [
    "import tensorflow as tf\n",
    "\n",
    "import pandas as pd\n",
    "import numpy as np\n",
    "import matplotlib.pyplot as plt\n",
    "import seaborn as sns\n",
    "import random "
   ]
  },
  {
   "cell_type": "markdown",
   "metadata": {
    "id": "tRv1ly8ruu8l"
   },
   "source": [
    "### STEP #2: IMPORT MODEL WITH PRE-TRAINED WEIGHTS\n"
   ]
  },
  {
   "cell_type": "code",
   "execution_count": null,
   "metadata": {
    "id": "rFdiH6PjuvuT"
   },
   "outputs": [],
   "source": [
    "base_model = tf.keras.applications.InceptionV3(include_top=False, weights='imagenet')"
   ]
  },
  {
   "cell_type": "code",
   "execution_count": null,
   "metadata": {
    "id": "BSTHpdPcuyYW"
   },
   "outputs": [],
   "source": [
    "base_model.summary()"
   ]
  },
  {
   "cell_type": "code",
   "execution_count": null,
   "metadata": {
    "id": "PHL-D5a5vJO1"
   },
   "outputs": [],
   "source": [
    "# Maximize the activations of these layers\n",
    "# names = ['mixed8', 'mixed9']\n",
    "\n",
    "# names = ['mixed3', 'mixed5', 'mixed8', 'mixed9']\n",
    "names = ['mixed3', 'mixed5']\n",
    "# names = ['mixed5']\n",
    "\n",
    "layers = [base_model.get_layer(name).output for name in names]\n",
    "\n",
    "# Create the feature extraction model\n",
    "deepdream_model = tf.keras.Model(inputs=base_model.input, outputs=layers)"
   ]
  },
  {
   "cell_type": "markdown",
   "metadata": {
    "id": "yqboJoervwMX"
   },
   "source": [
    "### STEP #3: GET AN IMAGE AND PREPROCESS IT"
   ]
  },
  {
   "cell_type": "code",
   "execution_count": null,
   "metadata": {
    "id": "H6beiWxZvxHh"
   },
   "outputs": [],
   "source": [
    "from google.colab import drive\n",
    "drive.mount('/content/gdrive')"
   ]
  },
  {
   "cell_type": "code",
   "execution_count": null,
   "metadata": {
    "id": "2f_QVcCEvzni"
   },
   "outputs": [],
   "source": [
    "Sample_Image= tf.keras.preprocessing.image.load_img(r'/content/gdrive/My Drive/Colab Notebooks/Deep Dream/StaryNight.jpg', target_size = (225, 375))"
   ]
  },
  {
   "cell_type": "code",
   "execution_count": null,
   "metadata": {
    "id": "P2Ag4mlIwAgq"
   },
   "outputs": [],
   "source": [
    "plt.imshow(Sample_Image)"
   ]
  },
  {
   "cell_type": "code",
   "execution_count": null,
   "metadata": {
    "id": "I2Awh0bBwF9C"
   },
   "outputs": [],
   "source": [
    "np.shape(Sample_Image)"
   ]
  },
  {
   "cell_type": "code",
   "execution_count": null,
   "metadata": {
    "id": "qsuTes6IwIM_"
   },
   "outputs": [],
   "source": [
    "# Normalize the input image\n",
    "\n",
    "Sample_Image = np.array(Sample_Image)/255.0\n",
    "Sample_Image.shape"
   ]
  },
  {
   "cell_type": "code",
   "execution_count": null,
   "metadata": {
    "id": "tn0Im5CPwJ2f"
   },
   "outputs": [],
   "source": [
    "plt.imshow(Sample_Image)"
   ]
  },
  {
   "cell_type": "code",
   "execution_count": null,
   "metadata": {
    "id": "cnUOz928wMoo"
   },
   "outputs": [],
   "source": [
    "# Let's make sure that the image in fact normalized!\n",
    "Sample_Image.max()"
   ]
  },
  {
   "cell_type": "code",
   "execution_count": null,
   "metadata": {
    "id": "oaaDNpUawRoo"
   },
   "outputs": [],
   "source": [
    "Sample_Image.min()"
   ]
  },
  {
   "cell_type": "markdown",
   "metadata": {
    "id": "f_EXeHXQwV6z"
   },
   "source": [
    "### STEP #4: LET'S RUN THE PRETRAINED MODEL AND EXPLORE ACTIVATIONS"
   ]
  },
  {
   "cell_type": "code",
   "execution_count": null,
   "metadata": {
    "id": "KmVPQEEWwVM2"
   },
   "outputs": [],
   "source": [
    "# Sample_Image = tf.expand_dims(Sample_Image, axis = 0)\n",
    "# np.shape(Sample_Image)"
   ]
  },
  {
   "cell_type": "code",
   "execution_count": null,
   "metadata": {
    "id": "TbX5EoxLwXCG"
   },
   "outputs": [],
   "source": [
    "Sample_Image = tf.keras.preprocessing.image.img_to_array(Sample_Image)\n",
    "Sample_Image.shape"
   ]
  },
  {
   "cell_type": "code",
   "execution_count": null,
   "metadata": {
    "id": "f6pypNG_wdmk"
   },
   "outputs": [],
   "source": [
    " Sample_Image = tf.Variable(tf.keras.applications.inception_v3.preprocess_input(Sample_Image))\n"
   ]
  },
  {
   "cell_type": "code",
   "execution_count": null,
   "metadata": {
    "id": "vKS7MWJ0wfxu"
   },
   "outputs": [],
   "source": [
    "Sample_Image = tf.expand_dims(Sample_Image, axis = 0)\n",
    "np.shape(Sample_Image)"
   ]
  },
  {
   "cell_type": "code",
   "execution_count": null,
   "metadata": {
    "id": "9B79Ymf_wg-k"
   },
   "outputs": [],
   "source": [
    "# Let's run the model by feeding in our input image and taking a look at the activations \"Neuron outputs\"\n",
    "activations = deepdream_model(Sample_Image)\n",
    "activations"
   ]
  },
  {
   "cell_type": "code",
   "execution_count": null,
   "metadata": {
    "id": "ZiUJqIVPwiFG"
   },
   "outputs": [],
   "source": [
    "len(activations)"
   ]
  },
  {
   "cell_type": "markdown",
   "metadata": {
    "id": "-NwWgGkUwqMK"
   },
   "source": [
    "### STEP #5: DEEP DREAM LOSS CALCULATION\n"
   ]
  },
  {
   "cell_type": "code",
   "execution_count": null,
   "metadata": {
    "id": "wNBQxlYQwmwg"
   },
   "outputs": [],
   "source": [
    "def calc_loss(image, model):\n",
    "  img_batch = tf.expand_dims(image, axis=0) # Convert into batch format\n",
    "  layer_activations = model(img_batch) # Run the model\n",
    "  print('ACTIVATION VALUES (LAYER OUTPUT) =\\n', layer_activations)\n",
    "  # print('ACTIVATION SHAPE =\\n', np.shape(layer_activations))\n",
    "\n",
    "  losses = [] # accumulator to hold all the losses\n",
    "  for act in layer_activations:\n",
    "    loss = tf.math.reduce_mean(act) # calculate mean of each activation \n",
    "    losses.append(loss)\n",
    "  \n",
    "  print('LOSSES (FROM MULTIPLE ACTIVATION LAYERS) = ', losses)\n",
    "  print('LOSSES SHAPE (FROM MULTIPLE ACTIVATION LAYERS) = ', np.shape(losses))\n",
    "  print('SUM OF ALL LOSSES (FROM ALL SELECTED LAYERS)= ', tf.reduce_sum(losses))\n",
    "\n",
    "  return  tf.reduce_sum(losses) # Calculate sum "
   ]
  },
  {
   "cell_type": "code",
   "execution_count": null,
   "metadata": {
    "id": "0tEw4xZ0w5CJ"
   },
   "outputs": [],
   "source": [
    "# Let's test the function\n",
    "Sample_Image= tf.keras.preprocessing.image.load_img(r'/content/gdrive/My Drive/Colab Notebooks/Deep Dream/StaryNight.jpg', target_size = (225, 375))\n",
    "Sample_Image = np.array(Sample_Image)/255.0\n",
    "Sample_Image = tf.keras.preprocessing.image.img_to_array(Sample_Image)\n",
    "Sample_Image = tf.Variable(tf.keras.applications.inception_v3.preprocess_input(Sample_Image))\n",
    "\n",
    "loss = calc_loss(Sample_Image, deepdream_model)"
   ]
  },
  {
   "cell_type": "code",
   "execution_count": null,
   "metadata": {
    "id": "uPHWKYWHw8ld"
   },
   "outputs": [],
   "source": [
    "loss # Sum up the losses from both activations"
   ]
  },
  {
   "cell_type": "markdown",
   "metadata": {
    "id": "xqy4ME2IxCm0"
   },
   "source": [
    "### STEP #6: GRADIENT ASCENT CALCULATIONS\n"
   ]
  },
  {
   "cell_type": "code",
   "execution_count": null,
   "metadata": {
    "id": "EVaJFsXKw_TT"
   },
   "outputs": [],
   "source": [
    "@tf.function\n",
    "def deepdream(model, image, step_size):\n",
    "    with tf.GradientTape() as tape:\n",
    "      tape.watch(image)\n",
    "      loss = calc_loss(image, model) # call the function that calculate the loss \n",
    "\n",
    "    gradients = tape.gradient(loss, image)\n",
    "\n",
    "    print('GRADIENTS =\\n', gradients)\n",
    "    print('GRADIENTS SHAPE =\\n', np.shape(gradients))\n",
    "\n",
    "    gradients /= tf.math.reduce_std(gradients)  \n",
    "\n",
    "    image = image + gradients * step_size\n",
    "    image = tf.clip_by_value(image, -1, 1)\n",
    "\n",
    "    return loss, image"
   ]
  },
  {
   "cell_type": "code",
   "execution_count": null,
   "metadata": {
    "id": "j3NkpZH1xP34"
   },
   "outputs": [],
   "source": [
    "def run_deep_dream_simple(model, image, steps=100, step_size=0.01):\n",
    "  # Convert from uint8 to the range expected by the model.\n",
    "  image = tf.keras.applications.inception_v3.preprocess_input(image)\n",
    "\n",
    "  for step in range(steps):\n",
    "    loss, image = deepdream(model, image, step_size)\n",
    "    \n",
    "    if step % 100 == 0:\n",
    "      plt.figure(figsize=(12,12))\n",
    "      plt.imshow(deprocess(image))\n",
    "      plt.show()\n",
    "      print (\"Step {}, loss {}\".format(step, loss))\n",
    "\n",
    "  # clear_output(wait=True)\n",
    "  plt.figure(figsize=(12,12))\n",
    "  plt.imshow(deprocess(image))\n",
    "  plt.show()\n",
    "\n",
    "  return deprocess(image)"
   ]
  },
  {
   "cell_type": "code",
   "execution_count": null,
   "metadata": {
    "id": "4vCuOksPxSM1"
   },
   "outputs": [],
   "source": [
    "def deprocess(image):\n",
    "  image = 255*(image + 1.0)/2.0\n",
    "  return tf.cast(image, tf.uint8)"
   ]
  },
  {
   "cell_type": "code",
   "execution_count": null,
   "metadata": {
    "id": "VHDjD7GDxUbE"
   },
   "outputs": [],
   "source": [
    "# Sample_Image= tf.keras.preprocessing.image.load_img(r'/content/gdrive/My Drive/Colab Notebooks/Deep Dream/sample.png', target_size = (225, 375))\n",
    "Sample_Image= tf.keras.preprocessing.image.load_img(r'/content/gdrive/My Drive/Colab Notebooks/Deep Dream/StaryNight.jpg', target_size = (225, 375))\n",
    "\n",
    "# Sample_Image = np.array(Sample_Image)/255.0\n",
    "# Sample_Image = tf.keras.preprocessing.image.img_to_array(Sample_Image)\n",
    "Sample_Image = np.array(Sample_Image)\n",
    "# Sample_Image = tf.keras.applications.inception_v3.preprocess_input(Sample_Image)\n",
    "dream_img = run_deep_dream_simple(model=deepdream_model, image=Sample_Image, \n",
    "                                  steps=2000, step_size=0.001)"
   ]
  },
  {
   "cell_type": "code",
   "execution_count": null,
   "metadata": {
    "id": "S5wHqQoGxWJj"
   },
   "outputs": [],
   "source": [
    "OCTAVE_SCALE = 1.3\n",
    "\n",
    "Sample_Image= tf.keras.preprocessing.image.load_img(r'/content/gdrive/My Drive/Colab Notebooks/Deep Dream/StaryNight.jpg', target_size = (225, 375))\n",
    "\n",
    "image = tf.constant(np.array(Sample_Image))\n",
    "base_shape = tf.cast(tf.shape(image)[:-1], tf.float32)\n",
    "\n",
    "for n in range(5):\n",
    "  new_shape = tf.cast(base_shape*(OCTAVE_SCALE**n), tf.int32)\n",
    "  image = tf.image.resize(image, new_shape).numpy()\n",
    "\n",
    "  image = run_deep_dream_simple(model=deepdream_model, image=image, steps=400, step_size=0.001)\n"
   ]
  },
  {
   "cell_type": "code",
   "execution_count": null,
   "metadata": {
    "id": "RF-yAXzY6_H7"
   },
   "outputs": [],
   "source": [
    "plt.imshow(image)"
   ]
  },
  {
   "cell_type": "code",
   "execution_count": null,
   "metadata": {
    "id": "b9WCUDJOyQF5"
   },
   "outputs": [],
   "source": []
  }
 ],
 "metadata": {
  "accelerator": "GPU",
  "colab": {
   "collapsed_sections": [],
   "name": "Copy of Deep Dream Project1.ipynb",
   "provenance": []
  },
  "kernelspec": {
   "display_name": "Python 3 (ipykernel)",
   "language": "python",
   "name": "python3"
  },
  "language_info": {
   "codemirror_mode": {
    "name": "ipython",
    "version": 3
   },
   "file_extension": ".py",
   "mimetype": "text/x-python",
   "name": "python",
   "nbconvert_exporter": "python",
   "pygments_lexer": "ipython3",
   "version": "3.9.7"
  }
 },
 "nbformat": 4,
 "nbformat_minor": 1
}
