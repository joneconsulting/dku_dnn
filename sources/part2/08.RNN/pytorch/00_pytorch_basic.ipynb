{
 "cells": [
  {
   "cell_type": "markdown",
   "id": "9cadbe3a",
   "metadata": {},
   "source": [
    "'''\n",
    "https://velog.io/@tjdtnsu/PyTorch-%EA%B8%B0%EC%B4%88-%ED%85%90%EC%84%9C-%EC%83%9D%EC%84%B1-%EB%B0%8F-%EC%A1%B0%EC%9E%91%ED%95%98%EA%B8%B0\n",
    "'''\n",
    "## torch 불러오기"
   ]
  },
  {
   "cell_type": "code",
   "execution_count": 1,
   "id": "010f0372",
   "metadata": {},
   "outputs": [],
   "source": [
    "import torch\n",
    "import numpy as np"
   ]
  },
  {
   "cell_type": "markdown",
   "id": "99357531",
   "metadata": {},
   "source": [
    "## 텐서 생성"
   ]
  },
  {
   "cell_type": "code",
   "execution_count": 3,
   "id": "8081c9d0",
   "metadata": {},
   "outputs": [
    {
     "name": "stdout",
     "output_type": "stream",
     "text": [
      "list \n",
      " [[1.0, 2.0], [3.0, 4.0]]\n",
      "numpy \n",
      " [[1. 2.]\n",
      " [3. 4.]]\n",
      "tensor \n",
      " tensor([[1., 2.],\n",
      "        [3., 4.]])\n"
     ]
    }
   ],
   "source": [
    "x_list = [[1., 2.],[3., 4.]]\n",
    "x_numpy = np.array(x_list)\n",
    "x = torch.tensor(x_list)\n",
    "\n",
    "print(\"list \\n\", x_list)\n",
    "print(\"numpy \\n\", x_numpy)\n",
    "print(\"tensor \\n\", x)"
   ]
  },
  {
   "cell_type": "markdown",
   "id": "6c443ab5",
   "metadata": {},
   "source": [
    "## numpy와의 자료형 변환"
   ]
  },
  {
   "cell_type": "code",
   "execution_count": null,
   "id": "121f915c",
   "metadata": {},
   "outputs": [],
   "source": [
    "x_tensor_from_numpy = torch.from_numpy(x_numpy)\n",
    "x_numpy_from_tensor = x.numpy()\n",
    "\n",
    "print(\"tensor_from_numpy \\n\", x_tensor_from_numpy)\n",
    "print(\"numpy_from_tensor \\n\", x_numpy_from_tensor)"
   ]
  },
  {
   "cell_type": "markdown",
   "id": "09aeaa0d",
   "metadata": {},
   "source": [
    "## 특정 값으로의 텐서 생성"
   ]
  },
  {
   "cell_type": "code",
   "execution_count": 5,
   "id": "e8aee249",
   "metadata": {},
   "outputs": [
    {
     "name": "stdout",
     "output_type": "stream",
     "text": [
      "zeros_2by3 \n",
      " tensor([[0., 0., 0.],\n",
      "        [0., 0., 0.]])\n",
      "ones_2by3 \n",
      " tensor([[1., 1., 1.],\n",
      "        [1., 1., 1.]])\n",
      "rand_2by3 \n",
      " tensor([[0.0651, 0.2972, 0.3915],\n",
      "        [0.8914, 0.0623, 0.6619]])\n"
     ]
    }
   ],
   "source": [
    "x23_zeros = torch.zeros(2, 3)\n",
    "x23_ones = torch.ones(2, 3)\n",
    "x23_rand = torch.rand(2, 3)\n",
    "\n",
    "print(\"zeros_2by3 \\n\", x23_zeros)\n",
    "print(\"ones_2by3 \\n\", x23_ones)\n",
    "print(\"rand_2by3 \\n\", x23_rand)"
   ]
  },
  {
   "cell_type": "markdown",
   "id": "dfb96867",
   "metadata": {},
   "source": [
    "## shape를 통한 텐서 생성"
   ]
  },
  {
   "cell_type": "code",
   "execution_count": 6,
   "id": "25beb17d",
   "metadata": {},
   "outputs": [
    {
     "name": "stdout",
     "output_type": "stream",
     "text": [
      "zeros_like \n",
      " tensor([[0., 0.],\n",
      "        [0., 0.]])\n",
      "ones_like \n",
      " tensor([[1., 1.],\n",
      "        [1., 1.]])\n"
     ]
    }
   ],
   "source": [
    "x_zeros = torch.zeros_like(x)\n",
    "x_ones = torch.ones_like(x)\n",
    "\n",
    "print(\"zeros_like \\n\", x_zeros)\n",
    "print(\"ones_like \\n\", x_ones)"
   ]
  },
  {
   "cell_type": "markdown",
   "id": "7173c389",
   "metadata": {},
   "source": [
    "## 값들의 간격을 정의하는 텐서 생성"
   ]
  },
  {
   "cell_type": "code",
   "execution_count": 7,
   "id": "4502efac",
   "metadata": {},
   "outputs": [
    {
     "name": "stdout",
     "output_type": "stream",
     "text": [
      "x5 \n",
      " tensor([0, 1, 2, 3, 4])\n"
     ]
    }
   ],
   "source": [
    "x5 = torch.arange(5)\n",
    "\n",
    "print(\"x5 \\n\", x5)"
   ]
  },
  {
   "cell_type": "markdown",
   "id": "1e471c89",
   "metadata": {},
   "source": [
    "## shape 출력"
   ]
  },
  {
   "cell_type": "code",
   "execution_count": 8,
   "id": "c5cc2eae",
   "metadata": {},
   "outputs": [
    {
     "name": "stdout",
     "output_type": "stream",
     "text": [
      "x23_shape: torch.Size([2, 3])\n",
      "x5_shape: torch.Size([5])\n"
     ]
    }
   ],
   "source": [
    "print(\"x23_shape:\", x23_rand.shape)\n",
    "print(\"x5_shape:\", x5.shape)"
   ]
  },
  {
   "cell_type": "markdown",
   "id": "e3b39cf4",
   "metadata": {},
   "source": [
    "## 텐서 간의 연산"
   ]
  },
  {
   "cell_type": "code",
   "execution_count": 9,
   "id": "52fe0fac",
   "metadata": {},
   "outputs": [
    {
     "name": "stdout",
     "output_type": "stream",
     "text": [
      "matmul \n",
      " tensor([[ 7., 10.],\n",
      "        [15., 22.]])\n",
      "mul \n",
      " tensor([[ 1.,  4.],\n",
      "        [ 9., 16.]])\n"
     ]
    }
   ],
   "source": [
    "print(\"matmul \\n\", x @ x)\n",
    "print(\"mul \\n\", x * x)"
   ]
  },
  {
   "cell_type": "markdown",
   "id": "50e25b6e",
   "metadata": {},
   "source": [
    "## 텐서의 합과 평균"
   ]
  },
  {
   "cell_type": "code",
   "execution_count": 10,
   "id": "f7648678",
   "metadata": {},
   "outputs": [
    {
     "name": "stdout",
     "output_type": "stream",
     "text": [
      "sum: tensor(10.)\n",
      "mean:  tensor(2.5000)\n"
     ]
    }
   ],
   "source": [
    "print(\"sum:\", x.sum())\n",
    "print(\"mean: \", x.mean())"
   ]
  },
  {
   "cell_type": "markdown",
   "id": "f0b15970",
   "metadata": {},
   "source": [
    "## 텐서 차원 조절"
   ]
  },
  {
   "cell_type": "code",
   "execution_count": 11,
   "id": "a7474ff5",
   "metadata": {},
   "outputs": [
    {
     "name": "stdout",
     "output_type": "stream",
     "text": [
      "y_squeeze_shape: torch.Size([2, 3, 2, 5])\n",
      "y_squeeze_0_shape: torch.Size([2, 3, 2, 1, 5])\n",
      "y_unsqueeze_0_shape: torch.Size([1, 2, 1, 3, 2, 1, 5])\n",
      "y_unsqueeze_3_shape: torch.Size([2, 1, 3, 1, 2, 1, 5])\n"
     ]
    }
   ],
   "source": [
    "y = torch.rand(2, 1, 3, 2, 1, 5)\n",
    "\n",
    "y_squeeze = torch.squeeze(y)\n",
    "y_squeeze_0 = torch.squeeze(y, 1)\n",
    "y_unsqueeze_0 = torch.unsqueeze(y, 0)\n",
    "y_unsqueeze_3 = torch.unsqueeze(y, 3)\n",
    "\n",
    "print(\"y_squeeze_shape:\", y_squeeze.shape)\n",
    "print(\"y_squeeze_0_shape:\", y_squeeze_0.shape)\n",
    "print(\"y_unsqueeze_0_shape:\", y_unsqueeze_0.shape)\n",
    "print(\"y_unsqueeze_3_shape:\", y_unsqueeze_3.shape)"
   ]
  },
  {
   "cell_type": "markdown",
   "id": "9c5556f5",
   "metadata": {},
   "source": [
    "## shape 변경\n"
   ]
  },
  {
   "cell_type": "code",
   "execution_count": 12,
   "id": "f2d5cd84",
   "metadata": {},
   "outputs": [
    {
     "name": "stdout",
     "output_type": "stream",
     "text": [
      "z_6_view_shape: torch.Size([6, 4])\n",
      "z_6_reshape_shape: torch.Size([6, 4])\n"
     ]
    }
   ],
   "source": [
    "z = torch.rand(2, 3, 4)\n",
    "\n",
    "z_6_view = z.view(6, -1)\n",
    "z_6_reshape = z.reshape(6, -1)\n",
    "\n",
    "print(\"z_6_view_shape:\", z_6_view.shape)\n",
    "print(\"z_6_reshape_shape:\", z_6_reshape.shape)"
   ]
  },
  {
   "cell_type": "markdown",
   "id": "c870189a",
   "metadata": {},
   "source": [
    "## 텐서 차원 순서 변경"
   ]
  },
  {
   "cell_type": "code",
   "execution_count": 13,
   "id": "73aeecf0",
   "metadata": {},
   "outputs": [
    {
     "name": "stdout",
     "output_type": "stream",
     "text": [
      "z_transpose_shape: torch.Size([4, 3, 2])\n",
      "z_permute_shape: torch.Size([3, 4, 2])\n"
     ]
    }
   ],
   "source": [
    "z_transpose = z.transpose(0, 2)\n",
    "z_permute = z.permute(1, 2, 0)\n",
    "\n",
    "print(\"z_transpose_shape:\", z_transpose.shape)\n",
    "print(\"z_permute_shape:\", z_permute.shape)"
   ]
  },
  {
   "cell_type": "code",
   "execution_count": null,
   "id": "12f50af4",
   "metadata": {},
   "outputs": [],
   "source": []
  }
 ],
 "metadata": {
  "kernelspec": {
   "display_name": "Python 3 (ipykernel)",
   "language": "python",
   "name": "python3"
  },
  "language_info": {
   "codemirror_mode": {
    "name": "ipython",
    "version": 3
   },
   "file_extension": ".py",
   "mimetype": "text/x-python",
   "name": "python",
   "nbconvert_exporter": "python",
   "pygments_lexer": "ipython3",
   "version": "3.9.16"
  }
 },
 "nbformat": 4,
 "nbformat_minor": 5
}
