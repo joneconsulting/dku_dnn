{
 "cells": [
  {
   "cell_type": "code",
   "execution_count": 1,
   "metadata": {
    "colab": {},
    "colab_type": "code",
    "id": "5g-fjY7KT6r5"
   },
   "outputs": [],
   "source": [
    "from tensorflow.keras.layers import Input, SimpleRNN, Dense, Flatten\n",
    "from tensorflow.keras.models import Model\n",
    "from tensorflow.keras.optimizers import SGD, Adam\n",
    "\n",
    "import numpy as np\n",
    "import pandas as pd\n",
    "import matplotlib.pyplot as plt"
   ]
  },
  {
   "cell_type": "code",
   "execution_count": 2,
   "metadata": {
    "colab": {},
    "colab_type": "code",
    "id": "6NpZCpeFT_DX"
   },
   "outputs": [],
   "source": [
    "# Things you should automatically know and have memorized\n",
    "# N = number od samples\n",
    "# T = sequence length\n",
    "# D = number of input features\n",
    "# M = number of hidden units\n",
    "# K = number of output units"
   ]
  },
  {
   "cell_type": "code",
   "execution_count": 3,
   "metadata": {
    "colab": {},
    "colab_type": "code",
    "id": "kk9xm2E2UUC4"
   },
   "outputs": [],
   "source": [
    "# Make some data\n",
    "N = 1\n",
    "T =10\n",
    "D =3\n",
    "K =2\n",
    "X = np.random.randn(N, T, D)"
   ]
  },
  {
   "cell_type": "code",
   "execution_count": 4,
   "metadata": {
    "colab": {},
    "colab_type": "code",
    "id": "cXgZfG4LUaGX"
   },
   "outputs": [],
   "source": [
    "# Make an RNN\n",
    "M = 5 # number of hidden units\n",
    "i = Input(shape=(T, D))\n",
    "x = SimpleRNN(M)(i)\n",
    "x = Dense(K)(x)\n",
    "\n",
    "model = Model(i, x)"
   ]
  },
  {
   "cell_type": "code",
   "execution_count": 5,
   "metadata": {
    "colab": {
     "base_uri": "https://localhost:8080/",
     "height": 34
    },
    "colab_type": "code",
    "id": "u-EO8yk0UxRk",
    "outputId": "1cf6f5ad-94d3-4d78-f7ec-90767e0c2ca9"
   },
   "outputs": [
    {
     "name": "stdout",
     "output_type": "stream",
     "text": [
      "[[-0.55053467  0.92847526]]\n"
     ]
    }
   ],
   "source": [
    "# Get the output\n",
    "Yhat = model.predict(X)\n",
    "print(Yhat)"
   ]
  },
  {
   "cell_type": "code",
   "execution_count": null,
   "metadata": {
    "colab": {
     "base_uri": "https://localhost:8080/",
     "height": 255
    },
    "colab_type": "code",
    "id": "h8OzKqn5U5rz",
    "outputId": "a23a093e-fa11-4e96-aafb-dfceb085d9e0"
   },
   "outputs": [],
   "source": [
    "# See if we can replicate this output\n",
    "# Get the weights first\n",
    "model.summary()"
   ]
  },
  {
   "cell_type": "code",
   "execution_count": null,
   "metadata": {
    "colab": {
     "base_uri": "https://localhost:8080/",
     "height": 204
    },
    "colab_type": "code",
    "id": "uhPohQ2LVc0_",
    "outputId": "e83eff30-e9f0-4e7f-a197-0f43177f527f"
   },
   "outputs": [],
   "source": [
    "# See what's returned\n",
    "model.layers[1].get_weights()"
   ]
  },
  {
   "cell_type": "code",
   "execution_count": null,
   "metadata": {
    "colab": {
     "base_uri": "https://localhost:8080/",
     "height": 34
    },
    "colab_type": "code",
    "id": "GPj7ifU5Vhjf",
    "outputId": "bb5373de-8335-4222-8a14-d084bc1b8a51"
   },
   "outputs": [],
   "source": [
    "# Check their shapes\n",
    "# Should make sense\n",
    "# First output is input > hidden\n",
    "# Second output is hidden > hidden\n",
    "# Thirs output is bias term (vector of length M)\n",
    "a, b, c = model.layers[1].get_weights()\n",
    "print(a.shape, b.shape, c.shape)"
   ]
  },
  {
   "cell_type": "code",
   "execution_count": null,
   "metadata": {
    "colab": {},
    "colab_type": "code",
    "id": "wc-shsz0V3IC"
   },
   "outputs": [],
   "source": [
    "Wx, Wh, bh = model.layers[1].get_weights()\n",
    "Wo, bo = model.layers[2].get_weights()"
   ]
  },
  {
   "cell_type": "code",
   "execution_count": null,
   "metadata": {
    "colab": {
     "base_uri": "https://localhost:8080/",
     "height": 34
    },
    "colab_type": "code",
    "id": "NSU6rVeQWB7r",
    "outputId": "2984668c-6d6f-4deb-ef33-ec0e577f90df"
   },
   "outputs": [],
   "source": [
    "h_last = np.zeros(M)  # initial hidden state\n",
    "x = X[0]  # the one and only sample\n",
    "Yhats = [] # where we store the outputs\n",
    "\n",
    "for t in range(T):\n",
    "    h = np.tanh(x[t].dot(Wx) + h_last.dot(Wh) + bh)\n",
    "    y = h.dot(Wo) + bo # we only care about this value on the last iteration\n",
    "    Yhats.append(y)\n",
    "\n",
    "    # important: assign h to h_last\n",
    "    h_last = h\n",
    "# print the final output\n",
    "print(Yhats[-1])"
   ]
  },
  {
   "cell_type": "code",
   "execution_count": null,
   "metadata": {
    "colab": {},
    "colab_type": "code",
    "id": "ThB4G-w8Wjvi"
   },
   "outputs": [],
   "source": [
    "# Bonus exercise: calculate the output for multiple smapes at onee (N > 1)"
   ]
  }
 ],
 "metadata": {
  "colab": {
   "collapsed_sections": [],
   "name": "TF2.0 RNN Shapes.ipynb",
   "provenance": []
  },
  "kernelspec": {
   "display_name": "Python 3",
   "language": "python",
   "name": "python3"
  },
  "language_info": {
   "codemirror_mode": {
    "name": "ipython",
    "version": 3
   },
   "file_extension": ".py",
   "mimetype": "text/x-python",
   "name": "python",
   "nbconvert_exporter": "python",
   "pygments_lexer": "ipython3",
   "version": "3.7.6"
  }
 },
 "nbformat": 4,
 "nbformat_minor": 1
}
