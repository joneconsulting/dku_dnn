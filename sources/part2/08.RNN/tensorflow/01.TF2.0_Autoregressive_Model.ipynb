{
 "cells": [
  {
   "cell_type": "code",
   "execution_count": 1,
   "metadata": {
    "colab": {},
    "colab_type": "code",
    "id": "HOHPj8kwRpzV"
   },
   "outputs": [],
   "source": [
    "# !pip install --upgrade tensorboard==2.2.0\n",
    "# !pip install --upgrade tensorflow-estimator==2.2.0rc0"
   ]
  },
  {
   "cell_type": "code",
   "execution_count": 2,
   "metadata": {
    "colab": {},
    "colab_type": "code",
    "id": "5rgPgo6kSPo_"
   },
   "outputs": [],
   "source": [
    "# !pip install -q tensorflow-gpu"
   ]
  },
  {
   "cell_type": "code",
   "execution_count": 3,
   "metadata": {
    "colab": {
     "base_uri": "https://localhost:8080/",
     "height": 34
    },
    "colab_type": "code",
    "id": "P2Y71LDWRu7q",
    "outputId": "5cd9d251-1ad4-4036-a746-57893139b64a"
   },
   "outputs": [
    {
     "name": "stdout",
     "output_type": "stream",
     "text": [
      "2.8.0\n"
     ]
    }
   ],
   "source": [
    "import tensorflow as tf\n",
    "print(tf.__version__)"
   ]
  },
  {
   "cell_type": "code",
   "execution_count": 4,
   "metadata": {
    "colab": {},
    "colab_type": "code",
    "id": "QOGt8sGSRzQ9"
   },
   "outputs": [],
   "source": [
    "from tensorflow.keras.layers import Input, Dense\n",
    "from tensorflow.keras.models import Model\n",
    "from tensorflow.keras.optimizers import SGD, Adam\n",
    "\n",
    "import numpy as np\n",
    "import pandas as pd\n",
    "import matplotlib.pyplot as plt"
   ]
  },
  {
   "cell_type": "code",
   "execution_count": 5,
   "metadata": {
    "colab": {
     "base_uri": "https://localhost:8080/",
     "height": 265
    },
    "colab_type": "code",
    "id": "HXCP3jw6UQt4",
    "outputId": "03f5d06b-cb3c-4c8a-8cb0-e2348fa234a3"
   },
   "outputs": [
    {
     "data": {
      "image/png": "[encoded data removed]",
      "text/plain": [
       "<Figure size 432x288 with 1 Axes>"
      ]
     },
     "metadata": {
      "needs_background": "light"
     },
     "output_type": "display_data"
    }
   ],
   "source": [
    "# make the original data\n",
    "series = np.sin(0.1 * np.arange(200)) #+ np.random.randn(200) * 0.1\n",
    "\n",
    "# plot it\n",
    "plt.plot(series)\n",
    "plt.show()"
   ]
  },
  {
   "cell_type": "code",
   "execution_count": 6,
   "metadata": {},
   "outputs": [
    {
     "name": "stdout",
     "output_type": "stream",
     "text": [
      "X.shape: (190, 10) , Y.shape: (190,)\n"
     ]
    }
   ],
   "source": [
    "### build the dataset\n",
    "# let's see if we can use T past values to predict the next value\n",
    "T =10\n",
    "X = []\n",
    "Y = []\n",
    "for t in range(len(series) - T):\n",
    "  x = series[t:t+T]\n",
    "  X.append(x)\n",
    "  y = series[t+T]\n",
    "  Y.append(y)\n",
    "\n",
    "X = np.array(X).reshape(-1, T)\n",
    "Y = np.array(Y)\n",
    "N = len(X)\n",
    "print(\"X.shape:\", X.shape, \", Y.shape:\", Y.shape)\n"
   ]
  },
  {
   "cell_type": "code",
   "execution_count": 7,
   "metadata": {},
   "outputs": [
    {
     "name": "stdout",
     "output_type": "stream",
     "text": [
      "Epoch 1/80\n"
     ]
    },
    {
     "name": "stderr",
     "output_type": "stream",
     "text": [
      "2022-03-14 15:25:33.557380: I tensorflow/core/platform/cpu_feature_guard.cc:151] This TensorFlow binary is optimized with oneAPI Deep Neural Network Library (oneDNN) to use the following CPU instructions in performance-critical operations:  AVX2 FMA\n",
      "To enable them in other operations, rebuild TensorFlow with the appropriate compiler flags.\n",
      "/opt/anaconda3/lib/python3.8/site-packages/keras/optimizer_v2/adam.py:105: UserWarning: The `lr` argument is deprecated, use `learning_rate` instead.\n",
      "  super(Adam, self).__init__(name, **kwargs)\n"
     ]
    },
    {
     "name": "stdout",
     "output_type": "stream",
     "text": [
      "3/3 [==============================] - 0s 51ms/step - loss: 1.4941 - val_loss: 0.1117\n",
      "Epoch 2/80\n",
      "3/3 [==============================] - 0s 10ms/step - loss: 0.5264 - val_loss: 0.7351\n",
      "Epoch 3/80\n",
      "3/3 [==============================] - 0s 11ms/step - loss: 0.6687 - val_loss: 0.1839\n",
      "Epoch 4/80\n",
      "3/3 [==============================] - 0s 12ms/step - loss: 0.0959 - val_loss: 0.1165\n",
      "Epoch 5/80\n",
      "3/3 [==============================] - 0s 12ms/step - loss: 0.2759 - val_loss: 0.2203\n",
      "Epoch 6/80\n",
      "3/3 [==============================] - 0s 11ms/step - loss: 0.2243 - val_loss: 0.0296\n",
      "Epoch 7/80\n",
      "3/3 [==============================] - 0s 11ms/step - loss: 0.0229 - val_loss: 0.0702\n",
      "Epoch 8/80\n",
      "3/3 [==============================] - 0s 11ms/step - loss: 0.1031 - val_loss: 0.0946\n",
      "Epoch 9/80\n",
      "3/3 [==============================] - 0s 11ms/step - loss: 0.0743 - val_loss: 0.0058\n",
      "Epoch 10/80\n",
      "3/3 [==============================] - 0s 11ms/step - loss: 0.0101 - val_loss: 0.0496\n",
      "Epoch 11/80\n",
      "3/3 [==============================] - 0s 11ms/step - loss: 0.0497 - val_loss: 0.0528\n",
      "Epoch 12/80\n",
      "3/3 [==============================] - 0s 11ms/step - loss: 0.0255 - val_loss: 0.0039\n",
      "Epoch 13/80\n",
      "3/3 [==============================] - 0s 12ms/step - loss: 0.0083 - val_loss: 0.0199\n",
      "Epoch 14/80\n",
      "3/3 [==============================] - 0s 13ms/step - loss: 0.0228 - val_loss: 0.0113\n",
      "Epoch 15/80\n",
      "3/3 [==============================] - 0s 12ms/step - loss: 0.0055 - val_loss: 0.0023\n",
      "Epoch 16/80\n",
      "3/3 [==============================] - 0s 12ms/step - loss: 0.0092 - val_loss: 0.0086\n",
      "Epoch 17/80\n",
      "3/3 [==============================] - 0s 12ms/step - loss: 0.0087 - val_loss: 1.9170e-04\n",
      "Epoch 18/80\n",
      "3/3 [==============================] - 0s 14ms/step - loss: 0.0015 - val_loss: 0.0041\n",
      "Epoch 19/80\n",
      "3/3 [==============================] - 0s 11ms/step - loss: 0.0048 - val_loss: 0.0014\n",
      "Epoch 20/80\n",
      "3/3 [==============================] - 0s 11ms/step - loss: 0.0011 - val_loss: 0.0018\n",
      "Epoch 21/80\n",
      "3/3 [==============================] - 0s 12ms/step - loss: 0.0024 - val_loss: 0.0027\n",
      "Epoch 22/80\n",
      "3/3 [==============================] - 0s 11ms/step - loss: 0.0014 - val_loss: 7.6970e-05\n",
      "Epoch 23/80\n",
      "3/3 [==============================] - 0s 14ms/step - loss: 6.3228e-04 - val_loss: 0.0014\n",
      "Epoch 24/80\n",
      "3/3 [==============================] - 0s 11ms/step - loss: 9.9013e-04 - val_loss: 3.0884e-04\n",
      "Epoch 25/80\n",
      "3/3 [==============================] - 0s 12ms/step - loss: 2.5841e-04 - val_loss: 4.0575e-04\n",
      "Epoch 26/80\n",
      "3/3 [==============================] - 0s 12ms/step - loss: 6.2028e-04 - val_loss: 1.5091e-04\n",
      "Epoch 27/80\n",
      "3/3 [==============================] - 0s 13ms/step - loss: 1.0796e-04 - val_loss: 1.9587e-04\n",
      "Epoch 28/80\n",
      "3/3 [==============================] - 0s 12ms/step - loss: 3.5546e-04 - val_loss: 1.8086e-04\n",
      "Epoch 29/80\n",
      "3/3 [==============================] - 0s 12ms/step - loss: 1.1994e-04 - val_loss: 1.2475e-04\n",
      "Epoch 30/80\n",
      "3/3 [==============================] - 0s 11ms/step - loss: 1.7637e-04 - val_loss: 2.3286e-04\n",
      "Epoch 31/80\n",
      "3/3 [==============================] - 0s 11ms/step - loss: 1.0993e-04 - val_loss: 1.2147e-05\n",
      "Epoch 32/80\n",
      "3/3 [==============================] - 0s 12ms/step - loss: 6.7650e-05 - val_loss: 1.3286e-04\n",
      "Epoch 33/80\n",
      "3/3 [==============================] - 0s 12ms/step - loss: 7.2522e-05 - val_loss: 8.2360e-06\n",
      "Epoch 34/80\n",
      "3/3 [==============================] - 0s 13ms/step - loss: 2.5018e-05 - val_loss: 4.4542e-05\n",
      "Epoch 35/80\n",
      "3/3 [==============================] - 0s 11ms/step - loss: 4.1980e-05 - val_loss: 1.8109e-06\n",
      "Epoch 36/80\n",
      "3/3 [==============================] - 0s 13ms/step - loss: 9.1515e-06 - val_loss: 2.1166e-05\n",
      "Epoch 37/80\n",
      "3/3 [==============================] - 0s 11ms/step - loss: 2.6037e-05 - val_loss: 2.7739e-06\n",
      "Epoch 38/80\n",
      "3/3 [==============================] - 0s 14ms/step - loss: 6.9292e-06 - val_loss: 1.6325e-05\n",
      "Epoch 39/80\n",
      "3/3 [==============================] - 0s 13ms/step - loss: 1.3069e-05 - val_loss: 1.1398e-06\n",
      "Epoch 40/80\n",
      "3/3 [==============================] - 0s 13ms/step - loss: 2.7037e-06 - val_loss: 1.1006e-05\n",
      "Epoch 41/80\n",
      "3/3 [==============================] - 0s 16ms/step - loss: 7.5065e-06 - val_loss: 1.6767e-06\n",
      "Epoch 42/80\n",
      "3/3 [==============================] - 0s 12ms/step - loss: 1.5324e-06 - val_loss: 3.8865e-06\n",
      "Epoch 43/80\n",
      "3/3 [==============================] - 0s 12ms/step - loss: 3.7053e-06 - val_loss: 5.9743e-07\n",
      "Epoch 44/80\n",
      "3/3 [==============================] - 0s 12ms/step - loss: 8.1272e-07 - val_loss: 1.9187e-06\n",
      "Epoch 45/80\n",
      "3/3 [==============================] - 0s 12ms/step - loss: 2.2522e-06 - val_loss: 3.1373e-07\n",
      "Epoch 46/80\n",
      "3/3 [==============================] - 0s 9ms/step - loss: 5.2063e-07 - val_loss: 1.4615e-06\n",
      "Epoch 47/80\n",
      "3/3 [==============================] - 0s 10ms/step - loss: 1.0893e-06 - val_loss: 6.6676e-08\n",
      "Epoch 48/80\n",
      "3/3 [==============================] - 0s 10ms/step - loss: 3.4508e-07 - val_loss: 1.0474e-06\n",
      "Epoch 49/80\n",
      "3/3 [==============================] - 0s 10ms/step - loss: 5.4217e-07 - val_loss: 6.0165e-08\n",
      "Epoch 50/80\n",
      "3/3 [==============================] - 0s 9ms/step - loss: 2.0487e-07 - val_loss: 3.8261e-07\n",
      "Epoch 51/80\n",
      "3/3 [==============================] - 0s 10ms/step - loss: 2.5970e-07 - val_loss: 2.8904e-08\n",
      "Epoch 52/80\n",
      "3/3 [==============================] - 0s 9ms/step - loss: 1.7757e-07 - val_loss: 1.6431e-07\n",
      "Epoch 53/80\n",
      "3/3 [==============================] - 0s 9ms/step - loss: 1.3178e-07 - val_loss: 3.7246e-08\n",
      "Epoch 54/80\n",
      "3/3 [==============================] - 0s 10ms/step - loss: 9.2137e-08 - val_loss: 8.0445e-08\n",
      "Epoch 55/80\n",
      "3/3 [==============================] - 0s 10ms/step - loss: 4.8062e-08 - val_loss: 5.9534e-08\n",
      "Epoch 56/80\n",
      "3/3 [==============================] - 0s 9ms/step - loss: 7.3220e-08 - val_loss: 6.1660e-08\n",
      "Epoch 57/80\n",
      "3/3 [==============================] - 0s 9ms/step - loss: 2.1128e-08 - val_loss: 2.7223e-08\n",
      "Epoch 58/80\n",
      "3/3 [==============================] - 0s 9ms/step - loss: 4.1991e-08 - val_loss: 2.1366e-08\n",
      "Epoch 59/80\n",
      "3/3 [==============================] - 0s 9ms/step - loss: 1.4959e-08 - val_loss: 2.3314e-08\n",
      "Epoch 60/80\n",
      "3/3 [==============================] - 0s 10ms/step - loss: 2.6961e-08 - val_loss: 1.1808e-09\n",
      "Epoch 61/80\n",
      "3/3 [==============================] - 0s 10ms/step - loss: 7.6192e-09 - val_loss: 1.3983e-08\n",
      "Epoch 62/80\n",
      "3/3 [==============================] - 0s 9ms/step - loss: 1.1533e-08 - val_loss: 4.1496e-09\n",
      "Epoch 63/80\n",
      "3/3 [==============================] - 0s 10ms/step - loss: 7.9485e-09 - val_loss: 9.4947e-09\n",
      "Epoch 64/80\n",
      "3/3 [==============================] - 0s 10ms/step - loss: 3.4152e-09 - val_loss: 2.8244e-09\n",
      "Epoch 65/80\n",
      "3/3 [==============================] - 0s 10ms/step - loss: 5.2431e-09 - val_loss: 3.1446e-09\n",
      "Epoch 66/80\n",
      "3/3 [==============================] - 0s 10ms/step - loss: 1.5902e-09 - val_loss: 2.2158e-09\n",
      "Epoch 67/80\n",
      "3/3 [==============================] - 0s 10ms/step - loss: 2.7739e-09 - val_loss: 1.0972e-10\n",
      "Epoch 68/80\n",
      "3/3 [==============================] - 0s 9ms/step - loss: 7.2862e-10 - val_loss: 1.3740e-09\n",
      "Epoch 69/80\n",
      "3/3 [==============================] - 0s 10ms/step - loss: 1.2665e-09 - val_loss: 4.2445e-10\n",
      "Epoch 70/80\n",
      "3/3 [==============================] - 0s 9ms/step - loss: 8.9280e-10 - val_loss: 7.7105e-10\n",
      "Epoch 71/80\n",
      "3/3 [==============================] - 0s 10ms/step - loss: 3.2014e-10 - val_loss: 5.6567e-10\n",
      "Epoch 72/80\n",
      "3/3 [==============================] - 0s 10ms/step - loss: 6.1945e-10 - val_loss: 3.5608e-10\n",
      "Epoch 73/80\n",
      "3/3 [==============================] - 0s 10ms/step - loss: 2.1641e-10 - val_loss: 3.7225e-10\n",
      "Epoch 74/80\n",
      "3/3 [==============================] - 0s 10ms/step - loss: 3.0928e-10 - val_loss: 9.2143e-12\n",
      "Epoch 75/80\n",
      "3/3 [==============================] - 0s 10ms/step - loss: 1.5962e-10 - val_loss: 1.5642e-10\n",
      "Epoch 76/80\n",
      "3/3 [==============================] - 0s 9ms/step - loss: 1.1008e-10 - val_loss: 8.4893e-11\n",
      "Epoch 77/80\n",
      "3/3 [==============================] - 0s 10ms/step - loss: 1.1850e-10 - val_loss: 3.2399e-11\n",
      "Epoch 78/80\n",
      "3/3 [==============================] - 0s 21ms/step - loss: 3.5817e-11 - val_loss: 1.2095e-10\n",
      "Epoch 79/80\n",
      "3/3 [==============================] - 0s 12ms/step - loss: 7.5213e-11 - val_loss: 4.0130e-12\n",
      "Epoch 80/80\n",
      "3/3 [==============================] - 0s 10ms/step - loss: 2.8693e-11 - val_loss: 5.0746e-11\n"
     ]
    }
   ],
   "source": [
    "### try autoregressive linear model\n",
    "i = Input(shape=(T,))\n",
    "x = Dense(1)(i)\n",
    "# x = Dense(1)(i)\n",
    "model = Model(i, x)\n",
    "model.compile(loss='mse', optimizer=Adam(lr=0.1))\n",
    "\n",
    "# train the RNN\n",
    "r = model.fit(X[:-N//2], Y[:-N//2], epochs=80, validation_data=(X[-N//2:], Y[-N//2:]))"
   ]
  },
  {
   "cell_type": "code",
   "execution_count": 8,
   "metadata": {},
   "outputs": [
    {
     "data": {
      "text/plain": [
       "<matplotlib.legend.Legend at 0x7fcf91f42e50>"
      ]
     },
     "execution_count": 8,
     "metadata": {},
     "output_type": "execute_result"
    },
    {
     "data": {
      "image/png": "[encoded data removed]",
      "text/plain": [
       "<Figure size 432x288 with 1 Axes>"
      ]
     },
     "metadata": {
      "needs_background": "light"
     },
     "output_type": "display_data"
    }
   ],
   "source": [
    "# Plot loss per iteration\n",
    "plt.plot(r.history['loss'], label='loss')\n",
    "plt.plot(r.history['val_loss'], label='val_loss')\n",
    "plt.legend()"
   ]
  },
  {
   "cell_type": "code",
   "execution_count": 9,
   "metadata": {},
   "outputs": [],
   "source": [
    "# \"Wrong\" forecast using true targets\n",
    "validation_target = Y[-N//2:]\n",
    "validation_predictions = []\n",
    "\n",
    "# input of first vlidation input\n",
    "i = -N//2\n",
    "\n",
    "while len(validation_predictions) < len(validation_target):\n",
    "  p = model.predict(X[i].reshape(1, -1))[0,0] # 1x1 array -> scalar\n",
    "  i += 1\n",
    "\n",
    "  # update the predictions list\n",
    "  validation_predictions.append(p)"
   ]
  },
  {
   "cell_type": "code",
   "execution_count": 10,
   "metadata": {},
   "outputs": [
    {
     "data": {
      "text/plain": [
       "<matplotlib.legend.Legend at 0x7fcf82400c10>"
      ]
     },
     "execution_count": 10,
     "metadata": {},
     "output_type": "execute_result"
    },
    {
     "data": {
      "image/png": "[encoded data removed]",
      "text/plain": [
       "<Figure size 432x288 with 1 Axes>"
      ]
     },
     "metadata": {
      "needs_background": "light"
     },
     "output_type": "display_data"
    }
   ],
   "source": [
    "plt.plot(validation_target, label='forecast_target')\n",
    "plt.plot(validation_predictions, label='forecast_prediction')\n",
    "plt.legend()"
   ]
  },
  {
   "cell_type": "code",
   "execution_count": 11,
   "metadata": {},
   "outputs": [
    {
     "name": "stdout",
     "output_type": "stream",
     "text": [
      "[[-0.07515112 -0.17432678 -0.27176063 -0.36647913 -0.45753589 -0.54402111\n",
      "  -0.62507065 -0.69987469 -0.76768581 -0.82782647]]\n",
      "-0.8797004\n"
     ]
    }
   ],
   "source": [
    "# Forecast future values (use only self-predictions for making future predictions)\n",
    "validation_target = Y[-N//2:]\n",
    "validation_predictions = []\n",
    "\n",
    "# last train input\n",
    "last_x = X[-N//2] # 1-D array of length T, 10\n",
    "# print(len(validation_target)) -> 95\n",
    "# print(last_x) -> [A, B, ...]\n",
    "print(last_x.reshape(1, -1)) #-> [[A, B, ...]]\n",
    "print(model.predict(last_x.reshape(1, -1))[0,0])\n",
    "while len(validation_predictions) < len(validation_target):\n",
    "  p = model.predict(last_x.reshape(1, -1))[0,0] # 1x1 array -> scalar\n",
    "\n",
    "  # update the predictions list\n",
    "  validation_predictions.append(p)\n",
    "\n",
    "  # make the new input\n",
    "#   print(\"before:\", last_x)\n",
    "  last_x = np.roll(last_x, -1)\n",
    "#   print(\"after:\", last_x)\n",
    "  last_x[-1] = p"
   ]
  },
  {
   "cell_type": "code",
   "execution_count": 12,
   "metadata": {},
   "outputs": [
    {
     "data": {
      "text/plain": [
       "<matplotlib.legend.Legend at 0x7fcf824851f0>"
      ]
     },
     "execution_count": 12,
     "metadata": {},
     "output_type": "execute_result"
    },
    {
     "data": {
      "image/png": "[encoded data removed]",
      "text/plain": [
       "<Figure size 432x288 with 1 Axes>"
      ]
     },
     "metadata": {
      "needs_background": "light"
     },
     "output_type": "display_data"
    }
   ],
   "source": [
    "plt.plot(validation_target, label='forecast_target')\n",
    "plt.plot(validation_predictions, label='forecast_prediction')\n",
    "plt.legend()"
   ]
  },
  {
   "cell_type": "markdown",
   "metadata": {},
   "source": [
    "## Noise examples"
   ]
  },
  {
   "cell_type": "code",
   "execution_count": 13,
   "metadata": {
    "colab": {
     "base_uri": "https://localhost:8080/",
     "height": 265
    },
    "colab_type": "code",
    "id": "KDujKQMNRV1o",
    "outputId": "3291ccde-4747-489c-f654-6042aad58416"
   },
   "outputs": [
    {
     "data": {
      "image/png": "[encoded data removed]",
      "text/plain": [
       "<Figure size 432x288 with 1 Axes>"
      ]
     },
     "metadata": {
      "needs_background": "light"
     },
     "output_type": "display_data"
    }
   ],
   "source": [
    "# make the original data (with noise)\n",
    "series = np.sin(0.1 * np.arange(200)) + np.random.randn(200) * 0.1\n",
    "\n",
    "# plot it\n",
    "plt.plot(series)\n",
    "plt.show()"
   ]
  },
  {
   "cell_type": "code",
   "execution_count": 14,
   "metadata": {
    "colab": {
     "base_uri": "https://localhost:8080/",
     "height": 34
    },
    "colab_type": "code",
    "id": "vqCX57TAUmF7",
    "outputId": "146e1185-67c2-49bf-97c9-a0c1115c4fe7"
   },
   "outputs": [
    {
     "name": "stdout",
     "output_type": "stream",
     "text": [
      "X.shape: (190, 10) , Y.shape: (190,) , N: 190\n"
     ]
    }
   ],
   "source": [
    "### build the dataset\n",
    "# let's see if we can use T pas values to predict the next value\n",
    "T =10\n",
    "X = []\n",
    "Y = []\n",
    "for t in range(len(series) - T):\n",
    "  x = series[t:t+T]\n",
    "  X.append(x)\n",
    "  y = series[t+T]\n",
    "  Y.append(y)\n",
    "\n",
    "X = np.array(X).reshape(-1, T)\n",
    "Y = np.array(Y)\n",
    "N = len(X)\n",
    "print(\"X.shape:\", X.shape, \", Y.shape:\", Y.shape, \", N:\", N)"
   ]
  },
  {
   "cell_type": "code",
   "execution_count": 15,
   "metadata": {
    "colab": {
     "base_uri": "https://localhost:8080/",
     "height": 1000
    },
    "colab_type": "code",
    "id": "nmumpkKRVMfm",
    "outputId": "2364ed55-366f-4356-e8c2-05bf8e7784de"
   },
   "outputs": [
    {
     "name": "stdout",
     "output_type": "stream",
     "text": [
      "Epoch 1/80\n"
     ]
    },
    {
     "name": "stderr",
     "output_type": "stream",
     "text": [
      "/opt/anaconda3/lib/python3.8/site-packages/keras/optimizer_v2/adam.py:105: UserWarning: The `lr` argument is deprecated, use `learning_rate` instead.\n",
      "  super(Adam, self).__init__(name, **kwargs)\n"
     ]
    },
    {
     "name": "stdout",
     "output_type": "stream",
     "text": [
      "3/3 [==============================] - 0s 47ms/step - loss: 0.5991 - val_loss: 0.4679\n",
      "Epoch 2/80\n",
      "3/3 [==============================] - 0s 11ms/step - loss: 0.4331 - val_loss: 0.1291\n",
      "Epoch 3/80\n",
      "3/3 [==============================] - 0s 10ms/step - loss: 0.1403 - val_loss: 0.1501\n",
      "Epoch 4/80\n",
      "3/3 [==============================] - 0s 9ms/step - loss: 0.1430 - val_loss: 0.0472\n",
      "Epoch 5/80\n",
      "3/3 [==============================] - 0s 11ms/step - loss: 0.0607 - val_loss: 0.1016\n",
      "Epoch 6/80\n",
      "3/3 [==============================] - 0s 9ms/step - loss: 0.0931 - val_loss: 0.0491\n",
      "Epoch 7/80\n",
      "3/3 [==============================] - 0s 9ms/step - loss: 0.0500 - val_loss: 0.1110\n",
      "Epoch 8/80\n",
      "3/3 [==============================] - 0s 10ms/step - loss: 0.0862 - val_loss: 0.0728\n",
      "Epoch 9/80\n",
      "3/3 [==============================] - 0s 11ms/step - loss: 0.0549 - val_loss: 0.0545\n",
      "Epoch 10/80\n",
      "3/3 [==============================] - 0s 11ms/step - loss: 0.0548 - val_loss: 0.0363\n",
      "Epoch 11/80\n",
      "3/3 [==============================] - 0s 11ms/step - loss: 0.0339 - val_loss: 0.0363\n",
      "Epoch 12/80\n",
      "3/3 [==============================] - 0s 11ms/step - loss: 0.0370 - val_loss: 0.0300\n",
      "Epoch 13/80\n",
      "3/3 [==============================] - 0s 12ms/step - loss: 0.0291 - val_loss: 0.0327\n",
      "Epoch 14/80\n",
      "3/3 [==============================] - 0s 12ms/step - loss: 0.0325 - val_loss: 0.0303\n",
      "Epoch 15/80\n",
      "3/3 [==============================] - 0s 12ms/step - loss: 0.0312 - val_loss: 0.0351\n",
      "Epoch 16/80\n",
      "3/3 [==============================] - 0s 10ms/step - loss: 0.0321 - val_loss: 0.0284\n",
      "Epoch 17/80\n",
      "3/3 [==============================] - 0s 14ms/step - loss: 0.0297 - val_loss: 0.0312\n",
      "Epoch 18/80\n",
      "3/3 [==============================] - 0s 12ms/step - loss: 0.0307 - val_loss: 0.0271\n",
      "Epoch 19/80\n",
      "3/3 [==============================] - 0s 12ms/step - loss: 0.0292 - val_loss: 0.0270\n",
      "Epoch 20/80\n",
      "3/3 [==============================] - 0s 16ms/step - loss: 0.0265 - val_loss: 0.0277\n",
      "Epoch 21/80\n",
      "3/3 [==============================] - 0s 13ms/step - loss: 0.0262 - val_loss: 0.0253\n",
      "Epoch 22/80\n",
      "3/3 [==============================] - 0s 13ms/step - loss: 0.0238 - val_loss: 0.0272\n",
      "Epoch 23/80\n",
      "3/3 [==============================] - 0s 13ms/step - loss: 0.0250 - val_loss: 0.0241\n",
      "Epoch 24/80\n",
      "3/3 [==============================] - 0s 15ms/step - loss: 0.0228 - val_loss: 0.0242\n",
      "Epoch 25/80\n",
      "3/3 [==============================] - 0s 10ms/step - loss: 0.0230 - val_loss: 0.0233\n",
      "Epoch 26/80\n",
      "3/3 [==============================] - 0s 11ms/step - loss: 0.0230 - val_loss: 0.0230\n",
      "Epoch 27/80\n",
      "3/3 [==============================] - 0s 10ms/step - loss: 0.0215 - val_loss: 0.0226\n",
      "Epoch 28/80\n",
      "3/3 [==============================] - 0s 11ms/step - loss: 0.0243 - val_loss: 0.0220\n",
      "Epoch 29/80\n",
      "3/3 [==============================] - 0s 10ms/step - loss: 0.0216 - val_loss: 0.0236\n",
      "Epoch 30/80\n",
      "3/3 [==============================] - 0s 12ms/step - loss: 0.0213 - val_loss: 0.0213\n",
      "Epoch 31/80\n",
      "3/3 [==============================] - 0s 21ms/step - loss: 0.0228 - val_loss: 0.0216\n",
      "Epoch 32/80\n",
      "3/3 [==============================] - 0s 10ms/step - loss: 0.0201 - val_loss: 0.0230\n",
      "Epoch 33/80\n",
      "3/3 [==============================] - 0s 14ms/step - loss: 0.0212 - val_loss: 0.0200\n",
      "Epoch 34/80\n",
      "3/3 [==============================] - 0s 11ms/step - loss: 0.0199 - val_loss: 0.0205\n",
      "Epoch 35/80\n",
      "3/3 [==============================] - 0s 10ms/step - loss: 0.0190 - val_loss: 0.0200\n",
      "Epoch 36/80\n",
      "3/3 [==============================] - 0s 10ms/step - loss: 0.0191 - val_loss: 0.0196\n",
      "Epoch 37/80\n",
      "3/3 [==============================] - 0s 12ms/step - loss: 0.0186 - val_loss: 0.0193\n",
      "Epoch 38/80\n",
      "3/3 [==============================] - 0s 14ms/step - loss: 0.0184 - val_loss: 0.0187\n",
      "Epoch 39/80\n",
      "3/3 [==============================] - 0s 13ms/step - loss: 0.0183 - val_loss: 0.0182\n",
      "Epoch 40/80\n",
      "3/3 [==============================] - 0s 11ms/step - loss: 0.0171 - val_loss: 0.0179\n",
      "Epoch 41/80\n",
      "3/3 [==============================] - 0s 12ms/step - loss: 0.0181 - val_loss: 0.0176\n",
      "Epoch 42/80\n",
      "3/3 [==============================] - 0s 14ms/step - loss: 0.0175 - val_loss: 0.0188\n",
      "Epoch 43/80\n",
      "3/3 [==============================] - 0s 11ms/step - loss: 0.0171 - val_loss: 0.0175\n",
      "Epoch 44/80\n",
      "3/3 [==============================] - 0s 11ms/step - loss: 0.0174 - val_loss: 0.0169\n",
      "Epoch 45/80\n",
      "3/3 [==============================] - 0s 11ms/step - loss: 0.0166 - val_loss: 0.0167\n",
      "Epoch 46/80\n",
      "3/3 [==============================] - 0s 13ms/step - loss: 0.0164 - val_loss: 0.0167\n",
      "Epoch 47/80\n",
      "3/3 [==============================] - 0s 11ms/step - loss: 0.0157 - val_loss: 0.0169\n",
      "Epoch 48/80\n",
      "3/3 [==============================] - 0s 13ms/step - loss: 0.0163 - val_loss: 0.0159\n",
      "Epoch 49/80\n",
      "3/3 [==============================] - 0s 11ms/step - loss: 0.0161 - val_loss: 0.0159\n",
      "Epoch 50/80\n",
      "3/3 [==============================] - 0s 11ms/step - loss: 0.0156 - val_loss: 0.0158\n",
      "Epoch 51/80\n",
      "3/3 [==============================] - 0s 14ms/step - loss: 0.0150 - val_loss: 0.0152\n",
      "Epoch 52/80\n",
      "3/3 [==============================] - 0s 13ms/step - loss: 0.0149 - val_loss: 0.0150\n",
      "Epoch 53/80\n",
      "3/3 [==============================] - 0s 11ms/step - loss: 0.0146 - val_loss: 0.0149\n",
      "Epoch 54/80\n",
      "3/3 [==============================] - 0s 11ms/step - loss: 0.0150 - val_loss: 0.0147\n",
      "Epoch 55/80\n",
      "3/3 [==============================] - 0s 13ms/step - loss: 0.0144 - val_loss: 0.0148\n",
      "Epoch 56/80\n",
      "3/3 [==============================] - 0s 11ms/step - loss: 0.0139 - val_loss: 0.0147\n",
      "Epoch 57/80\n",
      "3/3 [==============================] - 0s 11ms/step - loss: 0.0150 - val_loss: 0.0142\n",
      "Epoch 58/80\n",
      "3/3 [==============================] - 0s 11ms/step - loss: 0.0162 - val_loss: 0.0140\n",
      "Epoch 59/80\n",
      "3/3 [==============================] - 0s 11ms/step - loss: 0.0135 - val_loss: 0.0157\n",
      "Epoch 60/80\n",
      "3/3 [==============================] - 0s 11ms/step - loss: 0.0152 - val_loss: 0.0145\n",
      "Epoch 61/80\n",
      "3/3 [==============================] - 0s 11ms/step - loss: 0.0141 - val_loss: 0.0141\n",
      "Epoch 62/80\n",
      "3/3 [==============================] - 0s 13ms/step - loss: 0.0137 - val_loss: 0.0136\n",
      "Epoch 63/80\n",
      "3/3 [==============================] - 0s 12ms/step - loss: 0.0134 - val_loss: 0.0134\n",
      "Epoch 64/80\n",
      "3/3 [==============================] - 0s 13ms/step - loss: 0.0128 - val_loss: 0.0142\n",
      "Epoch 65/80\n",
      "3/3 [==============================] - 0s 14ms/step - loss: 0.0133 - val_loss: 0.0133\n",
      "Epoch 66/80\n",
      "3/3 [==============================] - 0s 10ms/step - loss: 0.0128 - val_loss: 0.0132\n",
      "Epoch 67/80\n",
      "3/3 [==============================] - 0s 11ms/step - loss: 0.0133 - val_loss: 0.0130\n",
      "Epoch 68/80\n",
      "3/3 [==============================] - 0s 12ms/step - loss: 0.0126 - val_loss: 0.0130\n",
      "Epoch 69/80\n",
      "3/3 [==============================] - 0s 11ms/step - loss: 0.0139 - val_loss: 0.0131\n",
      "Epoch 70/80\n",
      "3/3 [==============================] - 0s 10ms/step - loss: 0.0137 - val_loss: 0.0132\n",
      "Epoch 71/80\n",
      "3/3 [==============================] - 0s 11ms/step - loss: 0.0140 - val_loss: 0.0131\n",
      "Epoch 72/80\n",
      "3/3 [==============================] - 0s 11ms/step - loss: 0.0127 - val_loss: 0.0146\n",
      "Epoch 73/80\n",
      "3/3 [==============================] - 0s 13ms/step - loss: 0.0131 - val_loss: 0.0129\n",
      "Epoch 74/80\n",
      "3/3 [==============================] - 0s 12ms/step - loss: 0.0139 - val_loss: 0.0130\n",
      "Epoch 75/80\n",
      "3/3 [==============================] - 0s 12ms/step - loss: 0.0121 - val_loss: 0.0125\n",
      "Epoch 76/80\n",
      "3/3 [==============================] - 0s 10ms/step - loss: 0.0122 - val_loss: 0.0125\n",
      "Epoch 77/80\n",
      "3/3 [==============================] - 0s 12ms/step - loss: 0.0119 - val_loss: 0.0122\n",
      "Epoch 78/80\n",
      "3/3 [==============================] - 0s 10ms/step - loss: 0.0120 - val_loss: 0.0123\n",
      "Epoch 79/80\n",
      "3/3 [==============================] - 0s 12ms/step - loss: 0.0124 - val_loss: 0.0124\n",
      "Epoch 80/80\n",
      "3/3 [==============================] - 0s 13ms/step - loss: 0.0116 - val_loss: 0.0131\n"
     ]
    }
   ],
   "source": [
    "### try autoregressive linear model\n",
    "i = Input(shape=(T,))\n",
    "x = Dense(1)(i)\n",
    "model = Model(i, x)\n",
    "model.compile(loss='mse', optimizer=Adam(lr=0.1))\n",
    "\n",
    "# train the RNN\n",
    "r = model.fit(X[:-N//2], Y[:-N//2], epochs=80, validation_data=(X[-N//2:], Y[-N//2:]))"
   ]
  },
  {
   "cell_type": "code",
   "execution_count": 16,
   "metadata": {
    "colab": {
     "base_uri": "https://localhost:8080/",
     "height": 282
    },
    "colab_type": "code",
    "id": "3ersQt31Wh9O",
    "outputId": "ff778e3c-110a-437f-bf3c-cedd6c24aa1d"
   },
   "outputs": [
    {
     "data": {
      "text/plain": [
       "<matplotlib.legend.Legend at 0x7fcf822f1b80>"
      ]
     },
     "execution_count": 16,
     "metadata": {},
     "output_type": "execute_result"
    },
    {
     "data": {
      "image/png": "[encoded data removed]",
      "text/plain": [
       "<Figure size 432x288 with 1 Axes>"
      ]
     },
     "metadata": {
      "needs_background": "light"
     },
     "output_type": "display_data"
    }
   ],
   "source": [
    "# Plot loss per iteration\n",
    "plt.plot(r.history['loss'], label='loss')\n",
    "plt.plot(r.history['val_loss'], label='val_loss')\n",
    "plt.legend()"
   ]
  },
  {
   "cell_type": "code",
   "execution_count": 23,
   "metadata": {
    "colab": {},
    "colab_type": "code",
    "id": "kOze-JkGW0U7"
   },
   "outputs": [],
   "source": [
    "# \"Wrong\" forecast using true targets\n",
    "validation_target = Y[-N//2:]\n",
    "validation_predictions = []\n",
    "\n",
    "# input of first vlidation input\n",
    "i = -N//2\n",
    "\n",
    "while len(validation_predictions) < len(validation_target):\n",
    "  p = model.predict(X[i].reshape(1, -1))[0,0] # 1x1 array -> scalar\n",
    "  i += 1\n",
    "\n",
    "  # update the predictions list\n",
    "  validation_predictions.append(p)"
   ]
  },
  {
   "cell_type": "code",
   "execution_count": 24,
   "metadata": {},
   "outputs": [
    {
     "name": "stdout",
     "output_type": "stream",
     "text": [
      "[-1.03006892 -0.97054802 -0.90002603 -1.04537815 -0.87775016 -1.07687349\n",
      " -0.94765871 -0.99767347 -0.98854811 -0.96746258 -0.96187321 -0.99150454\n",
      " -0.75915849 -0.74770433 -0.73881128 -0.58667411 -0.33705834 -0.28516384\n",
      " -0.26857254 -0.24787451 -0.05842074  0.0333968   0.06969565  0.31572135\n",
      "  0.34596613  0.50865344  0.31097853  0.61851735  0.54235549  0.75577906\n",
      "  0.8775509   0.87305775  0.89903941  0.97723233  1.00193924  1.01021774\n",
      "  1.01596678  0.97895609  1.1438837   0.99484472  0.78793536  0.9360514\n",
      "  0.60067947  0.75080055  0.9321098   0.6127353   0.51062216  0.27931455\n",
      "  0.40712242  0.29358277  0.36065506 -0.01552232  0.01512626 -0.03168701\n",
      " -0.09055745 -0.17180865 -0.38750148 -0.50198593 -0.48808333 -0.6440842\n",
      " -0.63195026 -0.7390351  -0.88836416 -1.03324726 -0.93921039 -0.89717663\n",
      " -1.02200496 -1.0561271  -0.87972227 -0.84889081 -0.99788438 -0.90537247\n",
      " -0.8969171  -0.8256215  -0.83107574 -0.63606335 -0.60384074 -0.42549704\n",
      " -0.3923438  -0.47389083 -0.19848861 -0.30347237 -0.07202937 -0.02072551\n",
      "  0.01140838  0.16258354  0.31168837  0.40210582  0.41233222  0.58300737\n",
      "  0.4634775   0.67672334  0.74621492  0.83593874  0.74564454]\n"
     ]
    }
   ],
   "source": [
    "print(validation_target)"
   ]
  },
  {
   "cell_type": "code",
   "execution_count": 25,
   "metadata": {
    "colab": {
     "base_uri": "https://localhost:8080/",
     "height": 282
    },
    "colab_type": "code",
    "id": "vzk-sMctX5Y1",
    "outputId": "1d08a279-2357-49be-a8bf-75efd0c4c513"
   },
   "outputs": [
    {
     "data": {
      "text/plain": [
       "<matplotlib.legend.Legend at 0x7fcf82595e50>"
      ]
     },
     "execution_count": 25,
     "metadata": {},
     "output_type": "execute_result"
    },
    {
     "data": {
      "image/png": "[encoded data removed]",
      "text/plain": [
       "<Figure size 432x288 with 1 Axes>"
      ]
     },
     "metadata": {
      "needs_background": "light"
     },
     "output_type": "display_data"
    }
   ],
   "source": [
    "plt.plot(validation_target, label='forecast_target')\n",
    "plt.plot(validation_predictions, label='forecast_prediction')\n",
    "plt.legend()"
   ]
  },
  {
   "cell_type": "code",
   "execution_count": 26,
   "metadata": {
    "colab": {},
    "colab_type": "code",
    "id": "QT2uafjGYDMz"
   },
   "outputs": [],
   "source": [
    "# Forecast future values (use only self-predictions for making future predictions)\n",
    "validation_target = Y[-N//2:]\n",
    "validation_predictions = []\n",
    "\n",
    "# last train input\n",
    "last_x = X[-N//2] # 1-D array of length T\n",
    "while len(validation_predictions) < len(validation_target):\n",
    "  p = model.predict(last_x.reshape(1, -1))[0,0] # 1x1 array -> scalar\n",
    "\n",
    "  # update the predictions list\n",
    "  validation_predictions.append(p)\n",
    "\n",
    "  # make the new input\n",
    "  last_x = np.roll(last_x, -1)\n",
    "  last_x[-1] = p"
   ]
  },
  {
   "cell_type": "code",
   "execution_count": 27,
   "metadata": {},
   "outputs": [
    {
     "name": "stdout",
     "output_type": "stream",
     "text": [
      "[-1.03006892 -0.97054802 -0.90002603 -1.04537815 -0.87775016 -1.07687349\n",
      " -0.94765871 -0.99767347 -0.98854811 -0.96746258 -0.96187321 -0.99150454\n",
      " -0.75915849 -0.74770433 -0.73881128 -0.58667411 -0.33705834 -0.28516384\n",
      " -0.26857254 -0.24787451 -0.05842074  0.0333968   0.06969565  0.31572135\n",
      "  0.34596613  0.50865344  0.31097853  0.61851735  0.54235549  0.75577906\n",
      "  0.8775509   0.87305775  0.89903941  0.97723233  1.00193924  1.01021774\n",
      "  1.01596678  0.97895609  1.1438837   0.99484472  0.78793536  0.9360514\n",
      "  0.60067947  0.75080055  0.9321098   0.6127353   0.51062216  0.27931455\n",
      "  0.40712242  0.29358277  0.36065506 -0.01552232  0.01512626 -0.03168701\n",
      " -0.09055745 -0.17180865 -0.38750148 -0.50198593 -0.48808333 -0.6440842\n",
      " -0.63195026 -0.7390351  -0.88836416 -1.03324726 -0.93921039 -0.89717663\n",
      " -1.02200496 -1.0561271  -0.87972227 -0.84889081 -0.99788438 -0.90537247\n",
      " -0.8969171  -0.8256215  -0.83107574 -0.63606335 -0.60384074 -0.42549704\n",
      " -0.3923438  -0.47389083 -0.19848861 -0.30347237 -0.07202937 -0.02072551\n",
      "  0.01140838  0.16258354  0.31168837  0.40210582  0.41233222  0.58300737\n",
      "  0.4634775   0.67672334  0.74621492  0.83593874  0.74564454]\n"
     ]
    }
   ],
   "source": [
    "print(validation_target)"
   ]
  },
  {
   "cell_type": "code",
   "execution_count": 20,
   "metadata": {
    "colab": {
     "base_uri": "https://localhost:8080/",
     "height": 282
    },
    "colab_type": "code",
    "id": "w_e7IhiKj-ic",
    "outputId": "39b3140a-f3f1-4fff-f9e1-0f1acfcff773"
   },
   "outputs": [
    {
     "data": {
      "text/plain": [
       "<matplotlib.legend.Legend at 0x7fcf823ca4c0>"
      ]
     },
     "execution_count": 20,
     "metadata": {},
     "output_type": "execute_result"
    },
    {
     "data": {
      "image/png": "[encoded data removed]",
      "text/plain": [
       "<Figure size 432x288 with 1 Axes>"
      ]
     },
     "metadata": {
      "needs_background": "light"
     },
     "output_type": "display_data"
    }
   ],
   "source": [
    "plt.plot(validation_target, label='forecast_target')\n",
    "plt.plot(validation_predictions, label='forecast_prediction')\n",
    "plt.legend()"
   ]
  },
  {
   "cell_type": "code",
   "execution_count": null,
   "metadata": {
    "colab": {},
    "colab_type": "code",
    "id": "wVunmReVe0po"
   },
   "outputs": [],
   "source": []
  }
 ],
 "metadata": {
  "accelerator": "GPU",
  "colab": {
   "name": "TF2.0 Autoregressive Model.ipynb",
   "provenance": []
  },
  "kernelspec": {
   "display_name": "Python 3 (ipykernel)",
   "language": "python",
   "name": "python3"
  },
  "language_info": {
   "codemirror_mode": {
    "name": "ipython",
    "version": 3
   },
   "file_extension": ".py",
   "mimetype": "text/x-python",
   "name": "python",
   "nbconvert_exporter": "python",
   "pygments_lexer": "ipython3",
   "version": "3.8.13"
  }
 },
 "nbformat": 4,
 "nbformat_minor": 1
}
